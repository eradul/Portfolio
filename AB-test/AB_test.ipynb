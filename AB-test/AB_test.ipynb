{
 "cells": [
  {
   "cell_type": "markdown",
   "id": "6e37a231",
   "metadata": {},
   "source": [
    "# <center> A/B-тестирование </center>"
   ]
  },
  {
   "cell_type": "markdown",
   "id": "2e8ab3f3",
   "metadata": {},
   "source": [
    "<b>Описание:</b>\n",
    "\n",
    "Было проведено А/В-тестирование изменений, связанных с внедрением улучшенной рекомендательной системы. \n",
    "\n",
    "<b>Цель:</b> оценка результаты А/В-тестирования.\n",
    "\n",
    "<b>Техническое задание:</b>\n",
    "- название теста: recommender_system_test;\n",
    "- группы: А — контрольная, B — новая платёжная воронка;\n",
    "- дата запуска: 2020-12-07;\n",
    "- дата остановки набора новых пользователей: 2020-12-21;\n",
    "- дата остановки: 2021-01-04;\n",
    "- аудитория: в тест должно быть отобрано 15% новых пользователей из региона EU;\n",
    "- назначение теста: тестирование изменений, связанных с внедрением улучшенной рекомендательной системы;\n",
    "- ожидаемое количество участников теста: 6000;\n",
    "- ожидаемый эффект: за 14 дней с момента регистрации пользователи покажут улучшение каждой метрики не менее, чем на 10%:\n",
    "    - конверсии в просмотр карточек товаров — событие product_page ,\n",
    "    - просмотры корзины — product_cart ,\n",
    "    - покупки — purchase .\n",
    "\n",
    "<b>Задачи:</b>\n",
    "1. Загрузка и предобработка данных.\n",
    "2. Проверка соответствию техническому заданию.\n",
    "3. Исследовательский анализ данных.\n",
    "4. Оценка результатов A/B-тестирования.\n",
    "\n",
    "<b>Описание данных</b>:\n",
    "1. <b>ab_project_marketing_events.csv</b> — календарь маркетинговых событий:\n",
    "    - name — название маркетингового события;\n",
    "    - regions — регионы, в которых будет проводиться рекламная кампания;\n",
    "    - start_dt — дата начала кампании;\n",
    "    - finish_dt — дата завершения кампании.\n",
    "2. <b>final_ab_new_users.csv</b> — все пользователи, зарегистрировавшиеся в интернет-магазине в период с 7 по 21 декабря 2020 года:\n",
    "    - user_id — идентификатор пользователя;\n",
    "    - first_date — дата регистрации;\n",
    "    - region — регион пользователя;\n",
    "    - device — устройство, с которого происходила регистрация.\n",
    "3. <b>final_ab_events.csv</b> — все события новых пользователей в период с 7 декабря 2020 по 4 января 2021 года:\n",
    "    - user_id — идентификатор пользователя;\n",
    "    - event_dt — дата и время события;\n",
    "    - event_name — тип события;\n",
    "    - details — дополнительные данные о событии. Например, для покупок, purchase, в этом поле хранится стоимость покупки в долларах.\n",
    "4. <b>final_ab_participants.csv</b> — таблица участников тестов:\n",
    "    - user_id — идентификатор пользователя;\n",
    "    - ab_test — название теста;\n",
    "    - group — группа пользователя."
   ]
  },
  {
   "cell_type": "markdown",
   "id": "79805460",
   "metadata": {},
   "source": [
    "## Загрузка и предобработка данных"
   ]
  },
  {
   "cell_type": "code",
   "execution_count": 1,
   "id": "b6a27993",
   "metadata": {},
   "outputs": [],
   "source": [
    "#импорт библиотек\n",
    "import pandas as pd\n",
    "import numpy as np\n",
    "import datetime as dt\n",
    "    \n",
    "import matplotlib.pyplot as plt\n",
    "import seaborn as sns\n",
    "\n",
    "from statsmodels.stats.proportion import proportions_ztest\n",
    "\n",
    "import warnings\n",
    "warnings.filterwarnings('ignore')"
   ]
  },
  {
   "cell_type": "markdown",
   "id": "deab0c49",
   "metadata": {},
   "source": [
    "<b> final_ab_events </b>"
   ]
  },
  {
   "cell_type": "code",
   "execution_count": 2,
   "id": "fb6afe62",
   "metadata": {
    "scrolled": true
   },
   "outputs": [
    {
     "data": {
      "text/html": [
       "<div>\n",
       "<style scoped>\n",
       "    .dataframe tbody tr th:only-of-type {\n",
       "        vertical-align: middle;\n",
       "    }\n",
       "\n",
       "    .dataframe tbody tr th {\n",
       "        vertical-align: top;\n",
       "    }\n",
       "\n",
       "    .dataframe thead th {\n",
       "        text-align: right;\n",
       "    }\n",
       "</style>\n",
       "<table border=\"1\" class=\"dataframe\">\n",
       "  <thead>\n",
       "    <tr style=\"text-align: right;\">\n",
       "      <th></th>\n",
       "      <th>user_id</th>\n",
       "      <th>event_dt</th>\n",
       "      <th>event_name</th>\n",
       "      <th>details</th>\n",
       "    </tr>\n",
       "  </thead>\n",
       "  <tbody>\n",
       "    <tr>\n",
       "      <th>0</th>\n",
       "      <td>E1BDDCE0DAFA2679</td>\n",
       "      <td>2020-12-07 20:22:03</td>\n",
       "      <td>purchase</td>\n",
       "      <td>99.99</td>\n",
       "    </tr>\n",
       "    <tr>\n",
       "      <th>1</th>\n",
       "      <td>7B6452F081F49504</td>\n",
       "      <td>2020-12-07 09:22:53</td>\n",
       "      <td>purchase</td>\n",
       "      <td>9.99</td>\n",
       "    </tr>\n",
       "    <tr>\n",
       "      <th>2</th>\n",
       "      <td>9CD9F34546DF254C</td>\n",
       "      <td>2020-12-07 12:59:29</td>\n",
       "      <td>purchase</td>\n",
       "      <td>4.99</td>\n",
       "    </tr>\n",
       "    <tr>\n",
       "      <th>3</th>\n",
       "      <td>96F27A054B191457</td>\n",
       "      <td>2020-12-07 04:02:40</td>\n",
       "      <td>purchase</td>\n",
       "      <td>4.99</td>\n",
       "    </tr>\n",
       "    <tr>\n",
       "      <th>4</th>\n",
       "      <td>1FD7660FDF94CA1F</td>\n",
       "      <td>2020-12-07 10:15:09</td>\n",
       "      <td>purchase</td>\n",
       "      <td>4.99</td>\n",
       "    </tr>\n",
       "  </tbody>\n",
       "</table>\n",
       "</div>"
      ],
      "text/plain": [
       "            user_id             event_dt event_name  details\n",
       "0  E1BDDCE0DAFA2679  2020-12-07 20:22:03   purchase    99.99\n",
       "1  7B6452F081F49504  2020-12-07 09:22:53   purchase     9.99\n",
       "2  9CD9F34546DF254C  2020-12-07 12:59:29   purchase     4.99\n",
       "3  96F27A054B191457  2020-12-07 04:02:40   purchase     4.99\n",
       "4  1FD7660FDF94CA1F  2020-12-07 10:15:09   purchase     4.99"
      ]
     },
     "execution_count": 2,
     "metadata": {},
     "output_type": "execute_result"
    }
   ],
   "source": [
    "#загрузка final_ab_events\n",
    "try:\n",
    "    final_ab_events = pd.read_csv(r'C:\\Users\\Евгения\\python\\Projects\\AB-test\\final_ab_events.csv')\n",
    "except:\n",
    "    print('Ошибка загрузки данных')\n",
    "final_ab_events.head(5)"
   ]
  },
  {
   "cell_type": "code",
   "execution_count": 3,
   "id": "9293e511",
   "metadata": {},
   "outputs": [
    {
     "name": "stdout",
     "output_type": "stream",
     "text": [
      "<class 'pandas.core.frame.DataFrame'>\n",
      "RangeIndex: 440317 entries, 0 to 440316\n",
      "Data columns (total 4 columns):\n",
      " #   Column      Non-Null Count   Dtype  \n",
      "---  ------      --------------   -----  \n",
      " 0   user_id     440317 non-null  object \n",
      " 1   event_dt    440317 non-null  object \n",
      " 2   event_name  440317 non-null  object \n",
      " 3   details     62740 non-null   float64\n",
      "dtypes: float64(1), object(3)\n",
      "memory usage: 13.4+ MB\n"
     ]
    }
   ],
   "source": [
    "#общая информация, в том числе для оценки пропусков и типов данных\n",
    "final_ab_events.info()"
   ]
  },
  {
   "cell_type": "code",
   "execution_count": 4,
   "id": "81567653",
   "metadata": {
    "scrolled": true
   },
   "outputs": [
    {
     "data": {
      "text/plain": [
       "0"
      ]
     },
     "execution_count": 4,
     "metadata": {},
     "output_type": "execute_result"
    }
   ],
   "source": [
    "#проверка полных явных дубликатов \n",
    "final_ab_events.duplicated().sum()"
   ]
  },
  {
   "cell_type": "code",
   "execution_count": 5,
   "id": "6d8eb6e6",
   "metadata": {},
   "outputs": [],
   "source": [
    "#преобразование типов данных \n",
    "final_ab_events['event_dt'] = pd.to_datetime(final_ab_events['event_dt'], format = '%Y-%m-%d %H:%M:%S')"
   ]
  },
  {
   "cell_type": "code",
   "execution_count": 6,
   "id": "515c7d04",
   "metadata": {},
   "outputs": [],
   "source": [
    "#добавление столбца с датой события\n",
    "final_ab_events['event_date'] = final_ab_events['event_dt'].dt.date"
   ]
  },
  {
   "cell_type": "markdown",
   "id": "3fe87841",
   "metadata": {},
   "source": [
    "Загружена таблица с данными о совершенных события. Всего 440317 строк, дубликатов нет.Был преобразован тип данных на datetime в стобце event_dt. Был добавлен столбце даты события.  "
   ]
  },
  {
   "cell_type": "code",
   "execution_count": 7,
   "id": "e55ff106",
   "metadata": {},
   "outputs": [
    {
     "data": {
      "text/plain": [
       "array(['purchase'], dtype=object)"
      ]
     },
     "execution_count": 7,
     "metadata": {},
     "output_type": "execute_result"
    }
   ],
   "source": [
    "#проверка при каких событиях в деталях нет пропусков\n",
    "final_ab_events[~final_ab_events['details'].isna()]['event_name'].unique()"
   ]
  },
  {
   "cell_type": "code",
   "execution_count": 8,
   "id": "493fd90c",
   "metadata": {},
   "outputs": [
    {
     "data": {
      "text/plain": [
       "array([ 99.99,   9.99,   4.99, 499.99])"
      ]
     },
     "execution_count": 8,
     "metadata": {},
     "output_type": "execute_result"
    }
   ],
   "source": [
    "#значения в столбце details при событии purchase\n",
    "final_ab_events[final_ab_events['event_name']=='purchase']['details'].unique()"
   ]
  },
  {
   "cell_type": "markdown",
   "id": "c7ad87d3",
   "metadata": {},
   "source": [
    "В столбце details пропусков нет только при событии purchase, т.е. заказ. В этом столбце указывается стоимость покупки."
   ]
  },
  {
   "cell_type": "markdown",
   "id": "3ba3c7d9",
   "metadata": {},
   "source": [
    "<b> ab_project_marketing_events </b>"
   ]
  },
  {
   "cell_type": "code",
   "execution_count": 9,
   "id": "549ffff2",
   "metadata": {},
   "outputs": [
    {
     "data": {
      "text/html": [
       "<div>\n",
       "<style scoped>\n",
       "    .dataframe tbody tr th:only-of-type {\n",
       "        vertical-align: middle;\n",
       "    }\n",
       "\n",
       "    .dataframe tbody tr th {\n",
       "        vertical-align: top;\n",
       "    }\n",
       "\n",
       "    .dataframe thead th {\n",
       "        text-align: right;\n",
       "    }\n",
       "</style>\n",
       "<table border=\"1\" class=\"dataframe\">\n",
       "  <thead>\n",
       "    <tr style=\"text-align: right;\">\n",
       "      <th></th>\n",
       "      <th>name</th>\n",
       "      <th>regions</th>\n",
       "      <th>start_dt</th>\n",
       "      <th>finish_dt</th>\n",
       "    </tr>\n",
       "  </thead>\n",
       "  <tbody>\n",
       "    <tr>\n",
       "      <th>0</th>\n",
       "      <td>Christmas&amp;New Year Promo</td>\n",
       "      <td>EU, N.America</td>\n",
       "      <td>2020-12-25</td>\n",
       "      <td>2021-01-03</td>\n",
       "    </tr>\n",
       "    <tr>\n",
       "      <th>1</th>\n",
       "      <td>St. Valentine's Day Giveaway</td>\n",
       "      <td>EU, CIS, APAC, N.America</td>\n",
       "      <td>2020-02-14</td>\n",
       "      <td>2020-02-16</td>\n",
       "    </tr>\n",
       "    <tr>\n",
       "      <th>2</th>\n",
       "      <td>St. Patric's Day Promo</td>\n",
       "      <td>EU, N.America</td>\n",
       "      <td>2020-03-17</td>\n",
       "      <td>2020-03-19</td>\n",
       "    </tr>\n",
       "    <tr>\n",
       "      <th>3</th>\n",
       "      <td>Easter Promo</td>\n",
       "      <td>EU, CIS, APAC, N.America</td>\n",
       "      <td>2020-04-12</td>\n",
       "      <td>2020-04-19</td>\n",
       "    </tr>\n",
       "    <tr>\n",
       "      <th>4</th>\n",
       "      <td>4th of July Promo</td>\n",
       "      <td>N.America</td>\n",
       "      <td>2020-07-04</td>\n",
       "      <td>2020-07-11</td>\n",
       "    </tr>\n",
       "  </tbody>\n",
       "</table>\n",
       "</div>"
      ],
      "text/plain": [
       "                           name                   regions    start_dt  \\\n",
       "0      Christmas&New Year Promo             EU, N.America  2020-12-25   \n",
       "1  St. Valentine's Day Giveaway  EU, CIS, APAC, N.America  2020-02-14   \n",
       "2        St. Patric's Day Promo             EU, N.America  2020-03-17   \n",
       "3                  Easter Promo  EU, CIS, APAC, N.America  2020-04-12   \n",
       "4             4th of July Promo                 N.America  2020-07-04   \n",
       "\n",
       "    finish_dt  \n",
       "0  2021-01-03  \n",
       "1  2020-02-16  \n",
       "2  2020-03-19  \n",
       "3  2020-04-19  \n",
       "4  2020-07-11  "
      ]
     },
     "execution_count": 9,
     "metadata": {},
     "output_type": "execute_result"
    }
   ],
   "source": [
    "#загрузка ab_project_marketing_events\n",
    "try:\n",
    "    ab_project_marketing_events = pd.read_csv(r'C:\\Users\\Евгения\\python\\Projects\\AB-test\\ab_project_marketing_events.csv')\n",
    "except:\n",
    "    print('Ошибка загрузки данных')\n",
    "ab_project_marketing_events.head()"
   ]
  },
  {
   "cell_type": "code",
   "execution_count": 10,
   "id": "0162195f",
   "metadata": {
    "scrolled": true
   },
   "outputs": [
    {
     "name": "stdout",
     "output_type": "stream",
     "text": [
      "<class 'pandas.core.frame.DataFrame'>\n",
      "RangeIndex: 14 entries, 0 to 13\n",
      "Data columns (total 4 columns):\n",
      " #   Column     Non-Null Count  Dtype \n",
      "---  ------     --------------  ----- \n",
      " 0   name       14 non-null     object\n",
      " 1   regions    14 non-null     object\n",
      " 2   start_dt   14 non-null     object\n",
      " 3   finish_dt  14 non-null     object\n",
      "dtypes: object(4)\n",
      "memory usage: 576.0+ bytes\n"
     ]
    }
   ],
   "source": [
    "#общая информация, в том числе для оценки пропусков и типов данных\n",
    "ab_project_marketing_events.info()"
   ]
  },
  {
   "cell_type": "code",
   "execution_count": 11,
   "id": "f5d8f8a4",
   "metadata": {
    "scrolled": true
   },
   "outputs": [
    {
     "data": {
      "text/plain": [
       "0"
      ]
     },
     "execution_count": 11,
     "metadata": {},
     "output_type": "execute_result"
    }
   ],
   "source": [
    "#проверка полных явных дубликатов \n",
    "ab_project_marketing_events.duplicated().sum()"
   ]
  },
  {
   "cell_type": "code",
   "execution_count": 12,
   "id": "a9ea7307",
   "metadata": {
    "scrolled": true
   },
   "outputs": [
    {
     "data": {
      "text/plain": [
       "array(['Christmas&New Year Promo', \"St. Valentine's Day Giveaway\",\n",
       "       \"St. Patric's Day Promo\", 'Easter Promo', '4th of July Promo',\n",
       "       'Black Friday Ads Campaign', 'Chinese New Year Promo',\n",
       "       'Labor day (May 1st) Ads Campaign',\n",
       "       \"International Women's Day Promo\",\n",
       "       'Victory Day CIS (May 9th) Event', 'CIS New Year Gift Lottery',\n",
       "       'Dragon Boat Festival Giveaway', \"Single's Day Gift Promo\",\n",
       "       'Chinese Moon Festival'], dtype=object)"
      ]
     },
     "execution_count": 12,
     "metadata": {},
     "output_type": "execute_result"
    }
   ],
   "source": [
    "#уникальные названия маркетингового события для проверки неявных дубликатов \n",
    "ab_project_marketing_events['name'].unique()"
   ]
  },
  {
   "cell_type": "code",
   "execution_count": 13,
   "id": "c219acc5",
   "metadata": {
    "scrolled": true
   },
   "outputs": [
    {
     "data": {
      "text/plain": [
       "array(['EU, N.America', 'EU, CIS, APAC, N.America', 'N.America', 'APAC',\n",
       "       'EU, CIS, APAC', 'CIS'], dtype=object)"
      ]
     },
     "execution_count": 13,
     "metadata": {},
     "output_type": "execute_result"
    }
   ],
   "source": [
    "#уникальные регионы маркетингового события для проверки неявных дубликатов \n",
    "ab_project_marketing_events['regions'].unique()"
   ]
  },
  {
   "cell_type": "code",
   "execution_count": 14,
   "id": "5aaaaa2c",
   "metadata": {},
   "outputs": [],
   "source": [
    "#преобразование типов данных \n",
    "ab_project_marketing_events['start_dt'] = pd.to_datetime(ab_project_marketing_events['start_dt'], format = '%Y-%m-%d')\n",
    "ab_project_marketing_events['finish_dt'] = pd.to_datetime(ab_project_marketing_events['finish_dt'], format = '%Y-%m-%d')"
   ]
  },
  {
   "cell_type": "markdown",
   "id": "dcddfe05",
   "metadata": {},
   "source": [
    "Загружена таблица с данными о маркетинговых событиях. Всего 14 строк, дубликатов нет, пропусков нет. Был преобразован тип данных на datetime в стобцах дат начала и окончания маркетингового события."
   ]
  },
  {
   "cell_type": "markdown",
   "id": "1a2dda3f",
   "metadata": {},
   "source": [
    "<b> final_ab_new_users </b>"
   ]
  },
  {
   "cell_type": "code",
   "execution_count": 15,
   "id": "c17e3329",
   "metadata": {},
   "outputs": [
    {
     "data": {
      "text/html": [
       "<div>\n",
       "<style scoped>\n",
       "    .dataframe tbody tr th:only-of-type {\n",
       "        vertical-align: middle;\n",
       "    }\n",
       "\n",
       "    .dataframe tbody tr th {\n",
       "        vertical-align: top;\n",
       "    }\n",
       "\n",
       "    .dataframe thead th {\n",
       "        text-align: right;\n",
       "    }\n",
       "</style>\n",
       "<table border=\"1\" class=\"dataframe\">\n",
       "  <thead>\n",
       "    <tr style=\"text-align: right;\">\n",
       "      <th></th>\n",
       "      <th>user_id</th>\n",
       "      <th>first_date</th>\n",
       "      <th>region</th>\n",
       "      <th>device</th>\n",
       "    </tr>\n",
       "  </thead>\n",
       "  <tbody>\n",
       "    <tr>\n",
       "      <th>0</th>\n",
       "      <td>D72A72121175D8BE</td>\n",
       "      <td>2020-12-07</td>\n",
       "      <td>EU</td>\n",
       "      <td>PC</td>\n",
       "    </tr>\n",
       "    <tr>\n",
       "      <th>1</th>\n",
       "      <td>F1C668619DFE6E65</td>\n",
       "      <td>2020-12-07</td>\n",
       "      <td>N.America</td>\n",
       "      <td>Android</td>\n",
       "    </tr>\n",
       "    <tr>\n",
       "      <th>2</th>\n",
       "      <td>2E1BF1D4C37EA01F</td>\n",
       "      <td>2020-12-07</td>\n",
       "      <td>EU</td>\n",
       "      <td>PC</td>\n",
       "    </tr>\n",
       "    <tr>\n",
       "      <th>3</th>\n",
       "      <td>50734A22C0C63768</td>\n",
       "      <td>2020-12-07</td>\n",
       "      <td>EU</td>\n",
       "      <td>iPhone</td>\n",
       "    </tr>\n",
       "    <tr>\n",
       "      <th>4</th>\n",
       "      <td>E1BDDCE0DAFA2679</td>\n",
       "      <td>2020-12-07</td>\n",
       "      <td>N.America</td>\n",
       "      <td>iPhone</td>\n",
       "    </tr>\n",
       "  </tbody>\n",
       "</table>\n",
       "</div>"
      ],
      "text/plain": [
       "            user_id  first_date     region   device\n",
       "0  D72A72121175D8BE  2020-12-07         EU       PC\n",
       "1  F1C668619DFE6E65  2020-12-07  N.America  Android\n",
       "2  2E1BF1D4C37EA01F  2020-12-07         EU       PC\n",
       "3  50734A22C0C63768  2020-12-07         EU   iPhone\n",
       "4  E1BDDCE0DAFA2679  2020-12-07  N.America   iPhone"
      ]
     },
     "execution_count": 15,
     "metadata": {},
     "output_type": "execute_result"
    }
   ],
   "source": [
    "#загрузка final_ab_new_users\n",
    "try:\n",
    "    final_ab_new_users = pd.read_csv(r'C:\\Users\\Евгения\\python\\Projects\\AB-test\\final_ab_new_users.csv')\n",
    "except:\n",
    "    print('Ошибка загрузки данных')\n",
    "final_ab_new_users.head(5)"
   ]
  },
  {
   "cell_type": "code",
   "execution_count": 16,
   "id": "e3f4f06b",
   "metadata": {
    "scrolled": true
   },
   "outputs": [
    {
     "name": "stdout",
     "output_type": "stream",
     "text": [
      "<class 'pandas.core.frame.DataFrame'>\n",
      "RangeIndex: 61733 entries, 0 to 61732\n",
      "Data columns (total 4 columns):\n",
      " #   Column      Non-Null Count  Dtype \n",
      "---  ------      --------------  ----- \n",
      " 0   user_id     61733 non-null  object\n",
      " 1   first_date  61733 non-null  object\n",
      " 2   region      61733 non-null  object\n",
      " 3   device      61733 non-null  object\n",
      "dtypes: object(4)\n",
      "memory usage: 1.9+ MB\n"
     ]
    }
   ],
   "source": [
    "#общая информация, в том числе для оценки пропусков и типов данных\n",
    "final_ab_new_users.info()"
   ]
  },
  {
   "cell_type": "code",
   "execution_count": 17,
   "id": "124cdebe",
   "metadata": {
    "scrolled": false
   },
   "outputs": [
    {
     "data": {
      "text/plain": [
       "0"
      ]
     },
     "execution_count": 17,
     "metadata": {},
     "output_type": "execute_result"
    }
   ],
   "source": [
    "#проверка полных явных дубликатов \n",
    "final_ab_new_users.duplicated().sum()"
   ]
  },
  {
   "cell_type": "code",
   "execution_count": 18,
   "id": "d79433e3",
   "metadata": {},
   "outputs": [
    {
     "data": {
      "text/plain": [
       "0"
      ]
     },
     "execution_count": 18,
     "metadata": {},
     "output_type": "execute_result"
    }
   ],
   "source": [
    "#проверка дубликатов в столбце user_id\n",
    "final_ab_new_users['user_id'].duplicated().sum()"
   ]
  },
  {
   "cell_type": "code",
   "execution_count": 19,
   "id": "f2ce820e",
   "metadata": {},
   "outputs": [
    {
     "data": {
      "text/plain": [
       "array(['EU', 'N.America', 'APAC', 'CIS'], dtype=object)"
      ]
     },
     "execution_count": 19,
     "metadata": {},
     "output_type": "execute_result"
    }
   ],
   "source": [
    "#уникальные регионов пользователя для проверки неявных дубликатов \n",
    "final_ab_new_users['region'].unique()"
   ]
  },
  {
   "cell_type": "code",
   "execution_count": 20,
   "id": "5059b2c4",
   "metadata": {},
   "outputs": [
    {
     "data": {
      "text/plain": [
       "array(['PC', 'Android', 'iPhone', 'Mac'], dtype=object)"
      ]
     },
     "execution_count": 20,
     "metadata": {},
     "output_type": "execute_result"
    }
   ],
   "source": [
    "#уникальные устройства для проверки неявных дубликатов \n",
    "final_ab_new_users['device'].unique()"
   ]
  },
  {
   "cell_type": "code",
   "execution_count": 21,
   "id": "869839c0",
   "metadata": {},
   "outputs": [],
   "source": [
    "#преобразование типов данных \n",
    "final_ab_new_users['first_date'] = pd.to_datetime(final_ab_new_users['first_date'], format = '%Y-%m-%d')"
   ]
  },
  {
   "cell_type": "markdown",
   "id": "e2a2945b",
   "metadata": {},
   "source": [
    "Загружена таблица с данными о маркетинговых событиях. Всего 61733 строки, дубликатов нет, пропусков нет. Был преобразован тип данных на datetime в стобцах даты регистрации."
   ]
  },
  {
   "cell_type": "markdown",
   "id": "c9643e97",
   "metadata": {},
   "source": [
    "<b> final_ab_participants </b>"
   ]
  },
  {
   "cell_type": "code",
   "execution_count": 22,
   "id": "6c90e197",
   "metadata": {},
   "outputs": [
    {
     "data": {
      "text/html": [
       "<div>\n",
       "<style scoped>\n",
       "    .dataframe tbody tr th:only-of-type {\n",
       "        vertical-align: middle;\n",
       "    }\n",
       "\n",
       "    .dataframe tbody tr th {\n",
       "        vertical-align: top;\n",
       "    }\n",
       "\n",
       "    .dataframe thead th {\n",
       "        text-align: right;\n",
       "    }\n",
       "</style>\n",
       "<table border=\"1\" class=\"dataframe\">\n",
       "  <thead>\n",
       "    <tr style=\"text-align: right;\">\n",
       "      <th></th>\n",
       "      <th>user_id</th>\n",
       "      <th>group</th>\n",
       "      <th>ab_test</th>\n",
       "    </tr>\n",
       "  </thead>\n",
       "  <tbody>\n",
       "    <tr>\n",
       "      <th>0</th>\n",
       "      <td>D1ABA3E2887B6A73</td>\n",
       "      <td>A</td>\n",
       "      <td>recommender_system_test</td>\n",
       "    </tr>\n",
       "    <tr>\n",
       "      <th>1</th>\n",
       "      <td>A7A3664BD6242119</td>\n",
       "      <td>A</td>\n",
       "      <td>recommender_system_test</td>\n",
       "    </tr>\n",
       "    <tr>\n",
       "      <th>2</th>\n",
       "      <td>DABC14FDDFADD29E</td>\n",
       "      <td>A</td>\n",
       "      <td>recommender_system_test</td>\n",
       "    </tr>\n",
       "    <tr>\n",
       "      <th>3</th>\n",
       "      <td>04988C5DF189632E</td>\n",
       "      <td>A</td>\n",
       "      <td>recommender_system_test</td>\n",
       "    </tr>\n",
       "    <tr>\n",
       "      <th>4</th>\n",
       "      <td>482F14783456D21B</td>\n",
       "      <td>B</td>\n",
       "      <td>recommender_system_test</td>\n",
       "    </tr>\n",
       "  </tbody>\n",
       "</table>\n",
       "</div>"
      ],
      "text/plain": [
       "            user_id group                  ab_test\n",
       "0  D1ABA3E2887B6A73     A  recommender_system_test\n",
       "1  A7A3664BD6242119     A  recommender_system_test\n",
       "2  DABC14FDDFADD29E     A  recommender_system_test\n",
       "3  04988C5DF189632E     A  recommender_system_test\n",
       "4  482F14783456D21B     B  recommender_system_test"
      ]
     },
     "execution_count": 22,
     "metadata": {},
     "output_type": "execute_result"
    }
   ],
   "source": [
    "#загрузка final_ab_events\n",
    "try:\n",
    "    final_ab_participants = pd.read_csv(r'C:\\Users\\Евгения\\python\\Projects\\AB-test\\final_ab_participants.csv')\n",
    "except:\n",
    "    print('Ошибка загрузки данных')\n",
    "final_ab_participants.head(5)"
   ]
  },
  {
   "cell_type": "code",
   "execution_count": 23,
   "id": "3da779a7",
   "metadata": {},
   "outputs": [
    {
     "name": "stdout",
     "output_type": "stream",
     "text": [
      "<class 'pandas.core.frame.DataFrame'>\n",
      "RangeIndex: 18268 entries, 0 to 18267\n",
      "Data columns (total 3 columns):\n",
      " #   Column   Non-Null Count  Dtype \n",
      "---  ------   --------------  ----- \n",
      " 0   user_id  18268 non-null  object\n",
      " 1   group    18268 non-null  object\n",
      " 2   ab_test  18268 non-null  object\n",
      "dtypes: object(3)\n",
      "memory usage: 428.3+ KB\n"
     ]
    }
   ],
   "source": [
    "#общая информация, в том числе для оценки пропусков и типов данных\n",
    "final_ab_participants.info()"
   ]
  },
  {
   "cell_type": "code",
   "execution_count": 24,
   "id": "03fb602b",
   "metadata": {
    "scrolled": false
   },
   "outputs": [
    {
     "data": {
      "text/plain": [
       "0"
      ]
     },
     "execution_count": 24,
     "metadata": {},
     "output_type": "execute_result"
    }
   ],
   "source": [
    "#проверка полных явных дубликатов \n",
    "final_ab_participants.duplicated().sum()"
   ]
  },
  {
   "cell_type": "code",
   "execution_count": 25,
   "id": "3b28c5cd",
   "metadata": {},
   "outputs": [
    {
     "data": {
      "text/plain": [
       "array(['recommender_system_test', 'interface_eu_test'], dtype=object)"
      ]
     },
     "execution_count": 25,
     "metadata": {},
     "output_type": "execute_result"
    }
   ],
   "source": [
    "#уникальные названий тестов для проверки неявных дубликатов \n",
    "final_ab_participants['ab_test'].unique()"
   ]
  },
  {
   "cell_type": "code",
   "execution_count": 26,
   "id": "fe06b359",
   "metadata": {
    "scrolled": true
   },
   "outputs": [
    {
     "data": {
      "text/plain": [
       "array(['A', 'B'], dtype=object)"
      ]
     },
     "execution_count": 26,
     "metadata": {},
     "output_type": "execute_result"
    }
   ],
   "source": [
    "#уникальные групп для проверки неявных дубликатов \n",
    "final_ab_participants['group'].unique()"
   ]
  },
  {
   "cell_type": "markdown",
   "id": "5dea70fa",
   "metadata": {},
   "source": [
    "Загружена таблица с данными о маркетинговых событиях. Всего 18268 строки, дубликатов нет, пропусков нет. Типы данных корректные."
   ]
  },
  {
   "cell_type": "markdown",
   "id": "c2e9853d",
   "metadata": {},
   "source": [
    "<b>Вывод:</b>\n",
    "\n",
    "Были загружены все данные и проведена необходимая предобработка."
   ]
  },
  {
   "cell_type": "markdown",
   "id": "12eef556",
   "metadata": {},
   "source": [
    "## Проверка данных на соответствие ТЗ"
   ]
  },
  {
   "cell_type": "markdown",
   "id": "29667aaf",
   "metadata": {},
   "source": [
    "Перед оценкой А/В-тестирования необходима проверка соответствию ТЗ."
   ]
  },
  {
   "cell_type": "markdown",
   "id": "5223e08d",
   "metadata": {},
   "source": [
    "### Проверка названия теста и тестируемых групп"
   ]
  },
  {
   "cell_type": "code",
   "execution_count": 27,
   "id": "df697fff",
   "metadata": {},
   "outputs": [
    {
     "data": {
      "text/plain": [
       "array(['recommender_system_test', 'interface_eu_test'], dtype=object)"
      ]
     },
     "execution_count": 27,
     "metadata": {},
     "output_type": "execute_result"
    }
   ],
   "source": [
    "#уникальные названий тестов\n",
    "final_ab_participants['ab_test'].unique()"
   ]
  },
  {
   "cell_type": "markdown",
   "id": "6e9b58f7",
   "metadata": {},
   "source": [
    "Есть данные о другом тесте. Необходимо удалить пользователей, которые принимали участие в другом тесте, а также обоих тестах."
   ]
  },
  {
   "cell_type": "code",
   "execution_count": 28,
   "id": "8c9ed49c",
   "metadata": {
    "scrolled": true
   },
   "outputs": [
    {
     "data": {
      "text/html": [
       "<div>\n",
       "<style scoped>\n",
       "    .dataframe tbody tr th:only-of-type {\n",
       "        vertical-align: middle;\n",
       "    }\n",
       "\n",
       "    .dataframe tbody tr th {\n",
       "        vertical-align: top;\n",
       "    }\n",
       "\n",
       "    .dataframe thead tr th {\n",
       "        text-align: left;\n",
       "    }\n",
       "\n",
       "    .dataframe thead tr:last-of-type th {\n",
       "        text-align: right;\n",
       "    }\n",
       "</style>\n",
       "<table border=\"1\" class=\"dataframe\">\n",
       "  <thead>\n",
       "    <tr>\n",
       "      <th></th>\n",
       "      <th colspan=\"2\" halign=\"left\">count</th>\n",
       "    </tr>\n",
       "    <tr>\n",
       "      <th>group</th>\n",
       "      <th>A</th>\n",
       "      <th>B</th>\n",
       "    </tr>\n",
       "    <tr>\n",
       "      <th>ab_test</th>\n",
       "      <th></th>\n",
       "      <th></th>\n",
       "    </tr>\n",
       "  </thead>\n",
       "  <tbody>\n",
       "    <tr>\n",
       "      <th>interface_eu_test</th>\n",
       "      <td>5831</td>\n",
       "      <td>5736</td>\n",
       "    </tr>\n",
       "    <tr>\n",
       "      <th>recommender_system_test</th>\n",
       "      <td>3824</td>\n",
       "      <td>2877</td>\n",
       "    </tr>\n",
       "  </tbody>\n",
       "</table>\n",
       "</div>"
      ],
      "text/plain": [
       "                        count      \n",
       "group                       A     B\n",
       "ab_test                            \n",
       "interface_eu_test        5831  5736\n",
       "recommender_system_test  3824  2877"
      ]
     },
     "execution_count": 28,
     "metadata": {},
     "output_type": "execute_result"
    }
   ],
   "source": [
    "#распределение пользователей по тесту и группе\n",
    "final_ab_participants.pivot_table(index = 'ab_test', columns = 'group', values ='user_id' , aggfunc = {'count'})"
   ]
  },
  {
   "cell_type": "markdown",
   "id": "4e10e4e6",
   "metadata": {},
   "source": [
    "В списке участников тестирования были данные о 2 тестированиях. В каждом тестировании 2 группы А и В, что соответствует ТЗ.\n",
    "\n",
    "Для того, чтобы результаты были оценены корректно, необходимо проверить наличие пользователей, которые попали в оба тестирования. И при их наличии, исключить из списка участников."
   ]
  },
  {
   "cell_type": "code",
   "execution_count": 68,
   "id": "a7ae3742",
   "metadata": {},
   "outputs": [],
   "source": [
    "#пользователи, которые принимали участие в обоих тестах\n",
    "temp = final_ab_participants.groupby('user_id', as_index=False).agg({'ab_test': 'nunique'}).query('ab_test > 1')"
   ]
  },
  {
   "cell_type": "code",
   "execution_count": 30,
   "id": "d6e0d615",
   "metadata": {},
   "outputs": [
    {
     "name": "stdout",
     "output_type": "stream",
     "text": [
      "Количество пользователей, которые попали в оба теста: 1602\n",
      "Доля пользователей, которые попали в оба теста: 9.61%\n",
      "\n",
      "Количество пользователей, которые попали только в interface_eu_test: 9965\n",
      "Доля пользователей, которые попали только в interface_eu_test: 59.79%\n",
      "\n",
      "Количество пользователей, которые попали только в recommender_system_test: 5099\n",
      "Доля пользователей, которые попали только в recommender_system_test: 30.60%\n"
     ]
    }
   ],
   "source": [
    "#расчет количества пользователей, которые попали в каждый тетс и оба сразу и их доли от общего количества уникальных пользователей\n",
    "print('Количество пользователей, которые попали в оба теста:', len(temp))\n",
    "print(f\"Доля пользователей, которые попали в оба теста: {len(temp)/final_ab_participants['user_id'].nunique()*100:.2f}%\")\n",
    "print()\n",
    "print('Количество пользователей, которые попали только в interface_eu_test:', len(final_ab_participants[(final_ab_participants['ab_test'] == 'interface_eu_test')&(~final_ab_participants['user_id'].isin(temp['user_id']))]))\n",
    "print(f\"Доля пользователей, которые попали только в interface_eu_test: {len(final_ab_participants[(final_ab_participants['ab_test'] == 'interface_eu_test')&(~final_ab_participants['user_id'].isin(temp['user_id']))])/final_ab_participants['user_id'].nunique()*100:.2f}%\")\n",
    "print()\n",
    "print('Количество пользователей, которые попали только в recommender_system_test:', len(final_ab_participants[(final_ab_participants['ab_test'] == 'recommender_system_test')&(~final_ab_participants['user_id'].isin(temp['user_id']))]))\n",
    "print(f\"Доля пользователей, которые попали только в recommender_system_test: {len(final_ab_participants[(final_ab_participants['ab_test'] == 'recommender_system_test')&(~final_ab_participants['user_id'].isin(temp['user_id']))])/final_ab_participants['user_id'].nunique()*100:.2f}%\")"
   ]
  },
  {
   "cell_type": "markdown",
   "id": "4515e17f",
   "metadata": {},
   "source": [
    "В списке участников тестирования 9.61% попали в оба тестирования и 59.79% попали в конкурирующее тестирования. И только 30.6% пользователей подходят для оценки результатов тестирования. Оставим только подходящих пользователей в списке участников. "
   ]
  },
  {
   "cell_type": "code",
   "execution_count": 31,
   "id": "039700bf",
   "metadata": {},
   "outputs": [
    {
     "name": "stdout",
     "output_type": "stream",
     "text": [
      "<class 'pandas.core.frame.DataFrame'>\n",
      "Int64Index: 5099 entries, 0 to 6700\n",
      "Data columns (total 3 columns):\n",
      " #   Column   Non-Null Count  Dtype \n",
      "---  ------   --------------  ----- \n",
      " 0   user_id  5099 non-null   object\n",
      " 1   group    5099 non-null   object\n",
      " 2   ab_test  5099 non-null   object\n",
      "dtypes: object(3)\n",
      "memory usage: 159.3+ KB\n"
     ]
    }
   ],
   "source": [
    "#удаление пользователей, которые приняли участие не в том тесте или в 2 тестах\n",
    "final_ab_participants = (final_ab_participants[\n",
    "    (final_ab_participants['ab_test'] == 'recommender_system_test')&\n",
    "   (~final_ab_participants['user_id'].isin(temp['user_id']))])\n",
    "final_ab_participants.info()"
   ]
  },
  {
   "cell_type": "markdown",
   "id": "988274d5",
   "metadata": {},
   "source": [
    "Необходима также проверка на наличие пользователей, которые попали в 2 группы тестирования."
   ]
  },
  {
   "cell_type": "code",
   "execution_count": 32,
   "id": "baf1f9ab",
   "metadata": {},
   "outputs": [
    {
     "data": {
      "text/plain": [
       "0"
      ]
     },
     "execution_count": 32,
     "metadata": {},
     "output_type": "execute_result"
    }
   ],
   "source": [
    "#проверка на пересечение групп А и В в тесте\n",
    "len(final_ab_participants.groupby('user_id', as_index=False).agg({'group': 'nunique'}).query('group > 1'))"
   ]
  },
  {
   "cell_type": "code",
   "execution_count": 33,
   "id": "278a6fd8",
   "metadata": {},
   "outputs": [
    {
     "data": {
      "text/html": [
       "<div>\n",
       "<style scoped>\n",
       "    .dataframe tbody tr th:only-of-type {\n",
       "        vertical-align: middle;\n",
       "    }\n",
       "\n",
       "    .dataframe tbody tr th {\n",
       "        vertical-align: top;\n",
       "    }\n",
       "\n",
       "    .dataframe thead th {\n",
       "        text-align: right;\n",
       "    }\n",
       "</style>\n",
       "<table border=\"1\" class=\"dataframe\">\n",
       "  <thead>\n",
       "    <tr style=\"text-align: right;\">\n",
       "      <th></th>\n",
       "      <th>group</th>\n",
       "      <th>user_id</th>\n",
       "    </tr>\n",
       "  </thead>\n",
       "  <tbody>\n",
       "    <tr>\n",
       "      <th>0</th>\n",
       "      <td>A</td>\n",
       "      <td>2903</td>\n",
       "    </tr>\n",
       "    <tr>\n",
       "      <th>1</th>\n",
       "      <td>B</td>\n",
       "      <td>2196</td>\n",
       "    </tr>\n",
       "  </tbody>\n",
       "</table>\n",
       "</div>"
      ],
      "text/plain": [
       "  group  user_id\n",
       "0     A     2903\n",
       "1     B     2196"
      ]
     },
     "execution_count": 33,
     "metadata": {},
     "output_type": "execute_result"
    }
   ],
   "source": [
    "#распределение по группам\n",
    "final_ab_participants.groupby('group', as_index = False)['user_id'].count()"
   ]
  },
  {
   "cell_type": "code",
   "execution_count": 34,
   "id": "8f0af84c",
   "metadata": {},
   "outputs": [
    {
     "data": {
      "text/plain": [
       "32.19"
      ]
     },
     "execution_count": 34,
     "metadata": {},
     "output_type": "execute_result"
    }
   ],
   "source": [
    "#относительная разница\n",
    "round((len(final_ab_participants[final_ab_participants['group']=='A'])/len(final_ab_participants[final_ab_participants['group']=='B'])-1)*100,2)"
   ]
  },
  {
   "cell_type": "markdown",
   "id": "549554c6",
   "metadata": {},
   "source": [
    "<b>Вывод:</b>\n",
    "\n",
    "Были удалены пользователи, которые попали в 2 тестирования. Пересечений в группах А и В тестирования нет. После фильтрации списка участников осталось 5099 человек, что меньше требуемого количество по ТЗ. Группы распределены не равномерно, относительная разница групп составила 32%. "
   ]
  },
  {
   "cell_type": "markdown",
   "id": "eccb94e2",
   "metadata": {},
   "source": [
    "### Проверка даты запуска теста"
   ]
  },
  {
   "cell_type": "code",
   "execution_count": 35,
   "id": "1abf7bec",
   "metadata": {},
   "outputs": [
    {
     "name": "stdout",
     "output_type": "stream",
     "text": [
      "Дата первого дня записи событий: 2020-12-07\n"
     ]
    }
   ],
   "source": [
    "#проверка первой даты записи событий\n",
    "print('Дата первого дня записи событий:', final_ab_events['event_date'].min())"
   ]
  },
  {
   "cell_type": "markdown",
   "id": "a2f76cae",
   "metadata": {},
   "source": [
    "<b>Вывод:</b>\n",
    "\n",
    "Данные о начале регистрации событий для тестирования соответствует ТЗ."
   ]
  },
  {
   "cell_type": "markdown",
   "id": "14b9c7d8",
   "metadata": {},
   "source": [
    "### Проверка даты остановки набора новых пользователей"
   ]
  },
  {
   "cell_type": "code",
   "execution_count": 36,
   "id": "4526849c",
   "metadata": {},
   "outputs": [
    {
     "data": {
      "text/html": [
       "<div>\n",
       "<style scoped>\n",
       "    .dataframe tbody tr th:only-of-type {\n",
       "        vertical-align: middle;\n",
       "    }\n",
       "\n",
       "    .dataframe tbody tr th {\n",
       "        vertical-align: top;\n",
       "    }\n",
       "\n",
       "    .dataframe thead th {\n",
       "        text-align: right;\n",
       "    }\n",
       "</style>\n",
       "<table border=\"1\" class=\"dataframe\">\n",
       "  <thead>\n",
       "    <tr style=\"text-align: right;\">\n",
       "      <th></th>\n",
       "      <th>user_id</th>\n",
       "      <th>group</th>\n",
       "      <th>ab_test</th>\n",
       "      <th>first_date</th>\n",
       "      <th>region</th>\n",
       "      <th>device</th>\n",
       "    </tr>\n",
       "  </thead>\n",
       "  <tbody>\n",
       "    <tr>\n",
       "      <th>0</th>\n",
       "      <td>D1ABA3E2887B6A73</td>\n",
       "      <td>A</td>\n",
       "      <td>recommender_system_test</td>\n",
       "      <td>2020-12-07</td>\n",
       "      <td>EU</td>\n",
       "      <td>PC</td>\n",
       "    </tr>\n",
       "    <tr>\n",
       "      <th>1</th>\n",
       "      <td>A7A3664BD6242119</td>\n",
       "      <td>A</td>\n",
       "      <td>recommender_system_test</td>\n",
       "      <td>2020-12-20</td>\n",
       "      <td>EU</td>\n",
       "      <td>iPhone</td>\n",
       "    </tr>\n",
       "    <tr>\n",
       "      <th>2</th>\n",
       "      <td>482F14783456D21B</td>\n",
       "      <td>B</td>\n",
       "      <td>recommender_system_test</td>\n",
       "      <td>2020-12-14</td>\n",
       "      <td>EU</td>\n",
       "      <td>PC</td>\n",
       "    </tr>\n",
       "    <tr>\n",
       "      <th>3</th>\n",
       "      <td>4FF2998A348C484F</td>\n",
       "      <td>A</td>\n",
       "      <td>recommender_system_test</td>\n",
       "      <td>2020-12-20</td>\n",
       "      <td>EU</td>\n",
       "      <td>Mac</td>\n",
       "    </tr>\n",
       "    <tr>\n",
       "      <th>4</th>\n",
       "      <td>7473E0943673C09E</td>\n",
       "      <td>A</td>\n",
       "      <td>recommender_system_test</td>\n",
       "      <td>2020-12-16</td>\n",
       "      <td>EU</td>\n",
       "      <td>iPhone</td>\n",
       "    </tr>\n",
       "  </tbody>\n",
       "</table>\n",
       "</div>"
      ],
      "text/plain": [
       "            user_id group                  ab_test first_date region  device\n",
       "0  D1ABA3E2887B6A73     A  recommender_system_test 2020-12-07     EU      PC\n",
       "1  A7A3664BD6242119     A  recommender_system_test 2020-12-20     EU  iPhone\n",
       "2  482F14783456D21B     B  recommender_system_test 2020-12-14     EU      PC\n",
       "3  4FF2998A348C484F     A  recommender_system_test 2020-12-20     EU     Mac\n",
       "4  7473E0943673C09E     A  recommender_system_test 2020-12-16     EU  iPhone"
      ]
     },
     "execution_count": 36,
     "metadata": {},
     "output_type": "execute_result"
    }
   ],
   "source": [
    "#объединение таблицы участников с таблице новых пользователей\n",
    "merge_users = final_ab_participants.merge(final_ab_new_users, on = 'user_id')\n",
    "merge_users.head()"
   ]
  },
  {
   "cell_type": "code",
   "execution_count": 37,
   "id": "9780e971",
   "metadata": {},
   "outputs": [
    {
     "name": "stdout",
     "output_type": "stream",
     "text": [
      "Дата последнего дня регистрации пользователей: 2020-12-21 00:00:00\n"
     ]
    }
   ],
   "source": [
    "#проверка последней даты регистрации пользователей\n",
    "print('Дата последнего дня регистрации пользователей:', merge_users['first_date'].max())"
   ]
  },
  {
   "cell_type": "markdown",
   "id": "d4d80756",
   "metadata": {},
   "source": [
    "<b>Вывод:</b>\n",
    "\n",
    "Дата остановки набора новых пользователей по ТЗ - 2020-12-21, что совпадает с полученными данными."
   ]
  },
  {
   "cell_type": "markdown",
   "id": "231f8513",
   "metadata": {},
   "source": [
    "### Проверка даты остановки тестирования"
   ]
  },
  {
   "cell_type": "code",
   "execution_count": 38,
   "id": "d1bb20a3",
   "metadata": {
    "scrolled": true
   },
   "outputs": [
    {
     "name": "stdout",
     "output_type": "stream",
     "text": [
      "Дата последнего дня записи событий: 2020-12-30\n"
     ]
    }
   ],
   "source": [
    "#проверка последней даты записи событий\n",
    "print('Дата последнего дня записи событий:', final_ab_events['event_date'].max())"
   ]
  },
  {
   "cell_type": "markdown",
   "id": "cabec824",
   "metadata": {},
   "source": [
    "<b>Вывод:</b>\n",
    "\n",
    "Дата остановки тестирования по ТЗ - 2020-01-04. Однако фактический последний день событий - 2020.12.30. Возможны несколько причин: \n",
    "- тест был остановлен раньше, \n",
    "- с 31.12.2020 пл 04.01.2020 не были никаких действий со стороны пользователей, что может быть связано с празднованием Нового года,\n",
    "- технический сбой."
   ]
  },
  {
   "cell_type": "markdown",
   "id": "5106946e",
   "metadata": {},
   "source": [
    "### Проверка аудитории"
   ]
  },
  {
   "cell_type": "markdown",
   "id": "e3de9b95",
   "metadata": {},
   "source": [
    "По ТЗ в тест должно быть отобрано 15% новых пользователей из региона EU"
   ]
  },
  {
   "cell_type": "code",
   "execution_count": 39,
   "id": "c601c2c8",
   "metadata": {},
   "outputs": [
    {
     "name": "stdout",
     "output_type": "stream",
     "text": [
      "Процент новых пользователей из региона EU: 10.26%\n"
     ]
    }
   ],
   "source": [
    "#расчет количества новых пользователей из региона EU\n",
    "print(f\"Процент новых пользователей из региона EU: {len(merge_users[(merge_users['region'] =='EU') & (merge_users['first_date']>=pd.to_datetime('07.12.2020'))])/len(final_ab_new_users[final_ab_new_users['region'] =='EU'])*100:.2f}%\")\n",
    "     "
   ]
  },
  {
   "cell_type": "markdown",
   "id": "f1a2350f",
   "metadata": {},
   "source": [
    "<b>Вывод:</b>\n",
    "\n",
    "Процент новых пользователей из региона EU 10.26%, что ниже, чем требовалось по ТЗ."
   ]
  },
  {
   "cell_type": "markdown",
   "id": "c386d36a",
   "metadata": {},
   "source": [
    "### Проверка лайфтайма"
   ]
  },
  {
   "cell_type": "markdown",
   "id": "65ff1ac0",
   "metadata": {},
   "source": [
    "По ТЗ необходима оценка эффекта за 14 дней. Поскольку фактическая дата окончания тестирования на 5 дня раньше, чем предполагаемая по ТЗ, необходимо убрать из списка пользователей, которые были зарегистированы позднее 14 дней до фактического окончания тестирования"
   ]
  },
  {
   "cell_type": "code",
   "execution_count": 40,
   "id": "ddbdc00a",
   "metadata": {},
   "outputs": [
    {
     "name": "stdout",
     "output_type": "stream",
     "text": [
      "Дата необходимого окончания набора пользователей: 2020-12-17\n",
      "Количество пользователей, которые были зарегистированы позднее 14 дней до фактического окончания тестирования: 1567\n",
      "Доля пользователей, которые были зарегистированы позднее 14 дней до фактического окончания тестирования: 30.73%\n"
     ]
    }
   ],
   "source": [
    "#расчет количества пользователей, которые были зарегистированы позднее 14 дней до фактического окончания тестирования\n",
    "max_date = final_ab_events['event_date'].max()- pd.Timedelta(days=13)\n",
    "print('Дата необходимого окончания набора пользователей:', max_date)\n",
    "print('Количество пользователей, которые были зарегистированы позднее 14 дней до фактического окончания тестирования:', len(merge_users[merge_users['first_date']>pd.to_datetime(max_date, format = '%Y-%m-%d')]))\n",
    "print(f\"Доля пользователей, которые были зарегистированы позднее 14 дней до фактического окончания тестирования: {len(merge_users[merge_users['first_date']>pd.to_datetime(max_date, format = '%Y-%m-%d')])/merge_users['user_id'].nunique()*100:.2f}%\")\n"
   ]
  },
  {
   "cell_type": "markdown",
   "id": "7d015846",
   "metadata": {},
   "source": [
    "Необходимо удалить пользователей, которые зарегистированы позже 2020-12-17, т.к. они не успевают пройти полный жизненный цикл до даты окончания тестирования."
   ]
  },
  {
   "cell_type": "code",
   "execution_count": 41,
   "id": "7ba6415f",
   "metadata": {},
   "outputs": [],
   "source": [
    "# удаление пользователей, которые зарегистированы позже 2020-12-17\n",
    "merge_users = merge_users[merge_users['first_date']<=pd.to_datetime(max_date, format = '%Y-%m-%d')]"
   ]
  },
  {
   "cell_type": "code",
   "execution_count": 42,
   "id": "6eb47d01",
   "metadata": {},
   "outputs": [
    {
     "data": {
      "text/html": [
       "<div>\n",
       "<style scoped>\n",
       "    .dataframe tbody tr th:only-of-type {\n",
       "        vertical-align: middle;\n",
       "    }\n",
       "\n",
       "    .dataframe tbody tr th {\n",
       "        vertical-align: top;\n",
       "    }\n",
       "\n",
       "    .dataframe thead th {\n",
       "        text-align: right;\n",
       "    }\n",
       "</style>\n",
       "<table border=\"1\" class=\"dataframe\">\n",
       "  <thead>\n",
       "    <tr style=\"text-align: right;\">\n",
       "      <th></th>\n",
       "      <th>group</th>\n",
       "      <th>user_id</th>\n",
       "    </tr>\n",
       "  </thead>\n",
       "  <tbody>\n",
       "    <tr>\n",
       "      <th>0</th>\n",
       "      <td>A</td>\n",
       "      <td>2018</td>\n",
       "    </tr>\n",
       "    <tr>\n",
       "      <th>1</th>\n",
       "      <td>B</td>\n",
       "      <td>1514</td>\n",
       "    </tr>\n",
       "  </tbody>\n",
       "</table>\n",
       "</div>"
      ],
      "text/plain": [
       "  group  user_id\n",
       "0     A     2018\n",
       "1     B     1514"
      ]
     },
     "execution_count": 42,
     "metadata": {},
     "output_type": "execute_result"
    }
   ],
   "source": [
    "# рапределение по группам\n",
    "merge_users.groupby('group', as_index = False)['user_id'].count()"
   ]
  },
  {
   "cell_type": "code",
   "execution_count": 43,
   "id": "08bbeb50",
   "metadata": {},
   "outputs": [
    {
     "data": {
      "text/plain": [
       "33.29"
      ]
     },
     "execution_count": 43,
     "metadata": {},
     "output_type": "execute_result"
    }
   ],
   "source": [
    "# относительная разница\n",
    "round((len(merge_users[merge_users['group']=='A'])/len(merge_users[merge_users['group']=='B'])-1)*100,2)"
   ]
  },
  {
   "cell_type": "markdown",
   "id": "f3d7ae9f",
   "metadata": {},
   "source": [
    "<b>Вывод по проверке данных на соответствии ТЗ:</b>\n",
    "\n",
    "Данные не соответствую ТЗ практически по всем пунктам.\n",
    "\n",
    "Были удалены пользователи, которые приняли участие в другом тесте или попали в оба теста. После фильтрации участиников стало меньше, чем требуется по ТЗ. \n",
    "\n",
    "Дата запуска тестирования соответствует ТЗ.\n",
    "\n",
    "Дата остановки набора новых пользователей соответствует ТЗ.\n",
    "\n",
    "Дата остановки тестирования не соответствует ТЗ, на 5 дней раньше. Поэтому была проведена фильтрация участников, которые не \"проживали\" необходимый по ТЗ 14-днейный жизненный цикл.\n",
    "\n",
    "Было отобрано 10% новых пользователей из региона EU, что не соответствует необходимому уровню по ТЗ.\n",
    "\n",
    "В итоговом списке участников осталось 3532 человек, что почти в 2 раза меньше требуемого. Группы распределены не равномерно."
   ]
  },
  {
   "cell_type": "markdown",
   "id": "3533c59f",
   "metadata": {},
   "source": [
    "## Исследовательский анализ данных"
   ]
  },
  {
   "cell_type": "markdown",
   "id": "f18d53f7",
   "metadata": {},
   "source": [
    "### Проверка маркетинговой активности"
   ]
  },
  {
   "cell_type": "markdown",
   "id": "0da5c5fc",
   "metadata": {},
   "source": [
    "Для проверки объективности проведения тестирования проверим были ли проведены в это время маркетинговые события."
   ]
  },
  {
   "cell_type": "code",
   "execution_count": 44,
   "id": "8944a4a8",
   "metadata": {},
   "outputs": [
    {
     "data": {
      "text/html": [
       "<div>\n",
       "<style scoped>\n",
       "    .dataframe tbody tr th:only-of-type {\n",
       "        vertical-align: middle;\n",
       "    }\n",
       "\n",
       "    .dataframe tbody tr th {\n",
       "        vertical-align: top;\n",
       "    }\n",
       "\n",
       "    .dataframe thead th {\n",
       "        text-align: right;\n",
       "    }\n",
       "</style>\n",
       "<table border=\"1\" class=\"dataframe\">\n",
       "  <thead>\n",
       "    <tr style=\"text-align: right;\">\n",
       "      <th></th>\n",
       "      <th>name</th>\n",
       "      <th>regions</th>\n",
       "      <th>start_dt</th>\n",
       "      <th>finish_dt</th>\n",
       "    </tr>\n",
       "  </thead>\n",
       "  <tbody>\n",
       "    <tr>\n",
       "      <th>0</th>\n",
       "      <td>Christmas&amp;New Year Promo</td>\n",
       "      <td>EU, N.America</td>\n",
       "      <td>2020-12-25</td>\n",
       "      <td>2021-01-03</td>\n",
       "    </tr>\n",
       "    <tr>\n",
       "      <th>10</th>\n",
       "      <td>CIS New Year Gift Lottery</td>\n",
       "      <td>CIS</td>\n",
       "      <td>2020-12-30</td>\n",
       "      <td>2021-01-07</td>\n",
       "    </tr>\n",
       "  </tbody>\n",
       "</table>\n",
       "</div>"
      ],
      "text/plain": [
       "                         name        regions   start_dt  finish_dt\n",
       "0    Christmas&New Year Promo  EU, N.America 2020-12-25 2021-01-03\n",
       "10  CIS New Year Gift Lottery            CIS 2020-12-30 2021-01-07"
      ]
     },
     "execution_count": 44,
     "metadata": {},
     "output_type": "execute_result"
    }
   ],
   "source": [
    "# маркетинговые события, которые проходили во время проведения тестирования.\n",
    "ab_project_marketing_events[(ab_project_marketing_events['start_dt']>=pd.to_datetime('2020.12.07'))&(ab_project_marketing_events['start_dt']<=pd.to_datetime('2021.01.04'))]"
   ]
  },
  {
   "cell_type": "code",
   "execution_count": 45,
   "id": "2f4fccc3",
   "metadata": {},
   "outputs": [
    {
     "data": {
      "text/html": [
       "<div>\n",
       "<style scoped>\n",
       "    .dataframe tbody tr th:only-of-type {\n",
       "        vertical-align: middle;\n",
       "    }\n",
       "\n",
       "    .dataframe tbody tr th {\n",
       "        vertical-align: top;\n",
       "    }\n",
       "\n",
       "    .dataframe thead th {\n",
       "        text-align: right;\n",
       "    }\n",
       "</style>\n",
       "<table border=\"1\" class=\"dataframe\">\n",
       "  <thead>\n",
       "    <tr style=\"text-align: right;\">\n",
       "      <th></th>\n",
       "      <th>region</th>\n",
       "      <th>user_id</th>\n",
       "      <th>ratio</th>\n",
       "    </tr>\n",
       "  </thead>\n",
       "  <tbody>\n",
       "    <tr>\n",
       "      <th>0</th>\n",
       "      <td>APAC</td>\n",
       "      <td>49</td>\n",
       "      <td>1.39</td>\n",
       "    </tr>\n",
       "    <tr>\n",
       "      <th>1</th>\n",
       "      <td>CIS</td>\n",
       "      <td>42</td>\n",
       "      <td>1.19</td>\n",
       "    </tr>\n",
       "    <tr>\n",
       "      <th>2</th>\n",
       "      <td>EU</td>\n",
       "      <td>3285</td>\n",
       "      <td>93.01</td>\n",
       "    </tr>\n",
       "    <tr>\n",
       "      <th>3</th>\n",
       "      <td>N.America</td>\n",
       "      <td>156</td>\n",
       "      <td>4.42</td>\n",
       "    </tr>\n",
       "  </tbody>\n",
       "</table>\n",
       "</div>"
      ],
      "text/plain": [
       "      region  user_id  ratio\n",
       "0       APAC       49   1.39\n",
       "1        CIS       42   1.19\n",
       "2         EU     3285  93.01\n",
       "3  N.America      156   4.42"
      ]
     },
     "execution_count": 45,
     "metadata": {},
     "output_type": "execute_result"
    }
   ],
   "source": [
    "#распределение пользователей по регионам\n",
    "pt_region = merge_users.groupby('region', as_index =False)['user_id'].count()\n",
    "pt_region['ratio'] = round(pt_region['user_id']/pt_region['user_id'].sum()*100,2)\n",
    "pt_region"
   ]
  },
  {
   "cell_type": "markdown",
   "id": "83867981",
   "metadata": {},
   "source": [
    "<b>Вывод: </b>\n",
    "\n",
    "На время тестирования были запланированы 2 маркетирговых события. Оба события проходили после окончания набора новых пользователей для тестирования, так что могли повлиять только на активность.\n",
    "\n",
    "1. Маркетинговое событие Christmas&New Year Promo могло оказать влияние на активность пользователей: даты проведения маркетингового события пересекаются с периодом тестирования, регион маркетингового события включает 97% пользователей. \n",
    "\n",
    "\n",
    "2. Маркетинговое событие CIS New Year Gift Lottery значительно не повлияло на тестирования, т.к. последние события совпадают с датой начала маркетинговой компании, кроме того всего 1% участников тестирования из региона, где проводится данная акция."
   ]
  },
  {
   "cell_type": "markdown",
   "id": "a266d7cc",
   "metadata": {},
   "source": [
    "### Исследование распределения событий по группам"
   ]
  },
  {
   "cell_type": "code",
   "execution_count": 46,
   "id": "0992c27c",
   "metadata": {},
   "outputs": [],
   "source": [
    "# объединение таблицы событий с таблицей участников тестирования\n",
    "ab_test = final_ab_events.merge(merge_users, on = 'user_id')"
   ]
  },
  {
   "cell_type": "code",
   "execution_count": 47,
   "id": "bd08958a",
   "metadata": {},
   "outputs": [
    {
     "name": "stdout",
     "output_type": "stream",
     "text": [
      "Количество событий:  11778\n",
      "Количество событий пользователей в группе А:  8674\n",
      "Количество событий пользователей в группе B:  3104\n"
     ]
    }
   ],
   "source": [
    "# общее количество событий и количество событий по  группам\n",
    "print('Количество событий: ', ab_test['event_name'].count())\n",
    "print('Количество событий пользователей в группе А: ', ab_test[ab_test['group']=='A']['event_name'].count())\n",
    "print('Количество событий пользователей в группе B: ', ab_test[ab_test['group']=='B']['event_name'].count())\n"
   ]
  },
  {
   "cell_type": "code",
   "execution_count": 48,
   "id": "f2ef22b0",
   "metadata": {},
   "outputs": [
    {
     "name": "stdout",
     "output_type": "stream",
     "text": [
      "Количество активных пользователей:  1708\n",
      "Доля активных пользователей:  48.36%\n",
      "Количество активных пользователей в группе А:  1197\n",
      "Количество активных пользователей в группе В:  511\n"
     ]
    }
   ],
   "source": [
    "# общее количество активных ползователей и количество активных пользователей по  группам\n",
    "print('Количество активных пользователей: ', ab_test['user_id'].nunique())\n",
    "print(f\"Доля активных пользователей:  {ab_test['user_id'].nunique()/merge_users['user_id'].nunique()*100:.2f}%\")\n",
    "print('Количество активных пользователей в группе А: ', ab_test[ab_test['group']=='A']['user_id'].nunique())\n",
    "print('Количество активных пользователей в группе В: ', ab_test[ab_test['group']=='B']['user_id'].nunique())"
   ]
  },
  {
   "cell_type": "code",
   "execution_count": 49,
   "id": "afbaee40",
   "metadata": {},
   "outputs": [
    {
     "name": "stdout",
     "output_type": "stream",
     "text": [
      "Количество неактивных пользователей:  1824\n",
      "Доля неактивных пользователей: 51.64%\n",
      "Количество неактивных пользователей в группе А:  821\n",
      "Количество неактивных пользователей в группе В:  1003\n"
     ]
    }
   ],
   "source": [
    "# общее количество и долю неактивных ползователей и количество неактивных пользователей по  группам\n",
    "print('Количество неактивных пользователей: ', merge_users['user_id'].nunique() - ab_test['user_id'].nunique())\n",
    "print(f\"Доля неактивных пользователей: {(merge_users['user_id'].nunique() - ab_test['user_id'].nunique())/merge_users['user_id'].nunique()*100:.2f}%\")\n",
    "print('Количество неактивных пользователей в группе А: ', merge_users[merge_users['group']=='A']['user_id'].nunique() - ab_test[ab_test['group']=='A']['user_id'].nunique())\n",
    "print('Количество неактивных пользователей в группе В: ', merge_users[merge_users['group']=='B']['user_id'].nunique() -  ab_test[ab_test['group']=='B']['user_id'].nunique())"
   ]
  },
  {
   "cell_type": "markdown",
   "id": "79d97d8e",
   "metadata": {},
   "source": [
    "Проанализируем неактивных пользователей."
   ]
  },
  {
   "cell_type": "code",
   "execution_count": 50,
   "id": "1553f85a",
   "metadata": {},
   "outputs": [],
   "source": [
    "# датафрейм неактивных пользователей\n",
    "not_active = merge_users[~merge_users['user_id'].isin(ab_test['user_id'])]\n",
    "not_active['first_date'] = not_active['first_date'].dt.date"
   ]
  },
  {
   "cell_type": "code",
   "execution_count": 51,
   "id": "63c4365d",
   "metadata": {},
   "outputs": [
    {
     "data": {
      "image/png": "[encoded data removed]",
      "text/plain": [
       "<Figure size 640x480 with 1 Axes>"
      ]
     },
     "metadata": {},
     "output_type": "display_data"
    }
   ],
   "source": [
    "# построение графика распределения неактивных пользователей по дням регистрации на группы\n",
    "pt = not_active.groupby(['first_date', 'group'], as_index=False)['user_id'].count()\n",
    "sns.barplot(data = pt, x = 'first_date', y = 'user_id', hue = 'group')\n",
    "plt.title('Распределение неактивных пользователей по дням регистрации')\n",
    "plt.xlabel('Дата')\n",
    "plt.ylabel('Количество пользователей')\n",
    "plt.xticks(rotation=90)\n",
    "plt.legend(title='Группы')\n",
    "plt.show;"
   ]
  },
  {
   "cell_type": "code",
   "execution_count": 52,
   "id": "c788fc1d",
   "metadata": {},
   "outputs": [
    {
     "data": {
      "text/html": [
       "<div>\n",
       "<style scoped>\n",
       "    .dataframe tbody tr th:only-of-type {\n",
       "        vertical-align: middle;\n",
       "    }\n",
       "\n",
       "    .dataframe tbody tr th {\n",
       "        vertical-align: top;\n",
       "    }\n",
       "\n",
       "    .dataframe thead th {\n",
       "        text-align: right;\n",
       "    }\n",
       "</style>\n",
       "<table border=\"1\" class=\"dataframe\">\n",
       "  <thead>\n",
       "    <tr style=\"text-align: right;\">\n",
       "      <th></th>\n",
       "      <th>region</th>\n",
       "      <th>user_id</th>\n",
       "      <th>ratio</th>\n",
       "    </tr>\n",
       "  </thead>\n",
       "  <tbody>\n",
       "    <tr>\n",
       "      <th>0</th>\n",
       "      <td>APAC</td>\n",
       "      <td>22</td>\n",
       "      <td>44.90</td>\n",
       "    </tr>\n",
       "    <tr>\n",
       "      <th>1</th>\n",
       "      <td>CIS</td>\n",
       "      <td>20</td>\n",
       "      <td>47.62</td>\n",
       "    </tr>\n",
       "    <tr>\n",
       "      <th>2</th>\n",
       "      <td>EU</td>\n",
       "      <td>1694</td>\n",
       "      <td>51.57</td>\n",
       "    </tr>\n",
       "    <tr>\n",
       "      <th>3</th>\n",
       "      <td>N.America</td>\n",
       "      <td>88</td>\n",
       "      <td>56.41</td>\n",
       "    </tr>\n",
       "  </tbody>\n",
       "</table>\n",
       "</div>"
      ],
      "text/plain": [
       "      region  user_id  ratio\n",
       "0       APAC       22  44.90\n",
       "1        CIS       20  47.62\n",
       "2         EU     1694  51.57\n",
       "3  N.America       88  56.41"
      ]
     },
     "execution_count": 52,
     "metadata": {},
     "output_type": "execute_result"
    }
   ],
   "source": [
    "# распределение неактивных пользователей по регионам\n",
    "pt = not_active.groupby('region', as_index = False)['user_id'].count()\n",
    "pt['ratio'] = round(pt['user_id']/pt_region['user_id']*100,2)\n",
    "pt"
   ]
  },
  {
   "cell_type": "markdown",
   "id": "0ddac172",
   "metadata": {},
   "source": [
    "Неактивных участников почти 52%. Все они являются новыми пользователями, которые были зарегистрированы с начала тестирования. Эти пользователи примерно равномерно распределены по всем регионам, чуть больше неактивных пользователей в процентном соотношении в Северной Америке."
   ]
  },
  {
   "cell_type": "markdown",
   "id": "eb543026",
   "metadata": {},
   "source": [
    "Проанализируем действия активных пользователей."
   ]
  },
  {
   "cell_type": "code",
   "execution_count": 53,
   "id": "0becbddd",
   "metadata": {},
   "outputs": [
    {
     "name": "stdout",
     "output_type": "stream",
     "text": [
      "Среднее количество событий на всех пользователя из группы А: 4\n",
      "Среднее количество событий на всех пользователя из группы B: 2\n"
     ]
    }
   ],
   "source": [
    "# среденее количество событий на пользователя по группам\n",
    "print('Среднее количество событий на всех пользователя из группы А:', round(ab_test[ab_test['group']=='A']['event_name'].count()/merge_users[merge_users['group']=='A']['user_id'].nunique()))\n",
    "print('Среднее количество событий на всех пользователя из группы B:', round(ab_test[ab_test['group']=='B']['event_name'].count()/merge_users[merge_users['group']=='B']['user_id'].nunique()))"
   ]
  },
  {
   "cell_type": "code",
   "execution_count": 54,
   "id": "70b237bf",
   "metadata": {},
   "outputs": [],
   "source": [
    "temp = ab_test.pivot_table(index = 'event_date', values = 'event_name', aggfunc = {'count'}).reset_index()"
   ]
  },
  {
   "cell_type": "code",
   "execution_count": 55,
   "id": "4268f8c6",
   "metadata": {},
   "outputs": [
    {
     "data": {
      "image/png": "[encoded data removed]",
      "text/plain": [
       "<Figure size 640x480 with 1 Axes>"
      ]
     },
     "metadata": {},
     "output_type": "display_data"
    }
   ],
   "source": [
    "# построение графика распределения событий по дням с деленией на группы\n",
    "pt = ab_test.groupby(['event_date', 'group'], as_index=False)['event_name'].count()\n",
    "sns.barplot(data = pt, x = 'event_date', y = 'event_name', hue = 'group')\n",
    "plt.title('# распределение неактивных событий по дням')\n",
    "plt.xlabel('Дата')\n",
    "plt.ylabel('Количество событий')\n",
    "plt.xticks(rotation=90)\n",
    "plt.legend(title='Группы')\n",
    "plt.show;"
   ]
  },
  {
   "cell_type": "markdown",
   "id": "005fab40",
   "metadata": {},
   "source": [
    "<b>Вывод: </b>\n",
    "\n",
    "- за тестирование было совершено 11778 события, из них 45% - вход в систему; \n",
    "- 1708 активных пользователей из 3532 пользователей, которые стали участниками тестирования;\n",
    "- активных участников из группы А почти в 2 раза больше, чем из группы В;\n",
    "- неактивных участников из группы В больше, чем из группы А;\n",
    "- неактивных участников почти 52% и все являются новыми пользователями;\n",
    "- средние количества событий на всех пользователей (активных и неактивных) сильно различаются;\n",
    "- в начале тетирования количество событий в день между группами отличались не сильно, однако после 14.12.2020 пользователи группы А совершали намного больше событий;\n",
    "- маркетинговая камнания Christmas&New Year Promo не повлияла на количество событий."
   ]
  },
  {
   "cell_type": "markdown",
   "id": "2106570e",
   "metadata": {},
   "source": [
    "### Воронка продаж"
   ]
  },
  {
   "cell_type": "code",
   "execution_count": 56,
   "id": "cb53437a",
   "metadata": {
    "scrolled": true
   },
   "outputs": [
    {
     "data": {
      "text/plain": [
       "array(['purchase', 'product_cart', 'login', 'product_page'], dtype=object)"
      ]
     },
     "execution_count": 56,
     "metadata": {},
     "output_type": "execute_result"
    }
   ],
   "source": [
    "# названия событий и их количество\n",
    "ab_test['event_name'].unique()"
   ]
  },
  {
   "cell_type": "code",
   "execution_count": 57,
   "id": "fb2506a3",
   "metadata": {},
   "outputs": [
    {
     "data": {
      "text/plain": [
       "array(['3_purchase', '2_product_cart', '0_login', '1_product_page'],\n",
       "      dtype=object)"
      ]
     },
     "execution_count": 57,
     "metadata": {},
     "output_type": "execute_result"
    }
   ],
   "source": [
    "# для упрощения сортировки добавим № шага к названию событий\n",
    "ab_test.loc[ab_test['event_name']=='login', 'event_name']='0_login'\n",
    "ab_test.loc[ab_test['event_name']=='product_page', 'event_name']='1_product_page'\n",
    "ab_test.loc[ab_test['event_name']=='product_cart', 'event_name']='2_product_cart'\n",
    "ab_test.loc[ab_test['event_name']=='purchase','event_name']='3_purchase'\n",
    "\n",
    "ab_test['event_name'].unique()"
   ]
  },
  {
   "cell_type": "markdown",
   "id": "51f96308",
   "metadata": {},
   "source": [
    "В воронку событий входят следующие события:\n",
    "\n",
    "- login - вход в систему;\n",
    "- product_page - просмотр карточки товара;\n",
    "- product_cart - просмотр корзины;\n",
    "- purchase - покупка.\n",
    "\n",
    "Оценим воронку продаж по уникальным пользователям."
   ]
  },
  {
   "cell_type": "code",
   "execution_count": 58,
   "id": "ad393133",
   "metadata": {},
   "outputs": [
    {
     "data": {
      "text/html": [
       "<div>\n",
       "<style scoped>\n",
       "    .dataframe tbody tr th:only-of-type {\n",
       "        vertical-align: middle;\n",
       "    }\n",
       "\n",
       "    .dataframe tbody tr th {\n",
       "        vertical-align: top;\n",
       "    }\n",
       "\n",
       "    .dataframe thead th {\n",
       "        text-align: right;\n",
       "    }\n",
       "</style>\n",
       "<table border=\"1\" class=\"dataframe\">\n",
       "  <thead>\n",
       "    <tr style=\"text-align: right;\">\n",
       "      <th>group</th>\n",
       "      <th>event_name</th>\n",
       "      <th>A</th>\n",
       "      <th>B</th>\n",
       "    </tr>\n",
       "  </thead>\n",
       "  <tbody>\n",
       "    <tr>\n",
       "      <th>0</th>\n",
       "      <td>0_login</td>\n",
       "      <td>1197</td>\n",
       "      <td>511</td>\n",
       "    </tr>\n",
       "    <tr>\n",
       "      <th>1</th>\n",
       "      <td>1_product_page</td>\n",
       "      <td>779</td>\n",
       "      <td>286</td>\n",
       "    </tr>\n",
       "    <tr>\n",
       "      <th>2</th>\n",
       "      <td>2_product_cart</td>\n",
       "      <td>371</td>\n",
       "      <td>147</td>\n",
       "    </tr>\n",
       "    <tr>\n",
       "      <th>3</th>\n",
       "      <td>3_purchase</td>\n",
       "      <td>358</td>\n",
       "      <td>138</td>\n",
       "    </tr>\n",
       "  </tbody>\n",
       "</table>\n",
       "</div>"
      ],
      "text/plain": [
       "group      event_name     A    B\n",
       "0             0_login  1197  511\n",
       "1      1_product_page   779  286\n",
       "2      2_product_cart   371  147\n",
       "3          3_purchase   358  138"
      ]
     },
     "execution_count": 58,
     "metadata": {},
     "output_type": "execute_result"
    }
   ],
   "source": [
    "# количество пользователей в воронке событий \n",
    "pt = (ab_test.pivot_table(index= 'event_name', \n",
    "                         columns = 'group', \n",
    "                         values = 'user_id', \n",
    "                         aggfunc = 'nunique')\n",
    "      .reset_index())\n",
    "pt"
   ]
  },
  {
   "cell_type": "code",
   "execution_count": 59,
   "id": "897592a2",
   "metadata": {},
   "outputs": [
    {
     "data": {
      "image/png": "[encoded data removed]",
      "text/plain": [
       "<Figure size 640x480 with 1 Axes>"
      ]
     },
     "metadata": {},
     "output_type": "display_data"
    }
   ],
   "source": [
    "# график количество пользователей по названию события\n",
    "pt = ab_test.groupby(['event_name', 'group'], as_index=False)['user_id'].nunique().sort_values(by = 'event_name')\n",
    "sns.barplot(data = pt, y = 'event_name', x = 'user_id', hue = 'group')\n",
    "plt.title('Распределение пользователей по названию события')\n",
    "plt.ylabel('Событие')\n",
    "plt.xlabel('Количество событий')\n",
    "plt.xticks(rotation=90)\n",
    "plt.legend(title='Группы')\n",
    "plt.show;"
   ]
  },
  {
   "cell_type": "markdown",
   "id": "f66e56ad",
   "metadata": {},
   "source": [
    "Как видно из графиков, почти 100% пользователей из корзины переходять к заказу. Возможно в системе есть возможность покупки без перехода в корзину, поэтому настолько высокая конверсия последнего шага. Расчитаем конверсию шагов для каждой группы."
   ]
  },
  {
   "cell_type": "code",
   "execution_count": 60,
   "id": "1890c208",
   "metadata": {},
   "outputs": [
    {
     "data": {
      "text/html": [
       "<div>\n",
       "<style scoped>\n",
       "    .dataframe tbody tr th:only-of-type {\n",
       "        vertical-align: middle;\n",
       "    }\n",
       "\n",
       "    .dataframe tbody tr th {\n",
       "        vertical-align: top;\n",
       "    }\n",
       "\n",
       "    .dataframe thead th {\n",
       "        text-align: right;\n",
       "    }\n",
       "</style>\n",
       "<table border=\"1\" class=\"dataframe\">\n",
       "  <thead>\n",
       "    <tr style=\"text-align: right;\">\n",
       "      <th>group</th>\n",
       "      <th>event_name</th>\n",
       "      <th>A</th>\n",
       "      <th>CR_per_step_A</th>\n",
       "      <th>B</th>\n",
       "      <th>CR_per_step_B</th>\n",
       "    </tr>\n",
       "  </thead>\n",
       "  <tbody>\n",
       "    <tr>\n",
       "      <th>0</th>\n",
       "      <td>0_login</td>\n",
       "      <td>1197</td>\n",
       "      <td>100.00</td>\n",
       "      <td>511</td>\n",
       "      <td>100.00</td>\n",
       "    </tr>\n",
       "    <tr>\n",
       "      <th>1</th>\n",
       "      <td>1_product_page</td>\n",
       "      <td>779</td>\n",
       "      <td>65.08</td>\n",
       "      <td>286</td>\n",
       "      <td>55.97</td>\n",
       "    </tr>\n",
       "    <tr>\n",
       "      <th>2</th>\n",
       "      <td>2_product_cart</td>\n",
       "      <td>371</td>\n",
       "      <td>47.63</td>\n",
       "      <td>147</td>\n",
       "      <td>51.40</td>\n",
       "    </tr>\n",
       "    <tr>\n",
       "      <th>3</th>\n",
       "      <td>3_purchase</td>\n",
       "      <td>358</td>\n",
       "      <td>96.50</td>\n",
       "      <td>138</td>\n",
       "      <td>93.88</td>\n",
       "    </tr>\n",
       "  </tbody>\n",
       "</table>\n",
       "</div>"
      ],
      "text/plain": [
       "group      event_name     A  CR_per_step_A    B  CR_per_step_B\n",
       "0             0_login  1197         100.00  511         100.00\n",
       "1      1_product_page   779          65.08  286          55.97\n",
       "2      2_product_cart   371          47.63  147          51.40\n",
       "3          3_purchase   358          96.50  138          93.88"
      ]
     },
     "execution_count": 60,
     "metadata": {},
     "output_type": "execute_result"
    }
   ],
   "source": [
    "# расчет конверсии шага от предыдущего\n",
    "pt = (ab_test.pivot_table(index= 'event_name', \n",
    "                         columns = 'group', \n",
    "                         values = 'user_id', \n",
    "                         aggfunc = 'nunique')\n",
    "      .reset_index())\n",
    "pt['CR_per_step_A'] = round(pt['A']/pt['A'].shift(1)*100,2)\n",
    "pt.loc[0, 'CR_per_step_A'] = 100\n",
    "\n",
    "pt['CR_per_step_B'] = round(pt['B']/pt['B'].shift(1)*100,2)\n",
    "pt.loc[0, 'CR_per_step_B'] = 100\n",
    "\n",
    "\n",
    "\n",
    "pt[['event_name', 'A', 'CR_per_step_A', 'B','CR_per_step_B']]"
   ]
  },
  {
   "cell_type": "markdown",
   "id": "759468d7",
   "metadata": {},
   "source": [
    "Рассчитаем конверсию от начального числа активных пользователей. "
   ]
  },
  {
   "cell_type": "code",
   "execution_count": 61,
   "id": "00237f86",
   "metadata": {},
   "outputs": [
    {
     "data": {
      "text/html": [
       "<div>\n",
       "<style scoped>\n",
       "    .dataframe tbody tr th:only-of-type {\n",
       "        vertical-align: middle;\n",
       "    }\n",
       "\n",
       "    .dataframe tbody tr th {\n",
       "        vertical-align: top;\n",
       "    }\n",
       "\n",
       "    .dataframe thead th {\n",
       "        text-align: right;\n",
       "    }\n",
       "</style>\n",
       "<table border=\"1\" class=\"dataframe\">\n",
       "  <thead>\n",
       "    <tr style=\"text-align: right;\">\n",
       "      <th>group</th>\n",
       "      <th>event_name</th>\n",
       "      <th>A</th>\n",
       "      <th>CR_A</th>\n",
       "      <th>B</th>\n",
       "      <th>CR_B</th>\n",
       "      <th>ratio</th>\n",
       "    </tr>\n",
       "  </thead>\n",
       "  <tbody>\n",
       "    <tr>\n",
       "      <th>0</th>\n",
       "      <td>0_login</td>\n",
       "      <td>1197</td>\n",
       "      <td>100.00</td>\n",
       "      <td>511</td>\n",
       "      <td>100.00</td>\n",
       "      <td>0.00</td>\n",
       "    </tr>\n",
       "    <tr>\n",
       "      <th>1</th>\n",
       "      <td>1_product_page</td>\n",
       "      <td>779</td>\n",
       "      <td>65.08</td>\n",
       "      <td>286</td>\n",
       "      <td>55.97</td>\n",
       "      <td>-14.00</td>\n",
       "    </tr>\n",
       "    <tr>\n",
       "      <th>2</th>\n",
       "      <td>2_product_cart</td>\n",
       "      <td>371</td>\n",
       "      <td>30.99</td>\n",
       "      <td>147</td>\n",
       "      <td>28.77</td>\n",
       "      <td>-7.16</td>\n",
       "    </tr>\n",
       "    <tr>\n",
       "      <th>3</th>\n",
       "      <td>3_purchase</td>\n",
       "      <td>358</td>\n",
       "      <td>29.91</td>\n",
       "      <td>138</td>\n",
       "      <td>27.01</td>\n",
       "      <td>-9.70</td>\n",
       "    </tr>\n",
       "  </tbody>\n",
       "</table>\n",
       "</div>"
      ],
      "text/plain": [
       "group      event_name     A    CR_A    B    CR_B  ratio\n",
       "0             0_login  1197  100.00  511  100.00   0.00\n",
       "1      1_product_page   779   65.08  286   55.97 -14.00\n",
       "2      2_product_cart   371   30.99  147   28.77  -7.16\n",
       "3          3_purchase   358   29.91  138   27.01  -9.70"
      ]
     },
     "execution_count": 61,
     "metadata": {},
     "output_type": "execute_result"
    }
   ],
   "source": [
    "# расчет конверсии от начального количества активных прльзователей\n",
    "pt = (ab_test.pivot_table(index= 'event_name', \n",
    "                         columns = 'group', \n",
    "                         values = 'user_id', \n",
    "                         aggfunc = 'nunique')\n",
    "      .reset_index())\n",
    "pt['CR_A'] = round(pt['A']/ab_test[ab_test['group']=='A']['user_id'].nunique()*100,2)\n",
    "\n",
    "pt['CR_B'] = round(pt['B']/ab_test[ab_test['group']=='B']['user_id'].nunique()*100,2)\n",
    "\n",
    "pt['ratio'] = round((pt['CR_B']/pt['CR_A']-1)*100,2)\n",
    "\n",
    "pt[['event_name', 'A', 'CR_A', 'B','CR_B', 'ratio']]\n",
    "\n"
   ]
  },
  {
   "cell_type": "markdown",
   "id": "b7a3fdf4",
   "metadata": {},
   "source": [
    "<b>Вывод: </b>\n",
    "\n",
    "Пользователей и событий в группе А сильно больше пользователей и событий в группе В, что хорошо видно на графиках воронки продаж.\n",
    "\n",
    "95% пользователей из корзины переходят к покупке, возможно в системе есть возможность быстрой покупки без перехода в корзину, поэтому конверсия покупки столь высокая.\n",
    "\n",
    "По сводной таблице конверсия группы В <b>ниже</b> конверсии группы А:\n",
    "- просмотр карточки товара на 14%;\n",
    "- просмотр корзины на 7.16%;\n",
    "- покупка на 9.7%.\n",
    "\n",
    "Таким образом ожидаемого прироста в 10% нет."
   ]
  },
  {
   "cell_type": "markdown",
   "id": "2bbad04f",
   "metadata": {},
   "source": [
    "## Оценка результатов A/B-тестирования"
   ]
  },
  {
   "cell_type": "code",
   "execution_count": 62,
   "id": "12d79827",
   "metadata": {},
   "outputs": [],
   "source": [
    "# удалим этап входа в систему\n",
    "ab_test_filtered = ab_test.query('event_name != \"0_login\"')\n",
    "#список этапов\n",
    "funnel = list(ab_test_filtered['event_name'].unique())\n",
    "funnel.sort()"
   ]
  },
  {
   "cell_type": "code",
   "execution_count": 63,
   "id": "fe66369c",
   "metadata": {},
   "outputs": [
    {
     "data": {
      "text/html": [
       "<div>\n",
       "<style scoped>\n",
       "    .dataframe tbody tr th:only-of-type {\n",
       "        vertical-align: middle;\n",
       "    }\n",
       "\n",
       "    .dataframe tbody tr th {\n",
       "        vertical-align: top;\n",
       "    }\n",
       "\n",
       "    .dataframe thead th {\n",
       "        text-align: right;\n",
       "    }\n",
       "</style>\n",
       "<table border=\"1\" class=\"dataframe\">\n",
       "  <thead>\n",
       "    <tr style=\"text-align: right;\">\n",
       "      <th></th>\n",
       "      <th>group</th>\n",
       "      <th>total</th>\n",
       "      <th>1_product_page</th>\n",
       "      <th>2_product_cart</th>\n",
       "      <th>3_purchase</th>\n",
       "    </tr>\n",
       "  </thead>\n",
       "  <tbody>\n",
       "    <tr>\n",
       "      <th>0</th>\n",
       "      <td>A</td>\n",
       "      <td>1197</td>\n",
       "      <td>779</td>\n",
       "      <td>371</td>\n",
       "      <td>358</td>\n",
       "    </tr>\n",
       "    <tr>\n",
       "      <th>1</th>\n",
       "      <td>B</td>\n",
       "      <td>511</td>\n",
       "      <td>286</td>\n",
       "      <td>147</td>\n",
       "      <td>138</td>\n",
       "    </tr>\n",
       "  </tbody>\n",
       "</table>\n",
       "</div>"
      ],
      "text/plain": [
       "  group  total  1_product_page  2_product_cart  3_purchase\n",
       "0     A   1197             779             371         358\n",
       "1     B    511             286             147         138"
      ]
     },
     "execution_count": 63,
     "metadata": {},
     "output_type": "execute_result"
    }
   ],
   "source": [
    "# сводная таблица с количеством активных пользователей всего и по этапам\n",
    "funnel_table = ab_test.pivot_table(index = 'group', values = 'user_id', aggfunc = {'nunique'}).reset_index().rename(columns={'nunique':'total'})\n",
    "\n",
    "for e in funnel:\n",
    "    temp = (ab_test.query('event_name == @e')\n",
    "            .pivot_table(index = 'group',\n",
    "                         values = 'user_id', \n",
    "                         aggfunc = {'nunique'})\n",
    "            .reset_index()\n",
    "            .rename(columns={'nunique':e}))\n",
    "    funnel_table = funnel_table.merge(temp, on = 'group', how = 'left')\n",
    "    \n",
    "funnel_table"
   ]
  },
  {
   "cell_type": "markdown",
   "id": "a88fc825",
   "metadata": {},
   "source": [
    "Оценим результаты тестирования между группами. Для этого определим является ли статистически значима разница между долями на каждом этапе.\n",
    "\n",
    "Поскольку при А/В-тестирование будет произведено 3 сравнения (по количеству этапов) используем метод Шидака для корректировки значение требуемого уровня значимости (0.05), чтобы снизить вероятность ложнопозитивного результата (ошибки первого рода)."
   ]
  },
  {
   "cell_type": "code",
   "execution_count": 64,
   "id": "0d3c8be8",
   "metadata": {},
   "outputs": [
    {
     "data": {
      "text/plain": [
       "0.016952427508441503"
      ]
     },
     "execution_count": 64,
     "metadata": {},
     "output_type": "execute_result"
    }
   ],
   "source": [
    "alpha = 1-(1-0.05)**(1/3)\n",
    "alpha"
   ]
  },
  {
   "cell_type": "code",
   "execution_count": 65,
   "id": "e947162a",
   "metadata": {},
   "outputs": [
    {
     "name": "stdout",
     "output_type": "stream",
     "text": [
      "H0: доли пользователей, совершивших действие на шаге 1_product_page, в группах А и В равны\n",
      "H1: доли пользователей, совершивших действие на шаге 1_product_page, в группах А и В не равны\n",
      "p-значение:  [0.00037292]\n",
      "Отвергаем нулевую гипотезу: между долями на шаге 1_product_page есть значимая разница\n",
      "\n",
      "H0: доли пользователей, совершивших действие на шаге 2_product_cart, в группах А и В равны\n",
      "H1: доли пользователей, совершивших действие на шаге 2_product_cart, в группах А и В не равны\n",
      "p-значение:  [0.35923161]\n",
      "Не получилось отвергнуть нулевую гипотезу, нет оснований считать доли на шаге 2_product_cart разными\n",
      "\n",
      "H0: доли пользователей, совершивших действие на шаге 3_purchase, в группах А и В равны\n",
      "H1: доли пользователей, совершивших действие на шаге 3_purchase, в группах А и В не равны\n",
      "p-значение:  [0.22632574]\n",
      "Не получилось отвергнуть нулевую гипотезу, нет оснований считать доли на шаге 3_purchase разными\n",
      "\n"
     ]
    }
   ],
   "source": [
    "for step in funnel:\n",
    "    #количество пользователей, совершивших действие шага\n",
    "    count = np.array([funnel_table[funnel_table['group']=='A'][step], \n",
    "                      funnel_table[funnel_table['group']=='B'][step]])\n",
    "    #количество активных пользователей\n",
    "    nobs = np.array([funnel_table[funnel_table['group']=='A']['total'], \n",
    "                      funnel_table[funnel_table['group']=='B']['total']])\n",
    "    \n",
    "    results = proportions_ztest(count, nobs)\n",
    "    \n",
    "    print(f\"H0: доли пользователей, совершивших действие на шаге {step}, в группах А и В равны\")\n",
    "    print(f\"H1: доли пользователей, совершивших действие на шаге {step}, в группах А и В не равны\")\n",
    "    \n",
    "    print('p-значение: ', results[1])\n",
    "\n",
    "    if results[1] < alpha:\n",
    "        print(f\"Отвергаем нулевую гипотезу: между долями на шаге {step} есть значимая разница\")\n",
    "    else:\n",
    "        print(f\"Не получилось отвергнуть нулевую гипотезу, нет оснований считать доли на шаге {step} разными\") \n",
    "    print()\n"
   ]
  },
  {
   "cell_type": "markdown",
   "id": "e9aea870",
   "metadata": {},
   "source": [
    "<b>Вывод: </b>\n",
    "\n",
    "При проверке гипотез была отвергнула только гипотеза о равенстве долей пользователей, совершивших действие, в группах А и В только на шаге просмотра товара. Остальные не были отвергнуты, а значит нет оснований полагать, что есть различия между долями на шагах корзины и покупки в группа А и В."
   ]
  },
  {
   "cell_type": "markdown",
   "id": "c4854511",
   "metadata": {},
   "source": [
    "## Вывод"
   ]
  },
  {
   "cell_type": "markdown",
   "id": "0254ecaa",
   "metadata": {},
   "source": [
    "При анализе данных было обнаружено несоответствия ТЗ.\n",
    "\n",
    "- после фильтрации пользователей, которые приняли участие в другом тесте или попали в оба теста, участиников А/В-тестирорвания стало меньше, чем требуется по ТЗ (3532 вместо 6000);\n",
    "- дата остановки тестирования не соответствует ТЗ (2020.12.30 вместо 2020-01-04);\n",
    "- было отобрано 10% новых пользователей из региона EU, что не соответствует необходимому уровню в 15% по ТЗ.\n",
    "\n",
    "Дальнейшее исследование данных показало, что:\n",
    "- в период тестирования была проведена маркетинговая кампания, которая могла исказить результаты;\n",
    "- группы распределены не равномерно (2018 в А и 1514 в В)\n",
    "- в качестве испытуемых были неактивные пользователи, количество которых примерно такое же как и активных;\n",
    "- распределение активных и неактивных пользователей также не равномерно, в итоге количество реальных пользователей в группе А в 2 раза больше, чем в группе В.\n",
    "\n",
    "Проверка гипотез показала, что есть разница между долями пользователей, совершивших событие, в группе А и В только на шаге просмотра товара, на остальных шагах значимой разницы нет.\n",
    "\n",
    "А/В-тестирование было проведено некорректно, резальтатам проверки гипотез доверять нельзя. Необходимо провести новое тестирование в соответствии ТЗ и равномерных распределением групп. Необходимо учитывать график маркетинговых компаний, которые также могут исказить результаты. Кроме того для объективности стоит выбрать период тестирования без праздников."
   ]
  }
 ],
 "metadata": {
  "kernelspec": {
   "display_name": "Python 3 (ipykernel)",
   "language": "python",
   "name": "python3"
  },
  "language_info": {
   "codemirror_mode": {
    "name": "ipython",
    "version": 3
   },
   "file_extension": ".py",
   "mimetype": "text/x-python",
   "name": "python",
   "nbconvert_exporter": "python",
   "pygments_lexer": "ipython3",
   "version": "3.9.15"
  },
  "toc": {
   "base_numbering": 1,
   "nav_menu": {},
   "number_sections": true,
   "sideBar": true,
   "skip_h1_title": true,
   "title_cell": "Table of Contents",
   "title_sidebar": "Contents",
   "toc_cell": false,
   "toc_position": {
    "height": "calc(100% - 180px)",
    "left": "10px",
    "top": "150px",
    "width": "352px"
   },
   "toc_section_display": true,
   "toc_window_display": true
  }
 },
 "nbformat": 4,
 "nbformat_minor": 5
}
