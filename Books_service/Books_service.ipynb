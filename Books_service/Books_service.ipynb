{
 "cells": [
  {
   "cell_type": "markdown",
   "id": "2e46e874",
   "metadata": {},
   "source": [
    "# <center>Анализ базы данных сервиса для чтения книг по подписке</center>"
   ]
  },
  {
   "cell_type": "markdown",
   "id": "016d5bd8",
   "metadata": {},
   "source": [
    "## Описание\n",
    "\n",
    "Коронавирус застал мир врасплох, изменив привычный порядок вещей. В свободное время жители городов больше не выходят на улицу, не посещают кафе и торговые центры. Зато стало больше времени для книг. Это заметили стартаперы — и бросились создавать приложения для тех, кто любит читать.\n",
    "\n",
    "Компания решила быть на волне и купила крупный сервис для чтения книг по подписке. Предоставлена база данных с информацией о книгах, издательствах, авторах, а также пользовательские обзоры книг.\n",
    "\n",
    "<b>Цель:</b> анализ базы данных для формулировки ценностное предложение для нового продукта."
   ]
  },
  {
   "cell_type": "markdown",
   "id": "cc39b73c",
   "metadata": {},
   "source": [
    "## База данных"
   ]
  },
  {
   "cell_type": "code",
   "execution_count": 1,
   "id": "9404615b",
   "metadata": {},
   "outputs": [],
   "source": [
    "# импорт библиотек\n",
    "import pandas as pd\n",
    "from sqlalchemy import text, create_engine"
   ]
  },
  {
   "cell_type": "code",
   "execution_count": 2,
   "id": "524ae101",
   "metadata": {},
   "outputs": [],
   "source": [
    "# параметры подключения к БД (параметры подключения удалены для сохранения конфиденциальности данных)\n",
    "db_config = {'user': , # имя пользователя\n",
    "'pwd': , # пароль\n",
    "'host': ,\n",
    "'port': , # порт подключения\n",
    "'db': } # название базы данных\n",
    "connection_string = 'postgresql://{user}:{pwd}@{host}:{port}/{db}'.format(**db_config)\n",
    "engine = create_engine(connection_string, connect_args={'sslmode':'require'})"
   ]
  },
  {
   "cell_type": "code",
   "execution_count": 3,
   "id": "fcf80d0e",
   "metadata": {},
   "outputs": [],
   "source": [
    "# функция для выполнения запроса\n",
    "def sql_query(query):\n",
    "    con=engine.connect()\n",
    "    return pd.io.sql.read_sql(sql=text(query), con = con)"
   ]
  },
  {
   "cell_type": "code",
   "execution_count": 4,
   "id": "4ebe9fc0",
   "metadata": {},
   "outputs": [
    {
     "data": {
      "text/html": [
       "<div>\n",
       "<style scoped>\n",
       "    .dataframe tbody tr th:only-of-type {\n",
       "        vertical-align: middle;\n",
       "    }\n",
       "\n",
       "    .dataframe tbody tr th {\n",
       "        vertical-align: top;\n",
       "    }\n",
       "\n",
       "    .dataframe thead th {\n",
       "        text-align: right;\n",
       "    }\n",
       "</style>\n",
       "<table border=\"1\" class=\"dataframe\">\n",
       "  <thead>\n",
       "    <tr style=\"text-align: right;\">\n",
       "      <th></th>\n",
       "      <th>book_id</th>\n",
       "      <th>author_id</th>\n",
       "      <th>title</th>\n",
       "      <th>num_pages</th>\n",
       "      <th>publication_date</th>\n",
       "      <th>publisher_id</th>\n",
       "    </tr>\n",
       "  </thead>\n",
       "  <tbody>\n",
       "    <tr>\n",
       "      <th>0</th>\n",
       "      <td>1</td>\n",
       "      <td>546</td>\n",
       "      <td>'Salem's Lot</td>\n",
       "      <td>594</td>\n",
       "      <td>2005-11-01</td>\n",
       "      <td>93</td>\n",
       "    </tr>\n",
       "    <tr>\n",
       "      <th>1</th>\n",
       "      <td>2</td>\n",
       "      <td>465</td>\n",
       "      <td>1 000 Places to See Before You Die</td>\n",
       "      <td>992</td>\n",
       "      <td>2003-05-22</td>\n",
       "      <td>336</td>\n",
       "    </tr>\n",
       "    <tr>\n",
       "      <th>2</th>\n",
       "      <td>3</td>\n",
       "      <td>407</td>\n",
       "      <td>13 Little Blue Envelopes (Little Blue Envelope...</td>\n",
       "      <td>322</td>\n",
       "      <td>2010-12-21</td>\n",
       "      <td>135</td>\n",
       "    </tr>\n",
       "    <tr>\n",
       "      <th>3</th>\n",
       "      <td>4</td>\n",
       "      <td>82</td>\n",
       "      <td>1491: New Revelations of the Americas Before C...</td>\n",
       "      <td>541</td>\n",
       "      <td>2006-10-10</td>\n",
       "      <td>309</td>\n",
       "    </tr>\n",
       "    <tr>\n",
       "      <th>4</th>\n",
       "      <td>5</td>\n",
       "      <td>125</td>\n",
       "      <td>1776</td>\n",
       "      <td>386</td>\n",
       "      <td>2006-07-04</td>\n",
       "      <td>268</td>\n",
       "    </tr>\n",
       "  </tbody>\n",
       "</table>\n",
       "</div>"
      ],
      "text/plain": [
       "   book_id  author_id                                              title  \\\n",
       "0        1        546                                       'Salem's Lot   \n",
       "1        2        465                 1 000 Places to See Before You Die   \n",
       "2        3        407  13 Little Blue Envelopes (Little Blue Envelope...   \n",
       "3        4         82  1491: New Revelations of the Americas Before C...   \n",
       "4        5        125                                               1776   \n",
       "\n",
       "   num_pages publication_date  publisher_id  \n",
       "0        594       2005-11-01            93  \n",
       "1        992       2003-05-22           336  \n",
       "2        322       2010-12-21           135  \n",
       "3        541       2006-10-10           309  \n",
       "4        386       2006-07-04           268  "
      ]
     },
     "execution_count": 4,
     "metadata": {},
     "output_type": "execute_result"
    }
   ],
   "source": [
    "# данные таблицы books\n",
    "query = '''SELECT * FROM books'''\n",
    "books = sql_query(query)\n",
    "books.head()"
   ]
  },
  {
   "cell_type": "code",
   "execution_count": 5,
   "id": "17977d20",
   "metadata": {},
   "outputs": [
    {
     "name": "stdout",
     "output_type": "stream",
     "text": [
      "Количество книг: 1000\n",
      "Количество авторов: 636\n",
      "Период публикаций:1952-12-01 - 2020-03-31\n",
      "Количество издательств: 340\n"
     ]
    }
   ],
   "source": [
    "query_books = '''SELECT COUNT(book_id) FROM books'''\n",
    "query_authors = '''SELECT COUNT(DISTINCT author_id) FROM books'''\n",
    "query_date_min = '''SELECT MIN(publication_date::DATE) FROM books'''\n",
    "query_date_max = '''SELECT MAX(publication_date::DATE) FROM books'''\n",
    "query_publisher = '''SELECT COUNT(DISTINCT publisher_id) FROM books'''\n",
    "\n",
    "print('Количество книг:', sql_query(query_books).loc[0, 'count'])\n",
    "print('Количество авторов:', sql_query(query_authors).loc[0, 'count'])\n",
    "print(f\"Период публикаций:{sql_query(query_date_min).loc[0, 'min']} - {sql_query(query_date_max).loc[0, 'max']}\")\n",
    "print('Количество издательств:', sql_query(query_publisher).loc[0, 'count'])"
   ]
  },
  {
   "cell_type": "code",
   "execution_count": 6,
   "id": "cfce8ba5",
   "metadata": {
    "scrolled": true
   },
   "outputs": [
    {
     "data": {
      "text/html": [
       "<div>\n",
       "<style scoped>\n",
       "    .dataframe tbody tr th:only-of-type {\n",
       "        vertical-align: middle;\n",
       "    }\n",
       "\n",
       "    .dataframe tbody tr th {\n",
       "        vertical-align: top;\n",
       "    }\n",
       "\n",
       "    .dataframe thead th {\n",
       "        text-align: right;\n",
       "    }\n",
       "</style>\n",
       "<table border=\"1\" class=\"dataframe\">\n",
       "  <thead>\n",
       "    <tr style=\"text-align: right;\">\n",
       "      <th></th>\n",
       "      <th>author_id</th>\n",
       "      <th>author</th>\n",
       "    </tr>\n",
       "  </thead>\n",
       "  <tbody>\n",
       "    <tr>\n",
       "      <th>0</th>\n",
       "      <td>1</td>\n",
       "      <td>A.S. Byatt</td>\n",
       "    </tr>\n",
       "    <tr>\n",
       "      <th>1</th>\n",
       "      <td>2</td>\n",
       "      <td>Aesop/Laura Harris/Laura Gibbs</td>\n",
       "    </tr>\n",
       "    <tr>\n",
       "      <th>2</th>\n",
       "      <td>3</td>\n",
       "      <td>Agatha Christie</td>\n",
       "    </tr>\n",
       "    <tr>\n",
       "      <th>3</th>\n",
       "      <td>4</td>\n",
       "      <td>Alan Brennert</td>\n",
       "    </tr>\n",
       "    <tr>\n",
       "      <th>4</th>\n",
       "      <td>5</td>\n",
       "      <td>Alan Moore/David   Lloyd</td>\n",
       "    </tr>\n",
       "  </tbody>\n",
       "</table>\n",
       "</div>"
      ],
      "text/plain": [
       "   author_id                          author\n",
       "0          1                      A.S. Byatt\n",
       "1          2  Aesop/Laura Harris/Laura Gibbs\n",
       "2          3                 Agatha Christie\n",
       "3          4                   Alan Brennert\n",
       "4          5        Alan Moore/David   Lloyd"
      ]
     },
     "execution_count": 6,
     "metadata": {},
     "output_type": "execute_result"
    }
   ],
   "source": [
    "# данные таблицы authors\n",
    "query = '''SELECT * FROM authors'''\n",
    "authors = sql_query(query)\n",
    "authors.head()"
   ]
  },
  {
   "cell_type": "code",
   "execution_count": 7,
   "id": "ebd7b113",
   "metadata": {},
   "outputs": [
    {
     "name": "stdout",
     "output_type": "stream",
     "text": [
      "Количество авторов: 636\n"
     ]
    }
   ],
   "source": [
    "query_authors = '''SELECT COUNT(author_id) FROM authors'''\n",
    "print('Количество авторов:', sql_query(query_authors).loc[0, 'count'])"
   ]
  },
  {
   "cell_type": "code",
   "execution_count": 8,
   "id": "416321aa",
   "metadata": {
    "scrolled": false
   },
   "outputs": [
    {
     "data": {
      "text/html": [
       "<div>\n",
       "<style scoped>\n",
       "    .dataframe tbody tr th:only-of-type {\n",
       "        vertical-align: middle;\n",
       "    }\n",
       "\n",
       "    .dataframe tbody tr th {\n",
       "        vertical-align: top;\n",
       "    }\n",
       "\n",
       "    .dataframe thead th {\n",
       "        text-align: right;\n",
       "    }\n",
       "</style>\n",
       "<table border=\"1\" class=\"dataframe\">\n",
       "  <thead>\n",
       "    <tr style=\"text-align: right;\">\n",
       "      <th></th>\n",
       "      <th>publisher_id</th>\n",
       "      <th>publisher</th>\n",
       "    </tr>\n",
       "  </thead>\n",
       "  <tbody>\n",
       "    <tr>\n",
       "      <th>0</th>\n",
       "      <td>1</td>\n",
       "      <td>Ace</td>\n",
       "    </tr>\n",
       "    <tr>\n",
       "      <th>1</th>\n",
       "      <td>2</td>\n",
       "      <td>Ace Book</td>\n",
       "    </tr>\n",
       "    <tr>\n",
       "      <th>2</th>\n",
       "      <td>3</td>\n",
       "      <td>Ace Books</td>\n",
       "    </tr>\n",
       "    <tr>\n",
       "      <th>3</th>\n",
       "      <td>4</td>\n",
       "      <td>Ace Hardcover</td>\n",
       "    </tr>\n",
       "    <tr>\n",
       "      <th>4</th>\n",
       "      <td>5</td>\n",
       "      <td>Addison Wesley Publishing Company</td>\n",
       "    </tr>\n",
       "  </tbody>\n",
       "</table>\n",
       "</div>"
      ],
      "text/plain": [
       "   publisher_id                          publisher\n",
       "0             1                                Ace\n",
       "1             2                           Ace Book\n",
       "2             3                          Ace Books\n",
       "3             4                      Ace Hardcover\n",
       "4             5  Addison Wesley Publishing Company"
      ]
     },
     "execution_count": 8,
     "metadata": {},
     "output_type": "execute_result"
    }
   ],
   "source": [
    "# данные таблицы publishers\n",
    "query = '''SELECT * FROM publishers'''\n",
    "publishers = sql_query(query)\n",
    "publishers.head()"
   ]
  },
  {
   "cell_type": "code",
   "execution_count": 9,
   "id": "3ce99e77",
   "metadata": {},
   "outputs": [
    {
     "name": "stdout",
     "output_type": "stream",
     "text": [
      "Количество авторов: 340\n"
     ]
    }
   ],
   "source": [
    "query_publisher = '''SELECT COUNT(publisher_id) FROM publishers'''\n",
    "print('Количество авторов:', sql_query(query_publisher).loc[0, 'count'])"
   ]
  },
  {
   "cell_type": "code",
   "execution_count": 10,
   "id": "8b37e543",
   "metadata": {},
   "outputs": [
    {
     "data": {
      "text/html": [
       "<div>\n",
       "<style scoped>\n",
       "    .dataframe tbody tr th:only-of-type {\n",
       "        vertical-align: middle;\n",
       "    }\n",
       "\n",
       "    .dataframe tbody tr th {\n",
       "        vertical-align: top;\n",
       "    }\n",
       "\n",
       "    .dataframe thead th {\n",
       "        text-align: right;\n",
       "    }\n",
       "</style>\n",
       "<table border=\"1\" class=\"dataframe\">\n",
       "  <thead>\n",
       "    <tr style=\"text-align: right;\">\n",
       "      <th></th>\n",
       "      <th>rating_id</th>\n",
       "      <th>book_id</th>\n",
       "      <th>username</th>\n",
       "      <th>rating</th>\n",
       "    </tr>\n",
       "  </thead>\n",
       "  <tbody>\n",
       "    <tr>\n",
       "      <th>0</th>\n",
       "      <td>1</td>\n",
       "      <td>1</td>\n",
       "      <td>ryanfranco</td>\n",
       "      <td>4</td>\n",
       "    </tr>\n",
       "    <tr>\n",
       "      <th>1</th>\n",
       "      <td>2</td>\n",
       "      <td>1</td>\n",
       "      <td>grantpatricia</td>\n",
       "      <td>2</td>\n",
       "    </tr>\n",
       "    <tr>\n",
       "      <th>2</th>\n",
       "      <td>3</td>\n",
       "      <td>1</td>\n",
       "      <td>brandtandrea</td>\n",
       "      <td>5</td>\n",
       "    </tr>\n",
       "    <tr>\n",
       "      <th>3</th>\n",
       "      <td>4</td>\n",
       "      <td>2</td>\n",
       "      <td>lorichen</td>\n",
       "      <td>3</td>\n",
       "    </tr>\n",
       "    <tr>\n",
       "      <th>4</th>\n",
       "      <td>5</td>\n",
       "      <td>2</td>\n",
       "      <td>mariokeller</td>\n",
       "      <td>2</td>\n",
       "    </tr>\n",
       "  </tbody>\n",
       "</table>\n",
       "</div>"
      ],
      "text/plain": [
       "   rating_id  book_id       username  rating\n",
       "0          1        1     ryanfranco       4\n",
       "1          2        1  grantpatricia       2\n",
       "2          3        1   brandtandrea       5\n",
       "3          4        2       lorichen       3\n",
       "4          5        2    mariokeller       2"
      ]
     },
     "execution_count": 10,
     "metadata": {},
     "output_type": "execute_result"
    }
   ],
   "source": [
    "# данные таблицы ratings\n",
    "query = '''SELECT * FROM ratings'''\n",
    "ratings = sql_query(query)\n",
    "ratings.head()"
   ]
  },
  {
   "cell_type": "code",
   "execution_count": 11,
   "id": "ef17744b",
   "metadata": {},
   "outputs": [
    {
     "name": "stdout",
     "output_type": "stream",
     "text": [
      "Количество выставленных оценок: 6456\n",
      "Количество авторов: 160\n",
      "Период публикаций:1 - 5\n"
     ]
    }
   ],
   "source": [
    "query_count_rating = '''SELECT COUNT(*) FROM ratings'''''\n",
    "query_username = '''SELECT COUNT(DISTINCT username) FROM ratings'''''\n",
    "query_rating_min = '''SELECT MIN(rating) FROM ratings'''\n",
    "query_rating_max = '''SELECT MAX(rating) FROM ratings'''\n",
    "\n",
    "print('Количество выставленных оценок:', sql_query(query_count_rating).loc[0, 'count'])\n",
    "print('Количество авторов:', sql_query(query_username).loc[0, 'count'])\n",
    "print(f\"Период публикаций:{sql_query(query_rating_min).loc[0, 'min']} - {sql_query(query_rating_max).loc[0, 'max']}\")"
   ]
  },
  {
   "cell_type": "code",
   "execution_count": 12,
   "id": "cdb819bc",
   "metadata": {
    "scrolled": true
   },
   "outputs": [
    {
     "data": {
      "text/html": [
       "<div>\n",
       "<style scoped>\n",
       "    .dataframe tbody tr th:only-of-type {\n",
       "        vertical-align: middle;\n",
       "    }\n",
       "\n",
       "    .dataframe tbody tr th {\n",
       "        vertical-align: top;\n",
       "    }\n",
       "\n",
       "    .dataframe thead th {\n",
       "        text-align: right;\n",
       "    }\n",
       "</style>\n",
       "<table border=\"1\" class=\"dataframe\">\n",
       "  <thead>\n",
       "    <tr style=\"text-align: right;\">\n",
       "      <th></th>\n",
       "      <th>review_id</th>\n",
       "      <th>book_id</th>\n",
       "      <th>username</th>\n",
       "      <th>text</th>\n",
       "    </tr>\n",
       "  </thead>\n",
       "  <tbody>\n",
       "    <tr>\n",
       "      <th>0</th>\n",
       "      <td>1</td>\n",
       "      <td>1</td>\n",
       "      <td>brandtandrea</td>\n",
       "      <td>Mention society tell send professor analysis. ...</td>\n",
       "    </tr>\n",
       "    <tr>\n",
       "      <th>1</th>\n",
       "      <td>2</td>\n",
       "      <td>1</td>\n",
       "      <td>ryanfranco</td>\n",
       "      <td>Foot glass pretty audience hit themselves. Amo...</td>\n",
       "    </tr>\n",
       "    <tr>\n",
       "      <th>2</th>\n",
       "      <td>3</td>\n",
       "      <td>2</td>\n",
       "      <td>lorichen</td>\n",
       "      <td>Listen treat keep worry. Miss husband tax but ...</td>\n",
       "    </tr>\n",
       "    <tr>\n",
       "      <th>3</th>\n",
       "      <td>4</td>\n",
       "      <td>3</td>\n",
       "      <td>johnsonamanda</td>\n",
       "      <td>Finally month interesting blue could nature cu...</td>\n",
       "    </tr>\n",
       "    <tr>\n",
       "      <th>4</th>\n",
       "      <td>5</td>\n",
       "      <td>3</td>\n",
       "      <td>scotttamara</td>\n",
       "      <td>Nation purpose heavy give wait song will. List...</td>\n",
       "    </tr>\n",
       "  </tbody>\n",
       "</table>\n",
       "</div>"
      ],
      "text/plain": [
       "   review_id  book_id       username  \\\n",
       "0          1        1   brandtandrea   \n",
       "1          2        1     ryanfranco   \n",
       "2          3        2       lorichen   \n",
       "3          4        3  johnsonamanda   \n",
       "4          5        3    scotttamara   \n",
       "\n",
       "                                                text  \n",
       "0  Mention society tell send professor analysis. ...  \n",
       "1  Foot glass pretty audience hit themselves. Amo...  \n",
       "2  Listen treat keep worry. Miss husband tax but ...  \n",
       "3  Finally month interesting blue could nature cu...  \n",
       "4  Nation purpose heavy give wait song will. List...  "
      ]
     },
     "execution_count": 12,
     "metadata": {},
     "output_type": "execute_result"
    }
   ],
   "source": [
    "# данные таблицы reviews\n",
    "query = '''SELECT * FROM reviews'''\n",
    "reviews = sql_query(query)\n",
    "reviews.head()"
   ]
  },
  {
   "cell_type": "code",
   "execution_count": 13,
   "id": "24261da2",
   "metadata": {},
   "outputs": [
    {
     "name": "stdout",
     "output_type": "stream",
     "text": [
      "Количество написанных обзоров: 2793\n",
      "Количество авторов: 160\n"
     ]
    }
   ],
   "source": [
    "query_count_reviews = '''SELECT COUNT(*) FROM reviews'''''\n",
    "query_username = '''SELECT COUNT(DISTINCT username) FROM reviews'''''\n",
    "print('Количество написанных обзоров:', sql_query(query_count_reviews).loc[0, 'count'])\n",
    "print('Количество авторов:', sql_query(query_username).loc[0, 'count'])"
   ]
  },
  {
   "cell_type": "markdown",
   "id": "dcef4b1c",
   "metadata": {},
   "source": [
    "<b> Вывод:</b>\n",
    "База данных состоит из 5 таблиц:\n",
    "\n",
    "- books - данные о книгах:\n",
    "    - book_id — идентификатор книги;\n",
    "    - author_id — идентификатор автора;\n",
    "    - title — название книги;\n",
    "    - num_pages — количество страниц;\n",
    "    - publication_date — дата публикации книги;\n",
    "    - publisher_id — идентификатор издателя.\n",
    "- authors - данные об авторах:\n",
    "    - author_id — идентификатор автора;\n",
    "    - author — имя автора.\n",
    "- publishers - данные об издательствах:\n",
    "    - publisher_id — идентификатор издательства;\n",
    "    - publisher — название издательства;\n",
    "- ratings - данные о пользовательских оценках книг:\n",
    "    - rating_id — идентификатор оценки;\n",
    "    - book_id — идентификатор книги;\n",
    "    - username — имя пользователя, оставившего оценку;\n",
    "    - rating — оценка книги.\n",
    "- reviews - данные о пользовательских обзорах на книги:\n",
    "    - review_id — идентификатор обзора;\n",
    "    - book_id — идентификатор книги;\n",
    "    - username — имя пользователя, написавшего обзор;\n",
    "    - text — текст обзора.\n",
    "    \n",
    "Содержит информацию о 1000 книга, опубликованные с 1952-12-01 по 2020-03-31, 636 авторах, 340 издательствах. 160 пользователей выставляли оценки и писали обзоры."
   ]
  },
  {
   "cell_type": "markdown",
   "id": "c9d14528",
   "metadata": {},
   "source": [
    "## Анализ базы данных"
   ]
  },
  {
   "cell_type": "markdown",
   "id": "67179c1e",
   "metadata": {},
   "source": [
    "### Количество книг, вышедших после 1 января 2000 года"
   ]
  },
  {
   "cell_type": "code",
   "execution_count": 14,
   "id": "84558a49",
   "metadata": {},
   "outputs": [
    {
     "name": "stdout",
     "output_type": "stream",
     "text": [
      "Количество книг, вышедших после 1 января 2000 года: 821\n"
     ]
    }
   ],
   "source": [
    "query = '''SELECT count(*) FROM books\n",
    "            WHERE DATE_TRUNC('day', publication_date)>='01.01.2000' '''\n",
    "print('Количество книг, вышедших после 1 января 2000 года:', sql_query(query).loc[0, 'count'])"
   ]
  },
  {
   "cell_type": "markdown",
   "id": "00c9c578",
   "metadata": {},
   "source": [
    "В базе данных 80% современных книг, выпущенных с 2000 года."
   ]
  },
  {
   "cell_type": "markdown",
   "id": "2e9d4001",
   "metadata": {},
   "source": [
    "### Количество обзоров и средняя оценка для каждой книги "
   ]
  },
  {
   "cell_type": "code",
   "execution_count": 53,
   "id": "1dbeee1d",
   "metadata": {},
   "outputs": [
    {
     "data": {
      "text/html": [
       "<div>\n",
       "<style scoped>\n",
       "    .dataframe tbody tr th:only-of-type {\n",
       "        vertical-align: middle;\n",
       "    }\n",
       "\n",
       "    .dataframe tbody tr th {\n",
       "        vertical-align: top;\n",
       "    }\n",
       "\n",
       "    .dataframe thead th {\n",
       "        text-align: right;\n",
       "    }\n",
       "</style>\n",
       "<table border=\"1\" class=\"dataframe\">\n",
       "  <thead>\n",
       "    <tr style=\"text-align: right;\">\n",
       "      <th></th>\n",
       "      <th>book_id</th>\n",
       "      <th>title</th>\n",
       "      <th>avg_rating</th>\n",
       "      <th>count_review</th>\n",
       "    </tr>\n",
       "  </thead>\n",
       "  <tbody>\n",
       "    <tr>\n",
       "      <th>0</th>\n",
       "      <td>948</td>\n",
       "      <td>Twilight (Twilight  #1)</td>\n",
       "      <td>3.662500</td>\n",
       "      <td>7</td>\n",
       "    </tr>\n",
       "    <tr>\n",
       "      <th>1</th>\n",
       "      <td>302</td>\n",
       "      <td>Harry Potter and the Prisoner of Azkaban (Harr...</td>\n",
       "      <td>4.414634</td>\n",
       "      <td>6</td>\n",
       "    </tr>\n",
       "    <tr>\n",
       "      <th>2</th>\n",
       "      <td>299</td>\n",
       "      <td>Harry Potter and the Chamber of Secrets (Harry...</td>\n",
       "      <td>4.287500</td>\n",
       "      <td>6</td>\n",
       "    </tr>\n",
       "    <tr>\n",
       "      <th>3</th>\n",
       "      <td>656</td>\n",
       "      <td>The Book Thief</td>\n",
       "      <td>4.264151</td>\n",
       "      <td>6</td>\n",
       "    </tr>\n",
       "    <tr>\n",
       "      <th>4</th>\n",
       "      <td>734</td>\n",
       "      <td>The Glass Castle</td>\n",
       "      <td>4.206897</td>\n",
       "      <td>6</td>\n",
       "    </tr>\n",
       "    <tr>\n",
       "      <th>5</th>\n",
       "      <td>750</td>\n",
       "      <td>The Hobbit  or There and Back Again</td>\n",
       "      <td>4.125000</td>\n",
       "      <td>6</td>\n",
       "    </tr>\n",
       "    <tr>\n",
       "      <th>6</th>\n",
       "      <td>497</td>\n",
       "      <td>Outlander (Outlander  #1)</td>\n",
       "      <td>4.125000</td>\n",
       "      <td>6</td>\n",
       "    </tr>\n",
       "    <tr>\n",
       "      <th>7</th>\n",
       "      <td>695</td>\n",
       "      <td>The Curious Incident of the Dog in the Night-Time</td>\n",
       "      <td>4.081081</td>\n",
       "      <td>6</td>\n",
       "    </tr>\n",
       "    <tr>\n",
       "      <th>8</th>\n",
       "      <td>779</td>\n",
       "      <td>The Lightning Thief (Percy Jackson and the Oly...</td>\n",
       "      <td>4.080645</td>\n",
       "      <td>6</td>\n",
       "    </tr>\n",
       "    <tr>\n",
       "      <th>9</th>\n",
       "      <td>963</td>\n",
       "      <td>Water for Elephants</td>\n",
       "      <td>3.977273</td>\n",
       "      <td>6</td>\n",
       "    </tr>\n",
       "  </tbody>\n",
       "</table>\n",
       "</div>"
      ],
      "text/plain": [
       "   book_id                                              title  avg_rating  \\\n",
       "0      948                            Twilight (Twilight  #1)    3.662500   \n",
       "1      302  Harry Potter and the Prisoner of Azkaban (Harr...    4.414634   \n",
       "2      299  Harry Potter and the Chamber of Secrets (Harry...    4.287500   \n",
       "3      656                                     The Book Thief    4.264151   \n",
       "4      734                                   The Glass Castle    4.206897   \n",
       "5      750                The Hobbit  or There and Back Again    4.125000   \n",
       "6      497                          Outlander (Outlander  #1)    4.125000   \n",
       "7      695  The Curious Incident of the Dog in the Night-Time    4.081081   \n",
       "8      779  The Lightning Thief (Percy Jackson and the Oly...    4.080645   \n",
       "9      963                                Water for Elephants    3.977273   \n",
       "\n",
       "   count_review  \n",
       "0             7  \n",
       "1             6  \n",
       "2             6  \n",
       "3             6  \n",
       "4             6  \n",
       "5             6  \n",
       "6             6  \n",
       "7             6  \n",
       "8             6  \n",
       "9             6  "
      ]
     },
     "execution_count": 53,
     "metadata": {},
     "output_type": "execute_result"
    }
   ],
   "source": [
    "query = '''WITH count_review as\n",
    "                    (\n",
    "                    SELECT book_id, count(review_id) as count_review FROM reviews\n",
    "                    GROUP BY book_id\n",
    "                    ),\n",
    "                avg_rating as\n",
    "                    (\n",
    "                    SELECT book_id, AVG(rating) as avg_rating FROM ratings\n",
    "                    GROUP BY book_id\n",
    "                    ),\n",
    "                    \n",
    "                final_table as \n",
    "                (\n",
    "                SELECT b.book_id, b.title, avg_rating, COALESCE(count_review, 0) as count_review FROM books as b\n",
    "                LEFT JOIN avg_rating as ra on b.book_id = ra.book_id\n",
    "                LEFT JOIN count_review as re on b.book_id = re.book_id\n",
    "                )\n",
    "                \n",
    "                SELECT * FROM final_table\n",
    "                ORDER BY count_review DESC, avg_rating DESC\n",
    "            '''\n",
    "\n",
    "temp = sql_query(query)\n",
    "temp.head(10)"
   ]
  },
  {
   "cell_type": "markdown",
   "id": "d091a694",
   "metadata": {},
   "source": [
    "В ТОП по количеству обзоров попали такие книги, как серии о Гарри Поттере, Хоббит, Сумерки, Перси Джексон и похититель молний и другие. Все они являются бестселлерам или высоко оценнными критиками и были экранизированы. Поэтому остаются обсуждаемыми, а также вызывают разногласия, судя по средним оценкам    "
   ]
  },
  {
   "cell_type": "markdown",
   "id": "9c65a73e",
   "metadata": {},
   "source": [
    "### Издательство, которое выпустило наибольшее число книг толще 50 страниц "
   ]
  },
  {
   "cell_type": "code",
   "execution_count": 18,
   "id": "f5d11a07",
   "metadata": {},
   "outputs": [
    {
     "name": "stdout",
     "output_type": "stream",
     "text": [
      "Издательство, которое выпустило наибольшее число книг толще 50 страниц: Penguin Books\n",
      "Количество выпущенных книг: 42\n"
     ]
    }
   ],
   "source": [
    "query = '''SELECT p.publisher, COUNT(b.book_id) as count  FROM books as b\n",
    "           JOIN publishers as p on b.publisher_id = p.publisher_id\n",
    "           WHERE b.num_pages>50\n",
    "           GROUP BY p.publisher\n",
    "           ORDER BY count DESC\n",
    "           LIMIT 1\n",
    "           '''\n",
    "temp = sql_query(query)\n",
    "\n",
    "print('Издательство, которое выпустило наибольшее число книг толще 50 страниц:', temp.loc[0, 'publisher'])\n",
    "print('Количество выпущенных книг:', temp.loc[0, 'count'])"
   ]
  },
  {
   "cell_type": "markdown",
   "id": "35588360",
   "metadata": {},
   "source": [
    "Penguin Books - издательство, которое печатало качественную литературу в мягком переплёте, что позволяло удешевить книги, а значит больше людей имели к ним доступ. Качественная литература востребована всегда. Наличие в лидерах данного издательства говорит об высоком уровне наполнения базы данных."
   ]
  },
  {
   "cell_type": "markdown",
   "id": "5fdf9d68",
   "metadata": {},
   "source": [
    "### Автор с самой высокой средней оценкой книг с учетом книг с 50 и более оценками"
   ]
  },
  {
   "cell_type": "code",
   "execution_count": 19,
   "id": "349fecac",
   "metadata": {},
   "outputs": [
    {
     "name": "stdout",
     "output_type": "stream",
     "text": [
      "Автор с самой высокой средней оценкой книг: J.K. Rowling/Mary GrandPré\n",
      "Рейтинг: 4.29\n"
     ]
    }
   ],
   "source": [
    "query = '''WITH b_r as \n",
    "                    (\n",
    "                    SELECT b.book_id, count(r.rating)  FROM books as b\n",
    "                    JOIN ratings as r on b.book_id = r.book_id\n",
    "                    GROUP BY b.book_id\n",
    "                    HAVING count(r.rating)>=50\n",
    "                    )\n",
    "        \n",
    "           SELECT a.author, AVG(r.rating) as rating FROM books as b\n",
    "           JOIN ratings as r on b.book_id = r.book_id\n",
    "           JOIN authors as a on b.author_id = a.author_id\n",
    "           WHERE b.book_id IN (SELECT book_id FROM b_r)\n",
    "           GROUP BY a.author\n",
    "           ORDER BY rating DESC\n",
    "           LIMIT 1\n",
    "           '''\n",
    "temp = sql_query(query)\n",
    "\n",
    "print('Автор с самой высокой средней оценкой книг:', temp.loc[0, 'author'])\n",
    "print('Рейтинг:', round(temp.loc[0, 'rating'],2))"
   ]
  },
  {
   "cell_type": "markdown",
   "id": "aeb842db",
   "metadata": {},
   "source": [
    "J.K. Rowling - автор серии книг о Гарри Поттере. Каждая книга серии стала бестселлером: мир волшебства привлек огромное количество поклонников. Эти книги остаются востребованы и у подрастающего поколения."
   ]
  },
  {
   "cell_type": "markdown",
   "id": "4ae841ac",
   "metadata": {},
   "source": [
    "### Cреднее количество обзоров от пользователей, которые поставили больше 48 оценок."
   ]
  },
  {
   "cell_type": "code",
   "execution_count": 20,
   "id": "ff4fd70f",
   "metadata": {},
   "outputs": [
    {
     "name": "stdout",
     "output_type": "stream",
     "text": [
      "Cреднее количество обзоров от пользователей, которые поставили больше 48 оценок: 24.0\n"
     ]
    }
   ],
   "source": [
    "query = '''WITH ra as \n",
    "                    (\n",
    "                    SELECT username, count(rating)  FROM ratings\n",
    "                    GROUP BY username\n",
    "                    HAVING count(rating)>48\n",
    "                    )\n",
    "            \n",
    "           SELECT AVG(count) FROM\n",
    "           (SELECT count(review_id) as count FROM reviews\n",
    "           WHERE username IN (SELECT username FROM ra)\n",
    "           GROUP BY username) as re\n",
    "           '''\n",
    "\n",
    "print('Cреднее количество обзоров от пользователей, которые поставили больше 48 оценок:', sql_query(query).loc[0, 'avg'])"
   ]
  },
  {
   "cell_type": "markdown",
   "id": "651e8d66",
   "metadata": {},
   "source": [
    "В базе данных есть информация о пользователях, которые активно читают, ставят оценки и пишут обзоры. Это говорит о востребованности книг, которые есть в базе. Кроме того выставленные оценки и обзоры могут помочь в выборе другим читателям."
   ]
  },
  {
   "cell_type": "markdown",
   "id": "311649ac",
   "metadata": {},
   "source": [
    "## Вывод"
   ]
  },
  {
   "cell_type": "markdown",
   "id": "cb5868be",
   "metadata": {},
   "source": [
    "База данных состоит из 5 таблиц:\n",
    "\n",
    "- books - данные о книгах;\n",
    "- authors - данные об авторах;\n",
    "- publishers - данные об издательствах;\n",
    "- ratings - данные о пользовательских оценках книг;\n",
    "- reviews - данные о пользовательских обзорах на книги.\n",
    "    \n",
    "Содержит информацию о 1000 книга, опубликованные с 1952-12-01 по 2020-03-31, 636 авторах, 340 издательствах. 160 пользователей выставляли оценки и писали обзоры.\n",
    "\n",
    "Были исследованы следующие характеристики:\n",
    "- количество книг вышло после 1 января 2000 года - 821;\n",
    "- количество обзоров и средняя оценка для каждой книги;\n",
    "- издательство, которое выпустило наибольшее число книг толще 50 страниц - Penguin Books;\n",
    "- автор с самой высокой средней оценкой книг — J.K. Rowling/Mary GrandPré;\n",
    "- среднее количество обзоров от пользователей, которые поставили больше 48 оценок - 24.\n",
    "\n",
    "В качестве пунктов ценостного предложения можно выделить:\n",
    "\n",
    "- современнность книг, которые есть в базе данных;\n",
    "- наличие бестселлеров и качественной литературы;\n",
    "- большое количество оценок и обзоров для помощи в выборе.\n",
    "  "
   ]
  }
 ],
 "metadata": {
  "ExecuteTimeLog": [
   {
    "duration": 50,
    "start_time": "2023-07-05T08:18:54.784Z"
   },
   {
    "duration": 529,
    "start_time": "2023-07-05T08:19:12.345Z"
   },
   {
    "duration": 12961,
    "start_time": "2023-07-05T08:19:12.876Z"
   },
   {
    "duration": 3,
    "start_time": "2023-07-05T08:19:25.839Z"
   },
   {
    "duration": 90,
    "start_time": "2023-07-05T08:19:25.844Z"
   },
   {
    "duration": 21,
    "start_time": "2023-07-05T08:19:25.936Z"
   },
   {
    "duration": 11,
    "start_time": "2023-07-05T08:19:25.958Z"
   },
   {
    "duration": 6,
    "start_time": "2023-07-05T08:19:25.971Z"
   },
   {
    "duration": 10,
    "start_time": "2023-07-05T08:19:25.979Z"
   },
   {
    "duration": 7,
    "start_time": "2023-07-05T08:19:25.991Z"
   },
   {
    "duration": 25,
    "start_time": "2023-07-05T08:19:26.001Z"
   },
   {
    "duration": 26,
    "start_time": "2023-07-05T08:19:26.028Z"
   },
   {
    "duration": 29,
    "start_time": "2023-07-05T08:19:26.055Z"
   },
   {
    "duration": 12,
    "start_time": "2023-07-05T08:19:26.086Z"
   },
   {
    "duration": 7,
    "start_time": "2023-07-05T08:19:26.100Z"
   },
   {
    "duration": 28,
    "start_time": "2023-07-05T08:19:26.109Z"
   },
   {
    "duration": 26,
    "start_time": "2023-07-05T08:19:26.138Z"
   },
   {
    "duration": 2,
    "start_time": "2023-07-05T08:19:26.167Z"
   },
   {
    "duration": 10,
    "start_time": "2023-07-05T08:19:26.171Z"
   },
   {
    "duration": 14,
    "start_time": "2023-07-05T08:19:26.183Z"
   },
   {
    "duration": 11,
    "start_time": "2023-07-05T08:19:26.198Z"
   },
   {
    "duration": 11,
    "start_time": "2023-07-05T08:20:13.755Z"
   },
   {
    "duration": 88,
    "start_time": "2023-07-05T08:21:41.315Z"
   },
   {
    "duration": 47,
    "start_time": "2023-07-05T08:21:54.652Z"
   },
   {
    "duration": 40,
    "start_time": "2023-07-05T08:21:58.739Z"
   },
   {
    "duration": 36,
    "start_time": "2023-07-05T08:22:02.355Z"
   },
   {
    "duration": 28,
    "start_time": "2023-07-05T08:22:37.059Z"
   },
   {
    "duration": 24,
    "start_time": "2023-07-05T08:22:48.443Z"
   },
   {
    "duration": 27,
    "start_time": "2023-07-05T08:27:11.772Z"
   },
   {
    "duration": 20,
    "start_time": "2023-07-05T08:27:59.940Z"
   },
   {
    "duration": 25,
    "start_time": "2023-07-05T08:28:11.332Z"
   },
   {
    "duration": 25,
    "start_time": "2023-07-05T08:28:37.228Z"
   },
   {
    "duration": 21,
    "start_time": "2023-07-05T08:29:29.237Z"
   },
   {
    "duration": 24,
    "start_time": "2023-07-05T08:29:56.140Z"
   },
   {
    "duration": 18,
    "start_time": "2023-07-05T08:30:48.276Z"
   },
   {
    "duration": 25,
    "start_time": "2023-07-05T08:30:52.044Z"
   },
   {
    "duration": 21,
    "start_time": "2023-07-05T08:37:34.533Z"
   },
   {
    "duration": 21,
    "start_time": "2023-07-05T08:37:43.189Z"
   },
   {
    "duration": 59,
    "start_time": "2023-07-05T08:38:03.890Z"
   },
   {
    "duration": 41,
    "start_time": "2023-07-05T08:38:31.613Z"
   },
   {
    "duration": 52,
    "start_time": "2023-07-05T08:40:42.190Z"
   },
   {
    "duration": 61,
    "start_time": "2023-07-05T08:42:52.319Z"
   },
   {
    "duration": 21,
    "start_time": "2023-07-05T08:46:16.319Z"
   },
   {
    "duration": 22,
    "start_time": "2023-07-05T08:46:29.625Z"
   },
   {
    "duration": 23,
    "start_time": "2023-07-05T08:46:34.487Z"
   },
   {
    "duration": 31,
    "start_time": "2023-07-05T08:48:08.599Z"
   },
   {
    "duration": 1479,
    "start_time": "2023-07-05T08:48:15.023Z"
   },
   {
    "duration": 26,
    "start_time": "2023-07-05T08:48:30.457Z"
   },
   {
    "duration": 22,
    "start_time": "2023-07-05T08:49:32.687Z"
   },
   {
    "duration": 30,
    "start_time": "2023-07-05T08:49:46.463Z"
   },
   {
    "duration": 23,
    "start_time": "2023-07-05T08:49:55.551Z"
   },
   {
    "duration": 23,
    "start_time": "2023-07-05T08:49:59.511Z"
   },
   {
    "duration": 23,
    "start_time": "2023-07-05T08:50:43.622Z"
   },
   {
    "duration": 22,
    "start_time": "2023-07-05T08:50:48.103Z"
   },
   {
    "duration": 97,
    "start_time": "2023-07-05T09:08:00.156Z"
   },
   {
    "duration": 67,
    "start_time": "2023-07-05T09:08:17.508Z"
   }
  ],
  "kernelspec": {
   "display_name": "Python 3 (ipykernel)",
   "language": "python",
   "name": "python3"
  },
  "language_info": {
   "codemirror_mode": {
    "name": "ipython",
    "version": 3
   },
   "file_extension": ".py",
   "mimetype": "text/x-python",
   "name": "python",
   "nbconvert_exporter": "python",
   "pygments_lexer": "ipython3",
   "version": "3.9.15"
  },
  "toc": {
   "base_numbering": 1,
   "nav_menu": {},
   "number_sections": true,
   "sideBar": true,
   "skip_h1_title": true,
   "title_cell": "Table of Contents",
   "title_sidebar": "Contents",
   "toc_cell": false,
   "toc_position": {
    "height": "calc(100% - 180px)",
    "left": "10px",
    "top": "150px",
    "width": "606.875px"
   },
   "toc_section_display": true,
   "toc_window_display": true
  }
 },
 "nbformat": 4,
 "nbformat_minor": 5
}
