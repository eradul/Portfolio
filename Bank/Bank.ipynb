{
 "cells": [
  {
   "cell_type": "markdown",
   "id": "d411619e",
   "metadata": {},
   "source": [
    "# Банки - Анализ оттока клиентов"
   ]
  },
  {
   "cell_type": "markdown",
   "id": "7495f1be",
   "metadata": {},
   "source": [
    "<b> Описание </b>\n",
    "\n",
    "В банке «Метанпромбанк» повысился отток клиентов. Предыдущие рекомендации, основанные на исследовании оттока и выделении сегментов клиентов, перестали работать в связи с изменением клиентской базы. \n",
    "\n",
    "<b> Заказчик: </b> отдел маркетинга “Метанпромбанка”.\n",
    "\n",
    "<b> Цель работы: </b> выдать рекомендации по снижению оттока клиентов в банке.\n",
    "\n",
    "<b>Задачи:</b>\n",
    "1. Предобработки данных: \n",
    "    - загрузка данных;\n",
    "    - переименование столбцов;\n",
    "    - исследование и обработка пропусков;\n",
    "    - исследование и обработка явных и неявных дубликаты;\n",
    "    - исследование и приведение в соответствие типов данных.\n",
    "2. Исследование данных:\n",
    "    - проверка корректности значений;\n",
    "    - удаление выбросов;\n",
    "    - определение значимых признаков отточности по всем характеристикам;\n",
    "    - составление портрета клиента.\n",
    "3. Исследование корреляции:\n",
    "    - построение матрицы корреляций.\n",
    "4. Проверка гипотез:\n",
    "    - о равенстве средних скорингов текущих и бывших клиентов;\n",
    "    - о равенстве средних заработных плат текущих и бывших клиентов;\n",
    "    - о равенстве среднего возраста текущих и бывших клиентов;\n",
    "    - о равенстве среднего количества используемых банковских продуктов текущих и бывших клиентов;\n",
    "    - о равенстве долей держателей кредитных карт текущих и бывших клиентов.\n",
    "5. Подведение промежуточных итогов (вывод признаков для сегментации) \n",
    "6. Сегментация клиентов по признакам, наиболее влияющим на отток по итогам исследования данных, расчета корреляций и проверки гипотез.\n",
    "7. Вывод и выдача рекомендаций\n",
    "\n",
    "<b>Описание данных:</b>\n",
    "- USERID — идентификатор пользователя,\n",
    "- score — баллы кредитного скоринга,\n",
    "- city — город,\n",
    "- gender — пол,\n",
    "- age — возраст,\n",
    "- equity — количество баллов собственности\n",
    "- balance — баланс на счёте,\n",
    "- products — количество продуктов, которыми пользуется клиент,\n",
    "- credit_card — есть ли кредитная карта,\n",
    "- last_activity — активный клиент,\n",
    "- EST_SALARY — заработная плата клиента,\n",
    "- churn — ушёл или нет."
   ]
  },
  {
   "cell_type": "markdown",
   "id": "50713c91",
   "metadata": {},
   "source": [
    "## Загрузка данных"
   ]
  },
  {
   "cell_type": "code",
   "execution_count": 1,
   "id": "c21de26d",
   "metadata": {},
   "outputs": [],
   "source": [
    "#pip install phik==0.12.3"
   ]
  },
  {
   "cell_type": "code",
   "execution_count": 2,
   "id": "a097abc5",
   "metadata": {},
   "outputs": [],
   "source": [
    "# импорт библиотек\n",
    "import pandas as pd\n",
    "\n",
    "import numpy as np\n",
    "\n",
    "import seaborn as sns\n",
    "import matplotlib.pyplot as plt\n",
    "\n",
    "import statistics\n",
    "import scipy.stats as stats\n",
    "from statsmodels.stats.proportion import proportions_ztest\n",
    "\n",
    "import phik\n",
    "\n",
    "from itertools import combinations\n",
    "\n",
    "import warnings\n",
    "warnings.filterwarnings('ignore')"
   ]
  },
  {
   "cell_type": "code",
   "execution_count": 3,
   "id": "60a3f583",
   "metadata": {},
   "outputs": [
    {
     "data": {
      "text/html": [
       "<div>\n",
       "<style scoped>\n",
       "    .dataframe tbody tr th:only-of-type {\n",
       "        vertical-align: middle;\n",
       "    }\n",
       "\n",
       "    .dataframe tbody tr th {\n",
       "        vertical-align: top;\n",
       "    }\n",
       "\n",
       "    .dataframe thead th {\n",
       "        text-align: right;\n",
       "    }\n",
       "</style>\n",
       "<table border=\"1\" class=\"dataframe\">\n",
       "  <thead>\n",
       "    <tr style=\"text-align: right;\">\n",
       "      <th></th>\n",
       "      <th>USERID</th>\n",
       "      <th>score</th>\n",
       "      <th>city</th>\n",
       "      <th>gender</th>\n",
       "      <th>age</th>\n",
       "      <th>equity</th>\n",
       "      <th>balance</th>\n",
       "      <th>products</th>\n",
       "      <th>credit_card</th>\n",
       "      <th>last_activity</th>\n",
       "      <th>EST_SALARY</th>\n",
       "      <th>churn</th>\n",
       "    </tr>\n",
       "  </thead>\n",
       "  <tbody>\n",
       "    <tr>\n",
       "      <th>0</th>\n",
       "      <td>183012</td>\n",
       "      <td>850.0</td>\n",
       "      <td>Рыбинск</td>\n",
       "      <td>Ж</td>\n",
       "      <td>25.0</td>\n",
       "      <td>1</td>\n",
       "      <td>59214.82</td>\n",
       "      <td>2</td>\n",
       "      <td>0</td>\n",
       "      <td>1</td>\n",
       "      <td>75719.14</td>\n",
       "      <td>1</td>\n",
       "    </tr>\n",
       "    <tr>\n",
       "      <th>1</th>\n",
       "      <td>146556</td>\n",
       "      <td>861.0</td>\n",
       "      <td>Рыбинск</td>\n",
       "      <td>Ж</td>\n",
       "      <td>37.0</td>\n",
       "      <td>5</td>\n",
       "      <td>850594.33</td>\n",
       "      <td>3</td>\n",
       "      <td>1</td>\n",
       "      <td>0</td>\n",
       "      <td>86621.77</td>\n",
       "      <td>0</td>\n",
       "    </tr>\n",
       "    <tr>\n",
       "      <th>2</th>\n",
       "      <td>120722</td>\n",
       "      <td>892.0</td>\n",
       "      <td>Рыбинск</td>\n",
       "      <td>Ж</td>\n",
       "      <td>30.0</td>\n",
       "      <td>0</td>\n",
       "      <td>NaN</td>\n",
       "      <td>1</td>\n",
       "      <td>1</td>\n",
       "      <td>1</td>\n",
       "      <td>107683.34</td>\n",
       "      <td>0</td>\n",
       "    </tr>\n",
       "    <tr>\n",
       "      <th>3</th>\n",
       "      <td>225363</td>\n",
       "      <td>866.0</td>\n",
       "      <td>Ярославль</td>\n",
       "      <td>Ж</td>\n",
       "      <td>51.0</td>\n",
       "      <td>5</td>\n",
       "      <td>1524746.26</td>\n",
       "      <td>2</td>\n",
       "      <td>0</td>\n",
       "      <td>1</td>\n",
       "      <td>174423.53</td>\n",
       "      <td>1</td>\n",
       "    </tr>\n",
       "    <tr>\n",
       "      <th>4</th>\n",
       "      <td>157978</td>\n",
       "      <td>730.0</td>\n",
       "      <td>Ярославль</td>\n",
       "      <td>М</td>\n",
       "      <td>34.0</td>\n",
       "      <td>5</td>\n",
       "      <td>174.00</td>\n",
       "      <td>1</td>\n",
       "      <td>1</td>\n",
       "      <td>0</td>\n",
       "      <td>67353.16</td>\n",
       "      <td>1</td>\n",
       "    </tr>\n",
       "  </tbody>\n",
       "</table>\n",
       "</div>"
      ],
      "text/plain": [
       "   USERID  score       city gender   age  equity     balance  products  \\\n",
       "0  183012  850.0    Рыбинск      Ж  25.0       1    59214.82         2   \n",
       "1  146556  861.0    Рыбинск      Ж  37.0       5   850594.33         3   \n",
       "2  120722  892.0    Рыбинск      Ж  30.0       0         NaN         1   \n",
       "3  225363  866.0  Ярославль      Ж  51.0       5  1524746.26         2   \n",
       "4  157978  730.0  Ярославль      М  34.0       5      174.00         1   \n",
       "\n",
       "   credit_card  last_activity  EST_SALARY  churn  \n",
       "0            0              1    75719.14      1  \n",
       "1            1              0    86621.77      0  \n",
       "2            1              1   107683.34      0  \n",
       "3            0              1   174423.53      1  \n",
       "4            1              0    67353.16      1  "
      ]
     },
     "execution_count": 3,
     "metadata": {},
     "output_type": "execute_result"
    }
   ],
   "source": [
    "#загрузка данных\n",
    "try:\n",
    "    df = pd.read_csv(r'C:\\Users\\Евгения\\python\\Projects\\Banks\\bank_scrooge.csv')\n",
    "except:\n",
    "    print('Ошибка загрузки данных')\n",
    "df.head()"
   ]
  },
  {
   "cell_type": "code",
   "execution_count": 4,
   "id": "28ccaa02",
   "metadata": {},
   "outputs": [
    {
     "name": "stdout",
     "output_type": "stream",
     "text": [
      "<class 'pandas.core.frame.DataFrame'>\n",
      "RangeIndex: 10000 entries, 0 to 9999\n",
      "Data columns (total 12 columns):\n",
      " #   Column         Non-Null Count  Dtype  \n",
      "---  ------         --------------  -----  \n",
      " 0   USERID         10000 non-null  int64  \n",
      " 1   score          10000 non-null  float64\n",
      " 2   city           10000 non-null  object \n",
      " 3   gender         10000 non-null  object \n",
      " 4   age            9974 non-null   float64\n",
      " 5   equity         10000 non-null  int64  \n",
      " 6   balance        7705 non-null   float64\n",
      " 7   products       10000 non-null  int64  \n",
      " 8   credit_card    10000 non-null  int64  \n",
      " 9   last_activity  10000 non-null  int64  \n",
      " 10  EST_SALARY     10000 non-null  float64\n",
      " 11  churn          10000 non-null  int64  \n",
      "dtypes: float64(4), int64(6), object(2)\n",
      "memory usage: 937.6+ KB\n"
     ]
    }
   ],
   "source": [
    "# общая информация по данным\n",
    "df.info()"
   ]
  },
  {
   "cell_type": "code",
   "execution_count": 5,
   "id": "b092e918",
   "metadata": {},
   "outputs": [
    {
     "data": {
      "text/html": [
       "<div>\n",
       "<style scoped>\n",
       "    .dataframe tbody tr th:only-of-type {\n",
       "        vertical-align: middle;\n",
       "    }\n",
       "\n",
       "    .dataframe tbody tr th {\n",
       "        vertical-align: top;\n",
       "    }\n",
       "\n",
       "    .dataframe thead th {\n",
       "        text-align: right;\n",
       "    }\n",
       "</style>\n",
       "<table border=\"1\" class=\"dataframe\">\n",
       "  <thead>\n",
       "    <tr style=\"text-align: right;\">\n",
       "      <th></th>\n",
       "      <th>USERID</th>\n",
       "      <th>score</th>\n",
       "      <th>age</th>\n",
       "      <th>equity</th>\n",
       "      <th>balance</th>\n",
       "      <th>products</th>\n",
       "      <th>credit_card</th>\n",
       "      <th>last_activity</th>\n",
       "      <th>EST_SALARY</th>\n",
       "      <th>churn</th>\n",
       "    </tr>\n",
       "  </thead>\n",
       "  <tbody>\n",
       "    <tr>\n",
       "      <th>count</th>\n",
       "      <td>10000.00000</td>\n",
       "      <td>10000.000000</td>\n",
       "      <td>9974.000000</td>\n",
       "      <td>10000.000000</td>\n",
       "      <td>7.705000e+03</td>\n",
       "      <td>10000.000000</td>\n",
       "      <td>10000.000000</td>\n",
       "      <td>10000.000000</td>\n",
       "      <td>1.000000e+04</td>\n",
       "      <td>10000.000000</td>\n",
       "    </tr>\n",
       "    <tr>\n",
       "      <th>mean</th>\n",
       "      <td>171814.71260</td>\n",
       "      <td>848.699400</td>\n",
       "      <td>42.734409</td>\n",
       "      <td>2.627600</td>\n",
       "      <td>8.277943e+05</td>\n",
       "      <td>1.870100</td>\n",
       "      <td>0.680400</td>\n",
       "      <td>0.523500</td>\n",
       "      <td>1.478669e+05</td>\n",
       "      <td>0.182000</td>\n",
       "    </tr>\n",
       "    <tr>\n",
       "      <th>std</th>\n",
       "      <td>33708.23812</td>\n",
       "      <td>65.448519</td>\n",
       "      <td>12.179971</td>\n",
       "      <td>1.980836</td>\n",
       "      <td>1.980614e+06</td>\n",
       "      <td>0.792647</td>\n",
       "      <td>0.466345</td>\n",
       "      <td>0.499472</td>\n",
       "      <td>1.393885e+05</td>\n",
       "      <td>0.385864</td>\n",
       "    </tr>\n",
       "    <tr>\n",
       "      <th>min</th>\n",
       "      <td>94561.00000</td>\n",
       "      <td>642.000000</td>\n",
       "      <td>18.000000</td>\n",
       "      <td>0.000000</td>\n",
       "      <td>0.000000e+00</td>\n",
       "      <td>0.000000</td>\n",
       "      <td>0.000000</td>\n",
       "      <td>0.000000</td>\n",
       "      <td>2.546300e+03</td>\n",
       "      <td>0.000000</td>\n",
       "    </tr>\n",
       "    <tr>\n",
       "      <th>25%</th>\n",
       "      <td>142810.25000</td>\n",
       "      <td>802.000000</td>\n",
       "      <td>33.000000</td>\n",
       "      <td>0.000000</td>\n",
       "      <td>2.955542e+05</td>\n",
       "      <td>1.000000</td>\n",
       "      <td>0.000000</td>\n",
       "      <td>0.000000</td>\n",
       "      <td>7.525190e+04</td>\n",
       "      <td>0.000000</td>\n",
       "    </tr>\n",
       "    <tr>\n",
       "      <th>50%</th>\n",
       "      <td>172728.00000</td>\n",
       "      <td>853.000000</td>\n",
       "      <td>40.000000</td>\n",
       "      <td>3.000000</td>\n",
       "      <td>5.242722e+05</td>\n",
       "      <td>2.000000</td>\n",
       "      <td>1.000000</td>\n",
       "      <td>1.000000</td>\n",
       "      <td>1.196581e+05</td>\n",
       "      <td>0.000000</td>\n",
       "    </tr>\n",
       "    <tr>\n",
       "      <th>75%</th>\n",
       "      <td>201261.75000</td>\n",
       "      <td>900.000000</td>\n",
       "      <td>51.000000</td>\n",
       "      <td>4.000000</td>\n",
       "      <td>9.807058e+05</td>\n",
       "      <td>2.000000</td>\n",
       "      <td>1.000000</td>\n",
       "      <td>1.000000</td>\n",
       "      <td>1.745005e+05</td>\n",
       "      <td>0.000000</td>\n",
       "    </tr>\n",
       "    <tr>\n",
       "      <th>max</th>\n",
       "      <td>229145.00000</td>\n",
       "      <td>1000.000000</td>\n",
       "      <td>86.000000</td>\n",
       "      <td>9.000000</td>\n",
       "      <td>1.191136e+08</td>\n",
       "      <td>5.000000</td>\n",
       "      <td>1.000000</td>\n",
       "      <td>1.000000</td>\n",
       "      <td>1.395064e+06</td>\n",
       "      <td>1.000000</td>\n",
       "    </tr>\n",
       "  </tbody>\n",
       "</table>\n",
       "</div>"
      ],
      "text/plain": [
       "             USERID         score          age        equity       balance  \\\n",
       "count   10000.00000  10000.000000  9974.000000  10000.000000  7.705000e+03   \n",
       "mean   171814.71260    848.699400    42.734409      2.627600  8.277943e+05   \n",
       "std     33708.23812     65.448519    12.179971      1.980836  1.980614e+06   \n",
       "min     94561.00000    642.000000    18.000000      0.000000  0.000000e+00   \n",
       "25%    142810.25000    802.000000    33.000000      0.000000  2.955542e+05   \n",
       "50%    172728.00000    853.000000    40.000000      3.000000  5.242722e+05   \n",
       "75%    201261.75000    900.000000    51.000000      4.000000  9.807058e+05   \n",
       "max    229145.00000   1000.000000    86.000000      9.000000  1.191136e+08   \n",
       "\n",
       "           products   credit_card  last_activity    EST_SALARY         churn  \n",
       "count  10000.000000  10000.000000   10000.000000  1.000000e+04  10000.000000  \n",
       "mean       1.870100      0.680400       0.523500  1.478669e+05      0.182000  \n",
       "std        0.792647      0.466345       0.499472  1.393885e+05      0.385864  \n",
       "min        0.000000      0.000000       0.000000  2.546300e+03      0.000000  \n",
       "25%        1.000000      0.000000       0.000000  7.525190e+04      0.000000  \n",
       "50%        2.000000      1.000000       1.000000  1.196581e+05      0.000000  \n",
       "75%        2.000000      1.000000       1.000000  1.745005e+05      0.000000  \n",
       "max        5.000000      1.000000       1.000000  1.395064e+06      1.000000  "
      ]
     },
     "execution_count": 5,
     "metadata": {},
     "output_type": "execute_result"
    }
   ],
   "source": [
    "# описательная статистика для числовых полей\n",
    "df.describe()"
   ]
  },
  {
   "cell_type": "markdown",
   "id": "8f35c000",
   "metadata": {},
   "source": [
    "<b>Вывод:</b>\n",
    "\n",
    "В полученных данных 10000 строк. Структура данных:\n",
    "- USERID — идентификатор пользователя,\n",
    "- score — баллы кредитного скоринга,\n",
    "- city — город,\n",
    "- gender — пол,\n",
    "- age — возраст,\n",
    "- equity — количество баллов собственности\n",
    "- balance — баланс на счёте,\n",
    "- products — количество продуктов, которыми пользуется клиент,\n",
    "- credit_card — есть ли кредитная карта,\n",
    "- last_activity — активный клиент,\n",
    "- EST_SALARY — заработная плата клиента,\n",
    "- churn — ушёл или нет.\n",
    "\n",
    "В столбцах возраста и баланса есть пропуски. Необходима корректировка наименований столбцов и преобразование типов данных. Кроме необходимо проверить наличие дубликатов. Для это проведем предобработку данных."
   ]
  },
  {
   "cell_type": "markdown",
   "id": "b06dc0c0",
   "metadata": {},
   "source": [
    "## Предобработка данных"
   ]
  },
  {
   "cell_type": "markdown",
   "id": "0dcb6966",
   "metadata": {},
   "source": [
    "### Переименование столбцов"
   ]
  },
  {
   "cell_type": "code",
   "execution_count": 6,
   "id": "97a0623d",
   "metadata": {},
   "outputs": [
    {
     "data": {
      "text/html": [
       "<div>\n",
       "<style scoped>\n",
       "    .dataframe tbody tr th:only-of-type {\n",
       "        vertical-align: middle;\n",
       "    }\n",
       "\n",
       "    .dataframe tbody tr th {\n",
       "        vertical-align: top;\n",
       "    }\n",
       "\n",
       "    .dataframe thead th {\n",
       "        text-align: right;\n",
       "    }\n",
       "</style>\n",
       "<table border=\"1\" class=\"dataframe\">\n",
       "  <thead>\n",
       "    <tr style=\"text-align: right;\">\n",
       "      <th></th>\n",
       "      <th>user_id</th>\n",
       "      <th>score</th>\n",
       "      <th>city</th>\n",
       "      <th>gender</th>\n",
       "      <th>age</th>\n",
       "      <th>equity</th>\n",
       "      <th>balance</th>\n",
       "      <th>products</th>\n",
       "      <th>credit_card</th>\n",
       "      <th>last_activity</th>\n",
       "      <th>est_salary</th>\n",
       "      <th>churn</th>\n",
       "    </tr>\n",
       "  </thead>\n",
       "  <tbody>\n",
       "    <tr>\n",
       "      <th>0</th>\n",
       "      <td>183012</td>\n",
       "      <td>850.0</td>\n",
       "      <td>Рыбинск</td>\n",
       "      <td>Ж</td>\n",
       "      <td>25.0</td>\n",
       "      <td>1</td>\n",
       "      <td>59214.82</td>\n",
       "      <td>2</td>\n",
       "      <td>0</td>\n",
       "      <td>1</td>\n",
       "      <td>75719.14</td>\n",
       "      <td>1</td>\n",
       "    </tr>\n",
       "    <tr>\n",
       "      <th>1</th>\n",
       "      <td>146556</td>\n",
       "      <td>861.0</td>\n",
       "      <td>Рыбинск</td>\n",
       "      <td>Ж</td>\n",
       "      <td>37.0</td>\n",
       "      <td>5</td>\n",
       "      <td>850594.33</td>\n",
       "      <td>3</td>\n",
       "      <td>1</td>\n",
       "      <td>0</td>\n",
       "      <td>86621.77</td>\n",
       "      <td>0</td>\n",
       "    </tr>\n",
       "    <tr>\n",
       "      <th>2</th>\n",
       "      <td>120722</td>\n",
       "      <td>892.0</td>\n",
       "      <td>Рыбинск</td>\n",
       "      <td>Ж</td>\n",
       "      <td>30.0</td>\n",
       "      <td>0</td>\n",
       "      <td>NaN</td>\n",
       "      <td>1</td>\n",
       "      <td>1</td>\n",
       "      <td>1</td>\n",
       "      <td>107683.34</td>\n",
       "      <td>0</td>\n",
       "    </tr>\n",
       "    <tr>\n",
       "      <th>3</th>\n",
       "      <td>225363</td>\n",
       "      <td>866.0</td>\n",
       "      <td>Ярославль</td>\n",
       "      <td>Ж</td>\n",
       "      <td>51.0</td>\n",
       "      <td>5</td>\n",
       "      <td>1524746.26</td>\n",
       "      <td>2</td>\n",
       "      <td>0</td>\n",
       "      <td>1</td>\n",
       "      <td>174423.53</td>\n",
       "      <td>1</td>\n",
       "    </tr>\n",
       "    <tr>\n",
       "      <th>4</th>\n",
       "      <td>157978</td>\n",
       "      <td>730.0</td>\n",
       "      <td>Ярославль</td>\n",
       "      <td>М</td>\n",
       "      <td>34.0</td>\n",
       "      <td>5</td>\n",
       "      <td>174.00</td>\n",
       "      <td>1</td>\n",
       "      <td>1</td>\n",
       "      <td>0</td>\n",
       "      <td>67353.16</td>\n",
       "      <td>1</td>\n",
       "    </tr>\n",
       "  </tbody>\n",
       "</table>\n",
       "</div>"
      ],
      "text/plain": [
       "   user_id  score       city gender   age  equity     balance  products  \\\n",
       "0   183012  850.0    Рыбинск      Ж  25.0       1    59214.82         2   \n",
       "1   146556  861.0    Рыбинск      Ж  37.0       5   850594.33         3   \n",
       "2   120722  892.0    Рыбинск      Ж  30.0       0         NaN         1   \n",
       "3   225363  866.0  Ярославль      Ж  51.0       5  1524746.26         2   \n",
       "4   157978  730.0  Ярославль      М  34.0       5      174.00         1   \n",
       "\n",
       "   credit_card  last_activity  est_salary  churn  \n",
       "0            0              1    75719.14      1  \n",
       "1            1              0    86621.77      0  \n",
       "2            1              1   107683.34      0  \n",
       "3            0              1   174423.53      1  \n",
       "4            1              0    67353.16      1  "
      ]
     },
     "execution_count": 6,
     "metadata": {},
     "output_type": "execute_result"
    }
   ],
   "source": [
    "#переименование столбцов\n",
    "df = df.rename(columns = {'USERID':'user_id', 'EST_SALARY': 'est_salary'})\n",
    "df.head()"
   ]
  },
  {
   "cell_type": "markdown",
   "id": "8df1d222",
   "metadata": {},
   "source": [
    "### Обработка пропусков"
   ]
  },
  {
   "cell_type": "markdown",
   "id": "e98c5252",
   "metadata": {},
   "source": [
    "#### Пропуски в столбце age"
   ]
  },
  {
   "cell_type": "code",
   "execution_count": 7,
   "id": "5315db25",
   "metadata": {},
   "outputs": [
    {
     "data": {
      "text/html": [
       "<div>\n",
       "<style scoped>\n",
       "    .dataframe tbody tr th:only-of-type {\n",
       "        vertical-align: middle;\n",
       "    }\n",
       "\n",
       "    .dataframe tbody tr th {\n",
       "        vertical-align: top;\n",
       "    }\n",
       "\n",
       "    .dataframe thead th {\n",
       "        text-align: right;\n",
       "    }\n",
       "</style>\n",
       "<table border=\"1\" class=\"dataframe\">\n",
       "  <thead>\n",
       "    <tr style=\"text-align: right;\">\n",
       "      <th></th>\n",
       "      <th>user_id</th>\n",
       "      <th>score</th>\n",
       "      <th>city</th>\n",
       "      <th>gender</th>\n",
       "      <th>age</th>\n",
       "      <th>equity</th>\n",
       "      <th>balance</th>\n",
       "      <th>products</th>\n",
       "      <th>credit_card</th>\n",
       "      <th>last_activity</th>\n",
       "      <th>est_salary</th>\n",
       "      <th>churn</th>\n",
       "    </tr>\n",
       "  </thead>\n",
       "  <tbody>\n",
       "    <tr>\n",
       "      <th>1247</th>\n",
       "      <td>228075</td>\n",
       "      <td>932.0</td>\n",
       "      <td>Ярославль</td>\n",
       "      <td>М</td>\n",
       "      <td>NaN</td>\n",
       "      <td>5</td>\n",
       "      <td>7601719.20</td>\n",
       "      <td>2</td>\n",
       "      <td>1</td>\n",
       "      <td>1</td>\n",
       "      <td>408121.16</td>\n",
       "      <td>0</td>\n",
       "    </tr>\n",
       "    <tr>\n",
       "      <th>2165</th>\n",
       "      <td>187635</td>\n",
       "      <td>692.0</td>\n",
       "      <td>Рыбинск</td>\n",
       "      <td>Ж</td>\n",
       "      <td>NaN</td>\n",
       "      <td>0</td>\n",
       "      <td>NaN</td>\n",
       "      <td>1</td>\n",
       "      <td>1</td>\n",
       "      <td>1</td>\n",
       "      <td>160368.82</td>\n",
       "      <td>0</td>\n",
       "    </tr>\n",
       "    <tr>\n",
       "      <th>2444</th>\n",
       "      <td>221156</td>\n",
       "      <td>913.0</td>\n",
       "      <td>Ярославль</td>\n",
       "      <td>М</td>\n",
       "      <td>NaN</td>\n",
       "      <td>0</td>\n",
       "      <td>NaN</td>\n",
       "      <td>1</td>\n",
       "      <td>1</td>\n",
       "      <td>1</td>\n",
       "      <td>135693.24</td>\n",
       "      <td>0</td>\n",
       "    </tr>\n",
       "    <tr>\n",
       "      <th>3091</th>\n",
       "      <td>138660</td>\n",
       "      <td>836.0</td>\n",
       "      <td>Ростов</td>\n",
       "      <td>Ж</td>\n",
       "      <td>NaN</td>\n",
       "      <td>5</td>\n",
       "      <td>294315.53</td>\n",
       "      <td>2</td>\n",
       "      <td>0</td>\n",
       "      <td>1</td>\n",
       "      <td>63310.22</td>\n",
       "      <td>1</td>\n",
       "    </tr>\n",
       "    <tr>\n",
       "      <th>4912</th>\n",
       "      <td>210674</td>\n",
       "      <td>834.0</td>\n",
       "      <td>Рыбинск</td>\n",
       "      <td>М</td>\n",
       "      <td>NaN</td>\n",
       "      <td>1</td>\n",
       "      <td>238330.52</td>\n",
       "      <td>2</td>\n",
       "      <td>0</td>\n",
       "      <td>1</td>\n",
       "      <td>93775.06</td>\n",
       "      <td>0</td>\n",
       "    </tr>\n",
       "    <tr>\n",
       "      <th>5470</th>\n",
       "      <td>218868</td>\n",
       "      <td>827.0</td>\n",
       "      <td>Рыбинск</td>\n",
       "      <td>Ж</td>\n",
       "      <td>NaN</td>\n",
       "      <td>4</td>\n",
       "      <td>448959.07</td>\n",
       "      <td>2</td>\n",
       "      <td>1</td>\n",
       "      <td>1</td>\n",
       "      <td>67835.95</td>\n",
       "      <td>0</td>\n",
       "    </tr>\n",
       "    <tr>\n",
       "      <th>5495</th>\n",
       "      <td>151662</td>\n",
       "      <td>884.0</td>\n",
       "      <td>Рыбинск</td>\n",
       "      <td>Ж</td>\n",
       "      <td>NaN</td>\n",
       "      <td>0</td>\n",
       "      <td>NaN</td>\n",
       "      <td>1</td>\n",
       "      <td>1</td>\n",
       "      <td>1</td>\n",
       "      <td>137500.77</td>\n",
       "      <td>0</td>\n",
       "    </tr>\n",
       "    <tr>\n",
       "      <th>7236</th>\n",
       "      <td>210135</td>\n",
       "      <td>908.0</td>\n",
       "      <td>Рыбинск</td>\n",
       "      <td>Ж</td>\n",
       "      <td>NaN</td>\n",
       "      <td>4</td>\n",
       "      <td>1120340.31</td>\n",
       "      <td>3</td>\n",
       "      <td>1</td>\n",
       "      <td>1</td>\n",
       "      <td>85002.15</td>\n",
       "      <td>0</td>\n",
       "    </tr>\n",
       "    <tr>\n",
       "      <th>7248</th>\n",
       "      <td>219343</td>\n",
       "      <td>920.0</td>\n",
       "      <td>Рыбинск</td>\n",
       "      <td>Ж</td>\n",
       "      <td>NaN</td>\n",
       "      <td>0</td>\n",
       "      <td>NaN</td>\n",
       "      <td>1</td>\n",
       "      <td>1</td>\n",
       "      <td>0</td>\n",
       "      <td>159248.67</td>\n",
       "      <td>0</td>\n",
       "    </tr>\n",
       "    <tr>\n",
       "      <th>7345</th>\n",
       "      <td>184913</td>\n",
       "      <td>829.0</td>\n",
       "      <td>Ярославль</td>\n",
       "      <td>Ж</td>\n",
       "      <td>NaN</td>\n",
       "      <td>3</td>\n",
       "      <td>188648.77</td>\n",
       "      <td>2</td>\n",
       "      <td>0</td>\n",
       "      <td>1</td>\n",
       "      <td>75206.90</td>\n",
       "      <td>0</td>\n",
       "    </tr>\n",
       "    <tr>\n",
       "      <th>7409</th>\n",
       "      <td>214031</td>\n",
       "      <td>777.0</td>\n",
       "      <td>Ярославль</td>\n",
       "      <td>М</td>\n",
       "      <td>NaN</td>\n",
       "      <td>2</td>\n",
       "      <td>171510.23</td>\n",
       "      <td>1</td>\n",
       "      <td>1</td>\n",
       "      <td>1</td>\n",
       "      <td>75409.63</td>\n",
       "      <td>0</td>\n",
       "    </tr>\n",
       "    <tr>\n",
       "      <th>8015</th>\n",
       "      <td>198635</td>\n",
       "      <td>670.0</td>\n",
       "      <td>Ярославль</td>\n",
       "      <td>Ж</td>\n",
       "      <td>NaN</td>\n",
       "      <td>0</td>\n",
       "      <td>NaN</td>\n",
       "      <td>1</td>\n",
       "      <td>1</td>\n",
       "      <td>1</td>\n",
       "      <td>168699.33</td>\n",
       "      <td>0</td>\n",
       "    </tr>\n",
       "    <tr>\n",
       "      <th>8070</th>\n",
       "      <td>226550</td>\n",
       "      <td>940.0</td>\n",
       "      <td>Рыбинск</td>\n",
       "      <td>М</td>\n",
       "      <td>NaN</td>\n",
       "      <td>0</td>\n",
       "      <td>NaN</td>\n",
       "      <td>1</td>\n",
       "      <td>0</td>\n",
       "      <td>1</td>\n",
       "      <td>147696.95</td>\n",
       "      <td>0</td>\n",
       "    </tr>\n",
       "    <tr>\n",
       "      <th>8293</th>\n",
       "      <td>216848</td>\n",
       "      <td>930.0</td>\n",
       "      <td>Ярославль</td>\n",
       "      <td>М</td>\n",
       "      <td>NaN</td>\n",
       "      <td>0</td>\n",
       "      <td>NaN</td>\n",
       "      <td>1</td>\n",
       "      <td>1</td>\n",
       "      <td>1</td>\n",
       "      <td>199542.51</td>\n",
       "      <td>0</td>\n",
       "    </tr>\n",
       "    <tr>\n",
       "      <th>8385</th>\n",
       "      <td>206759</td>\n",
       "      <td>915.0</td>\n",
       "      <td>Рыбинск</td>\n",
       "      <td>М</td>\n",
       "      <td>NaN</td>\n",
       "      <td>0</td>\n",
       "      <td>NaN</td>\n",
       "      <td>1</td>\n",
       "      <td>1</td>\n",
       "      <td>0</td>\n",
       "      <td>71179.53</td>\n",
       "      <td>0</td>\n",
       "    </tr>\n",
       "    <tr>\n",
       "      <th>8449</th>\n",
       "      <td>210898</td>\n",
       "      <td>805.0</td>\n",
       "      <td>Ярославль</td>\n",
       "      <td>Ж</td>\n",
       "      <td>NaN</td>\n",
       "      <td>0</td>\n",
       "      <td>NaN</td>\n",
       "      <td>1</td>\n",
       "      <td>0</td>\n",
       "      <td>1</td>\n",
       "      <td>922080.25</td>\n",
       "      <td>0</td>\n",
       "    </tr>\n",
       "    <tr>\n",
       "      <th>8632</th>\n",
       "      <td>221197</td>\n",
       "      <td>893.0</td>\n",
       "      <td>Ярославль</td>\n",
       "      <td>М</td>\n",
       "      <td>NaN</td>\n",
       "      <td>0</td>\n",
       "      <td>NaN</td>\n",
       "      <td>1</td>\n",
       "      <td>1</td>\n",
       "      <td>0</td>\n",
       "      <td>173929.92</td>\n",
       "      <td>0</td>\n",
       "    </tr>\n",
       "    <tr>\n",
       "      <th>8785</th>\n",
       "      <td>127440</td>\n",
       "      <td>663.0</td>\n",
       "      <td>Ярославль</td>\n",
       "      <td>М</td>\n",
       "      <td>NaN</td>\n",
       "      <td>0</td>\n",
       "      <td>NaN</td>\n",
       "      <td>1</td>\n",
       "      <td>1</td>\n",
       "      <td>1</td>\n",
       "      <td>117197.56</td>\n",
       "      <td>0</td>\n",
       "    </tr>\n",
       "    <tr>\n",
       "      <th>9104</th>\n",
       "      <td>222480</td>\n",
       "      <td>776.0</td>\n",
       "      <td>Рыбинск</td>\n",
       "      <td>Ж</td>\n",
       "      <td>NaN</td>\n",
       "      <td>5</td>\n",
       "      <td>796735.09</td>\n",
       "      <td>1</td>\n",
       "      <td>1</td>\n",
       "      <td>1</td>\n",
       "      <td>55073.63</td>\n",
       "      <td>0</td>\n",
       "    </tr>\n",
       "    <tr>\n",
       "      <th>9301</th>\n",
       "      <td>202983</td>\n",
       "      <td>942.0</td>\n",
       "      <td>Рыбинск</td>\n",
       "      <td>Ж</td>\n",
       "      <td>NaN</td>\n",
       "      <td>0</td>\n",
       "      <td>NaN</td>\n",
       "      <td>1</td>\n",
       "      <td>1</td>\n",
       "      <td>1</td>\n",
       "      <td>163804.73</td>\n",
       "      <td>0</td>\n",
       "    </tr>\n",
       "    <tr>\n",
       "      <th>9380</th>\n",
       "      <td>187459</td>\n",
       "      <td>894.0</td>\n",
       "      <td>Рыбинск</td>\n",
       "      <td>М</td>\n",
       "      <td>NaN</td>\n",
       "      <td>0</td>\n",
       "      <td>NaN</td>\n",
       "      <td>1</td>\n",
       "      <td>1</td>\n",
       "      <td>0</td>\n",
       "      <td>178012.28</td>\n",
       "      <td>0</td>\n",
       "    </tr>\n",
       "    <tr>\n",
       "      <th>9457</th>\n",
       "      <td>141945</td>\n",
       "      <td>929.0</td>\n",
       "      <td>Ярославль</td>\n",
       "      <td>М</td>\n",
       "      <td>NaN</td>\n",
       "      <td>0</td>\n",
       "      <td>NaN</td>\n",
       "      <td>1</td>\n",
       "      <td>1</td>\n",
       "      <td>0</td>\n",
       "      <td>381868.89</td>\n",
       "      <td>0</td>\n",
       "    </tr>\n",
       "    <tr>\n",
       "      <th>9632</th>\n",
       "      <td>185829</td>\n",
       "      <td>927.0</td>\n",
       "      <td>Ярославль</td>\n",
       "      <td>М</td>\n",
       "      <td>NaN</td>\n",
       "      <td>0</td>\n",
       "      <td>NaN</td>\n",
       "      <td>1</td>\n",
       "      <td>1</td>\n",
       "      <td>0</td>\n",
       "      <td>231254.86</td>\n",
       "      <td>0</td>\n",
       "    </tr>\n",
       "    <tr>\n",
       "      <th>9634</th>\n",
       "      <td>221809</td>\n",
       "      <td>917.0</td>\n",
       "      <td>Ярославль</td>\n",
       "      <td>М</td>\n",
       "      <td>NaN</td>\n",
       "      <td>0</td>\n",
       "      <td>NaN</td>\n",
       "      <td>1</td>\n",
       "      <td>1</td>\n",
       "      <td>1</td>\n",
       "      <td>192644.15</td>\n",
       "      <td>0</td>\n",
       "    </tr>\n",
       "    <tr>\n",
       "      <th>9667</th>\n",
       "      <td>163657</td>\n",
       "      <td>849.0</td>\n",
       "      <td>Ярославль</td>\n",
       "      <td>М</td>\n",
       "      <td>NaN</td>\n",
       "      <td>4</td>\n",
       "      <td>1254013.85</td>\n",
       "      <td>2</td>\n",
       "      <td>1</td>\n",
       "      <td>1</td>\n",
       "      <td>119106.67</td>\n",
       "      <td>0</td>\n",
       "    </tr>\n",
       "    <tr>\n",
       "      <th>9819</th>\n",
       "      <td>140934</td>\n",
       "      <td>832.0</td>\n",
       "      <td>Рыбинск</td>\n",
       "      <td>Ж</td>\n",
       "      <td>NaN</td>\n",
       "      <td>3</td>\n",
       "      <td>385763.16</td>\n",
       "      <td>2</td>\n",
       "      <td>0</td>\n",
       "      <td>1</td>\n",
       "      <td>59651.35</td>\n",
       "      <td>0</td>\n",
       "    </tr>\n",
       "  </tbody>\n",
       "</table>\n",
       "</div>"
      ],
      "text/plain": [
       "      user_id  score       city gender  age  equity     balance  products  \\\n",
       "1247   228075  932.0  Ярославль      М  NaN       5  7601719.20         2   \n",
       "2165   187635  692.0    Рыбинск      Ж  NaN       0         NaN         1   \n",
       "2444   221156  913.0  Ярославль      М  NaN       0         NaN         1   \n",
       "3091   138660  836.0     Ростов      Ж  NaN       5   294315.53         2   \n",
       "4912   210674  834.0    Рыбинск      М  NaN       1   238330.52         2   \n",
       "5470   218868  827.0    Рыбинск      Ж  NaN       4   448959.07         2   \n",
       "5495   151662  884.0    Рыбинск      Ж  NaN       0         NaN         1   \n",
       "7236   210135  908.0    Рыбинск      Ж  NaN       4  1120340.31         3   \n",
       "7248   219343  920.0    Рыбинск      Ж  NaN       0         NaN         1   \n",
       "7345   184913  829.0  Ярославль      Ж  NaN       3   188648.77         2   \n",
       "7409   214031  777.0  Ярославль      М  NaN       2   171510.23         1   \n",
       "8015   198635  670.0  Ярославль      Ж  NaN       0         NaN         1   \n",
       "8070   226550  940.0    Рыбинск      М  NaN       0         NaN         1   \n",
       "8293   216848  930.0  Ярославль      М  NaN       0         NaN         1   \n",
       "8385   206759  915.0    Рыбинск      М  NaN       0         NaN         1   \n",
       "8449   210898  805.0  Ярославль      Ж  NaN       0         NaN         1   \n",
       "8632   221197  893.0  Ярославль      М  NaN       0         NaN         1   \n",
       "8785   127440  663.0  Ярославль      М  NaN       0         NaN         1   \n",
       "9104   222480  776.0    Рыбинск      Ж  NaN       5   796735.09         1   \n",
       "9301   202983  942.0    Рыбинск      Ж  NaN       0         NaN         1   \n",
       "9380   187459  894.0    Рыбинск      М  NaN       0         NaN         1   \n",
       "9457   141945  929.0  Ярославль      М  NaN       0         NaN         1   \n",
       "9632   185829  927.0  Ярославль      М  NaN       0         NaN         1   \n",
       "9634   221809  917.0  Ярославль      М  NaN       0         NaN         1   \n",
       "9667   163657  849.0  Ярославль      М  NaN       4  1254013.85         2   \n",
       "9819   140934  832.0    Рыбинск      Ж  NaN       3   385763.16         2   \n",
       "\n",
       "      credit_card  last_activity  est_salary  churn  \n",
       "1247            1              1   408121.16      0  \n",
       "2165            1              1   160368.82      0  \n",
       "2444            1              1   135693.24      0  \n",
       "3091            0              1    63310.22      1  \n",
       "4912            0              1    93775.06      0  \n",
       "5470            1              1    67835.95      0  \n",
       "5495            1              1   137500.77      0  \n",
       "7236            1              1    85002.15      0  \n",
       "7248            1              0   159248.67      0  \n",
       "7345            0              1    75206.90      0  \n",
       "7409            1              1    75409.63      0  \n",
       "8015            1              1   168699.33      0  \n",
       "8070            0              1   147696.95      0  \n",
       "8293            1              1   199542.51      0  \n",
       "8385            1              0    71179.53      0  \n",
       "8449            0              1   922080.25      0  \n",
       "8632            1              0   173929.92      0  \n",
       "8785            1              1   117197.56      0  \n",
       "9104            1              1    55073.63      0  \n",
       "9301            1              1   163804.73      0  \n",
       "9380            1              0   178012.28      0  \n",
       "9457            1              0   381868.89      0  \n",
       "9632            1              0   231254.86      0  \n",
       "9634            1              1   192644.15      0  \n",
       "9667            1              1   119106.67      0  \n",
       "9819            0              1    59651.35      0  "
      ]
     },
     "execution_count": 7,
     "metadata": {},
     "output_type": "execute_result"
    }
   ],
   "source": [
    "#пропуски в столбце age\n",
    "df[df['age'].isna()]"
   ]
  },
  {
   "cell_type": "code",
   "execution_count": 8,
   "id": "61efdebf",
   "metadata": {},
   "outputs": [
    {
     "name": "stdout",
     "output_type": "stream",
     "text": [
      "Количество пропусков: 26, что составляет 0.26% от общего числа\n"
     ]
    }
   ],
   "source": [
    "print(f\"Количество пропусков: {len(df[df['age'].isna()])}, что составляет {len(df[df['age'].isna()])/len(df)*100:.2f}% от общего числа\")"
   ]
  },
  {
   "cell_type": "markdown",
   "id": "edf67bad",
   "metadata": {},
   "source": [
    "Попробуем найти закономерности в пропусках."
   ]
  },
  {
   "cell_type": "code",
   "execution_count": 9,
   "id": "1caf7d12",
   "metadata": {},
   "outputs": [
    {
     "data": {
      "text/plain": [
       "city\n",
       "Ростов        1\n",
       "Рыбинск      12\n",
       "Ярославль    13\n",
       "Name: user_id, dtype: int64"
      ]
     },
     "execution_count": 9,
     "metadata": {},
     "output_type": "execute_result"
    }
   ],
   "source": [
    "# колиество пропусков с группировкой по населенным пунктам\n",
    "df[df['age'].isna()].groupby('city')['user_id'].count()"
   ]
  },
  {
   "cell_type": "code",
   "execution_count": 10,
   "id": "54f63904",
   "metadata": {},
   "outputs": [
    {
     "data": {
      "text/html": [
       "<div>\n",
       "<style scoped>\n",
       "    .dataframe tbody tr th:only-of-type {\n",
       "        vertical-align: middle;\n",
       "    }\n",
       "\n",
       "    .dataframe tbody tr th {\n",
       "        vertical-align: top;\n",
       "    }\n",
       "\n",
       "    .dataframe thead th {\n",
       "        text-align: right;\n",
       "    }\n",
       "</style>\n",
       "<table border=\"1\" class=\"dataframe\">\n",
       "  <thead>\n",
       "    <tr style=\"text-align: right;\">\n",
       "      <th></th>\n",
       "      <th>products</th>\n",
       "      <th>credit_card</th>\n",
       "      <th>user_id</th>\n",
       "    </tr>\n",
       "  </thead>\n",
       "  <tbody>\n",
       "    <tr>\n",
       "      <th>0</th>\n",
       "      <td>1</td>\n",
       "      <td>0</td>\n",
       "      <td>2</td>\n",
       "    </tr>\n",
       "    <tr>\n",
       "      <th>1</th>\n",
       "      <td>1</td>\n",
       "      <td>1</td>\n",
       "      <td>16</td>\n",
       "    </tr>\n",
       "    <tr>\n",
       "      <th>2</th>\n",
       "      <td>2</td>\n",
       "      <td>0</td>\n",
       "      <td>4</td>\n",
       "    </tr>\n",
       "    <tr>\n",
       "      <th>3</th>\n",
       "      <td>2</td>\n",
       "      <td>1</td>\n",
       "      <td>3</td>\n",
       "    </tr>\n",
       "    <tr>\n",
       "      <th>4</th>\n",
       "      <td>3</td>\n",
       "      <td>1</td>\n",
       "      <td>1</td>\n",
       "    </tr>\n",
       "  </tbody>\n",
       "</table>\n",
       "</div>"
      ],
      "text/plain": [
       "   products  credit_card  user_id\n",
       "0         1            0        2\n",
       "1         1            1       16\n",
       "2         2            0        4\n",
       "3         2            1        3\n",
       "4         3            1        1"
      ]
     },
     "execution_count": 10,
     "metadata": {},
     "output_type": "execute_result"
    }
   ],
   "source": [
    "# количество пропусков с группировкой по количеству банковских продуктов и наличию кредитной карты\n",
    "df[df['age'].isna()].groupby(['products','credit_card'], as_index = False)['user_id'].count()"
   ]
  },
  {
   "cell_type": "markdown",
   "id": "421f2be4",
   "metadata": {},
   "source": [
    "Всего 26 пропусков в столбце возраста. Слишком мало данных для утверждения, что есть закономерности, связанные с пропусками в столбце возраста. \n",
    "\n",
    "Однако можно заметить:\n",
    "- большинство клиентов без возраста из отделений Ярославля и Рыбинска, и лишь один из Ростова. \n",
    "- 16 пользователей без возраста пользуется одним продуктом и имеет кредитную карту, т.е. единственный продукт = кредитная карта.\n",
    "Возможно был какой-то технический сбой при оформлении кредитной карты или анкета для оформления кредитной карты не требует обязательного заполнения этого поля. \n",
    "\n",
    "Нельзя также исключить возможность человеческого фактора. \n",
    "\n",
    "Данные пропуски имеют категорию случайных MCAR. \n",
    "\n",
    "Пропусков в этом столбце 0.26%. Логически данные не восстановить. Удалим эти пропуски."
   ]
  },
  {
   "cell_type": "code",
   "execution_count": 11,
   "id": "714cbd9b",
   "metadata": {},
   "outputs": [],
   "source": [
    "# удаление пропусков\n",
    "df = df[~df['age'].isna()]"
   ]
  },
  {
   "cell_type": "markdown",
   "id": "de9a8d0b",
   "metadata": {},
   "source": [
    "#### Пропуски в столбце balance"
   ]
  },
  {
   "cell_type": "code",
   "execution_count": 12,
   "id": "56918310",
   "metadata": {},
   "outputs": [
    {
     "data": {
      "text/html": [
       "<div>\n",
       "<style scoped>\n",
       "    .dataframe tbody tr th:only-of-type {\n",
       "        vertical-align: middle;\n",
       "    }\n",
       "\n",
       "    .dataframe tbody tr th {\n",
       "        vertical-align: top;\n",
       "    }\n",
       "\n",
       "    .dataframe thead th {\n",
       "        text-align: right;\n",
       "    }\n",
       "</style>\n",
       "<table border=\"1\" class=\"dataframe\">\n",
       "  <thead>\n",
       "    <tr style=\"text-align: right;\">\n",
       "      <th></th>\n",
       "      <th>user_id</th>\n",
       "      <th>score</th>\n",
       "      <th>city</th>\n",
       "      <th>gender</th>\n",
       "      <th>age</th>\n",
       "      <th>equity</th>\n",
       "      <th>balance</th>\n",
       "      <th>products</th>\n",
       "      <th>credit_card</th>\n",
       "      <th>last_activity</th>\n",
       "      <th>est_salary</th>\n",
       "      <th>churn</th>\n",
       "    </tr>\n",
       "  </thead>\n",
       "  <tbody>\n",
       "    <tr>\n",
       "      <th>2</th>\n",
       "      <td>120722</td>\n",
       "      <td>892.0</td>\n",
       "      <td>Рыбинск</td>\n",
       "      <td>Ж</td>\n",
       "      <td>30.0</td>\n",
       "      <td>0</td>\n",
       "      <td>NaN</td>\n",
       "      <td>1</td>\n",
       "      <td>1</td>\n",
       "      <td>1</td>\n",
       "      <td>107683.34</td>\n",
       "      <td>0</td>\n",
       "    </tr>\n",
       "    <tr>\n",
       "      <th>9</th>\n",
       "      <td>133130</td>\n",
       "      <td>906.0</td>\n",
       "      <td>Ярославль</td>\n",
       "      <td>Ж</td>\n",
       "      <td>67.0</td>\n",
       "      <td>0</td>\n",
       "      <td>NaN</td>\n",
       "      <td>1</td>\n",
       "      <td>0</td>\n",
       "      <td>1</td>\n",
       "      <td>238055.53</td>\n",
       "      <td>0</td>\n",
       "    </tr>\n",
       "    <tr>\n",
       "      <th>10</th>\n",
       "      <td>148929</td>\n",
       "      <td>927.0</td>\n",
       "      <td>Ростов</td>\n",
       "      <td>М</td>\n",
       "      <td>52.0</td>\n",
       "      <td>0</td>\n",
       "      <td>NaN</td>\n",
       "      <td>1</td>\n",
       "      <td>1</td>\n",
       "      <td>1</td>\n",
       "      <td>196820.07</td>\n",
       "      <td>0</td>\n",
       "    </tr>\n",
       "    <tr>\n",
       "      <th>11</th>\n",
       "      <td>172184</td>\n",
       "      <td>921.0</td>\n",
       "      <td>Ростов</td>\n",
       "      <td>М</td>\n",
       "      <td>41.0</td>\n",
       "      <td>0</td>\n",
       "      <td>NaN</td>\n",
       "      <td>1</td>\n",
       "      <td>1</td>\n",
       "      <td>1</td>\n",
       "      <td>217469.48</td>\n",
       "      <td>0</td>\n",
       "    </tr>\n",
       "    <tr>\n",
       "      <th>19</th>\n",
       "      <td>127034</td>\n",
       "      <td>922.0</td>\n",
       "      <td>Рыбинск</td>\n",
       "      <td>Ж</td>\n",
       "      <td>53.0</td>\n",
       "      <td>0</td>\n",
       "      <td>NaN</td>\n",
       "      <td>1</td>\n",
       "      <td>0</td>\n",
       "      <td>0</td>\n",
       "      <td>147094.82</td>\n",
       "      <td>0</td>\n",
       "    </tr>\n",
       "  </tbody>\n",
       "</table>\n",
       "</div>"
      ],
      "text/plain": [
       "    user_id  score       city gender   age  equity  balance  products  \\\n",
       "2    120722  892.0    Рыбинск      Ж  30.0       0      NaN         1   \n",
       "9    133130  906.0  Ярославль      Ж  67.0       0      NaN         1   \n",
       "10   148929  927.0     Ростов      М  52.0       0      NaN         1   \n",
       "11   172184  921.0     Ростов      М  41.0       0      NaN         1   \n",
       "19   127034  922.0    Рыбинск      Ж  53.0       0      NaN         1   \n",
       "\n",
       "    credit_card  last_activity  est_salary  churn  \n",
       "2             1              1   107683.34      0  \n",
       "9             0              1   238055.53      0  \n",
       "10            1              1   196820.07      0  \n",
       "11            1              1   217469.48      0  \n",
       "19            0              0   147094.82      0  "
      ]
     },
     "execution_count": 12,
     "metadata": {},
     "output_type": "execute_result"
    }
   ],
   "source": [
    "# пропуски в столбце balance\n",
    "df[df['balance'].isna()].head()"
   ]
  },
  {
   "cell_type": "code",
   "execution_count": 13,
   "id": "caecef0a",
   "metadata": {},
   "outputs": [
    {
     "name": "stdout",
     "output_type": "stream",
     "text": [
      "Количество пропусков: 2279 , что составляет 22.85 % от общего числа\n"
     ]
    }
   ],
   "source": [
    "print('Количество пропусков:', len(df[df['balance'].isna()]), ', что составляет', round(len(df[df['balance'].isna()])/len(df)*100,2), '% от общего числа')"
   ]
  },
  {
   "cell_type": "markdown",
   "id": "b4767b52",
   "metadata": {},
   "source": [
    "Попробуем найти закономерности в пропусках."
   ]
  },
  {
   "cell_type": "code",
   "execution_count": 14,
   "id": "6c1853a0",
   "metadata": {},
   "outputs": [],
   "source": [
    "# разделение данных на группы с пропусками и без них\n",
    "df_balance_na = df[df['balance'].isna()]\n",
    "df_balance = df[~df['balance'].isna()]"
   ]
  },
  {
   "cell_type": "code",
   "execution_count": 15,
   "id": "5e8b04da",
   "metadata": {},
   "outputs": [],
   "source": [
    "# столбцы для группировки\n",
    "columns = (['city', 'gender', 'equity', 'products', 'credit_card', 'last_activity', 'churn'])"
   ]
  },
  {
   "cell_type": "code",
   "execution_count": 16,
   "id": "4081a8d9",
   "metadata": {},
   "outputs": [
    {
     "name": "stdout",
     "output_type": "stream",
     "text": [
      "Сравнение таблиц с пропусками и без по столбцу city\n"
     ]
    },
    {
     "data": {
      "text/html": [
       "<div>\n",
       "<style scoped>\n",
       "    .dataframe tbody tr th:only-of-type {\n",
       "        vertical-align: middle;\n",
       "    }\n",
       "\n",
       "    .dataframe tbody tr th {\n",
       "        vertical-align: top;\n",
       "    }\n",
       "\n",
       "    .dataframe thead th {\n",
       "        text-align: right;\n",
       "    }\n",
       "</style>\n",
       "<table border=\"1\" class=\"dataframe\">\n",
       "  <thead>\n",
       "    <tr style=\"text-align: right;\">\n",
       "      <th></th>\n",
       "      <th>city</th>\n",
       "      <th>balance_na</th>\n",
       "      <th>ratio_na</th>\n",
       "      <th>balance</th>\n",
       "      <th>ratio</th>\n",
       "    </tr>\n",
       "  </thead>\n",
       "  <tbody>\n",
       "    <tr>\n",
       "      <th>0</th>\n",
       "      <td>Ростов</td>\n",
       "      <td>235</td>\n",
       "      <td>10.31</td>\n",
       "      <td>1181</td>\n",
       "      <td>15.35</td>\n",
       "    </tr>\n",
       "    <tr>\n",
       "      <th>1</th>\n",
       "      <td>Рыбинск</td>\n",
       "      <td>586</td>\n",
       "      <td>25.71</td>\n",
       "      <td>2097</td>\n",
       "      <td>27.25</td>\n",
       "    </tr>\n",
       "    <tr>\n",
       "      <th>2</th>\n",
       "      <td>Ярославль</td>\n",
       "      <td>1458</td>\n",
       "      <td>63.98</td>\n",
       "      <td>4417</td>\n",
       "      <td>57.40</td>\n",
       "    </tr>\n",
       "  </tbody>\n",
       "</table>\n",
       "</div>"
      ],
      "text/plain": [
       "        city  balance_na  ratio_na  balance  ratio\n",
       "0     Ростов         235     10.31     1181  15.35\n",
       "1    Рыбинск         586     25.71     2097  27.25\n",
       "2  Ярославль        1458     63.98     4417  57.40"
      ]
     },
     "metadata": {},
     "output_type": "display_data"
    },
    {
     "name": "stdout",
     "output_type": "stream",
     "text": [
      "Сравнение таблиц с пропусками и без по столбцу gender\n"
     ]
    },
    {
     "data": {
      "text/html": [
       "<div>\n",
       "<style scoped>\n",
       "    .dataframe tbody tr th:only-of-type {\n",
       "        vertical-align: middle;\n",
       "    }\n",
       "\n",
       "    .dataframe tbody tr th {\n",
       "        vertical-align: top;\n",
       "    }\n",
       "\n",
       "    .dataframe thead th {\n",
       "        text-align: right;\n",
       "    }\n",
       "</style>\n",
       "<table border=\"1\" class=\"dataframe\">\n",
       "  <thead>\n",
       "    <tr style=\"text-align: right;\">\n",
       "      <th></th>\n",
       "      <th>gender</th>\n",
       "      <th>balance_na</th>\n",
       "      <th>ratio_na</th>\n",
       "      <th>balance</th>\n",
       "      <th>ratio</th>\n",
       "    </tr>\n",
       "  </thead>\n",
       "  <tbody>\n",
       "    <tr>\n",
       "      <th>0</th>\n",
       "      <td>Ж</td>\n",
       "      <td>1007</td>\n",
       "      <td>44.19</td>\n",
       "      <td>3972</td>\n",
       "      <td>51.68</td>\n",
       "    </tr>\n",
       "    <tr>\n",
       "      <th>1</th>\n",
       "      <td>М</td>\n",
       "      <td>1272</td>\n",
       "      <td>55.81</td>\n",
       "      <td>3714</td>\n",
       "      <td>48.32</td>\n",
       "    </tr>\n",
       "  </tbody>\n",
       "</table>\n",
       "</div>"
      ],
      "text/plain": [
       "  gender  balance_na  ratio_na  balance  ratio\n",
       "0      Ж        1007     44.19     3972  51.68\n",
       "1      М        1272     55.81     3714  48.32"
      ]
     },
     "metadata": {},
     "output_type": "display_data"
    },
    {
     "name": "stdout",
     "output_type": "stream",
     "text": [
      "Сравнение таблиц с пропусками и без по столбцу equity\n"
     ]
    },
    {
     "data": {
      "text/html": [
       "<div>\n",
       "<style scoped>\n",
       "    .dataframe tbody tr th:only-of-type {\n",
       "        vertical-align: middle;\n",
       "    }\n",
       "\n",
       "    .dataframe tbody tr th {\n",
       "        vertical-align: top;\n",
       "    }\n",
       "\n",
       "    .dataframe thead th {\n",
       "        text-align: right;\n",
       "    }\n",
       "</style>\n",
       "<table border=\"1\" class=\"dataframe\">\n",
       "  <thead>\n",
       "    <tr style=\"text-align: right;\">\n",
       "      <th></th>\n",
       "      <th>equity</th>\n",
       "      <th>balance_na</th>\n",
       "      <th>ratio_na</th>\n",
       "      <th>balance</th>\n",
       "      <th>ratio</th>\n",
       "    </tr>\n",
       "  </thead>\n",
       "  <tbody>\n",
       "    <tr>\n",
       "      <th>0</th>\n",
       "      <td>0</td>\n",
       "      <td>2164.0</td>\n",
       "      <td>94.95</td>\n",
       "      <td>412</td>\n",
       "      <td>5.36</td>\n",
       "    </tr>\n",
       "    <tr>\n",
       "      <th>1</th>\n",
       "      <td>1</td>\n",
       "      <td>114.0</td>\n",
       "      <td>5.00</td>\n",
       "      <td>659</td>\n",
       "      <td>8.57</td>\n",
       "    </tr>\n",
       "    <tr>\n",
       "      <th>2</th>\n",
       "      <td>3</td>\n",
       "      <td>1.0</td>\n",
       "      <td>0.04</td>\n",
       "      <td>1540</td>\n",
       "      <td>20.03</td>\n",
       "    </tr>\n",
       "    <tr>\n",
       "      <th>3</th>\n",
       "      <td>2</td>\n",
       "      <td>NaN</td>\n",
       "      <td>NaN</td>\n",
       "      <td>1050</td>\n",
       "      <td>13.66</td>\n",
       "    </tr>\n",
       "    <tr>\n",
       "      <th>4</th>\n",
       "      <td>4</td>\n",
       "      <td>NaN</td>\n",
       "      <td>NaN</td>\n",
       "      <td>1844</td>\n",
       "      <td>23.98</td>\n",
       "    </tr>\n",
       "    <tr>\n",
       "      <th>5</th>\n",
       "      <td>5</td>\n",
       "      <td>NaN</td>\n",
       "      <td>NaN</td>\n",
       "      <td>1913</td>\n",
       "      <td>24.88</td>\n",
       "    </tr>\n",
       "    <tr>\n",
       "      <th>6</th>\n",
       "      <td>6</td>\n",
       "      <td>NaN</td>\n",
       "      <td>NaN</td>\n",
       "      <td>161</td>\n",
       "      <td>2.09</td>\n",
       "    </tr>\n",
       "    <tr>\n",
       "      <th>7</th>\n",
       "      <td>7</td>\n",
       "      <td>NaN</td>\n",
       "      <td>NaN</td>\n",
       "      <td>80</td>\n",
       "      <td>1.04</td>\n",
       "    </tr>\n",
       "    <tr>\n",
       "      <th>8</th>\n",
       "      <td>8</td>\n",
       "      <td>NaN</td>\n",
       "      <td>NaN</td>\n",
       "      <td>17</td>\n",
       "      <td>0.22</td>\n",
       "    </tr>\n",
       "    <tr>\n",
       "      <th>9</th>\n",
       "      <td>9</td>\n",
       "      <td>NaN</td>\n",
       "      <td>NaN</td>\n",
       "      <td>13</td>\n",
       "      <td>0.17</td>\n",
       "    </tr>\n",
       "  </tbody>\n",
       "</table>\n",
       "</div>"
      ],
      "text/plain": [
       "   equity  balance_na  ratio_na  balance  ratio\n",
       "0       0      2164.0     94.95      412   5.36\n",
       "1       1       114.0      5.00      659   8.57\n",
       "2       3         1.0      0.04     1540  20.03\n",
       "3       2         NaN       NaN     1050  13.66\n",
       "4       4         NaN       NaN     1844  23.98\n",
       "5       5         NaN       NaN     1913  24.88\n",
       "6       6         NaN       NaN      161   2.09\n",
       "7       7         NaN       NaN       80   1.04\n",
       "8       8         NaN       NaN       17   0.22\n",
       "9       9         NaN       NaN       13   0.17"
      ]
     },
     "metadata": {},
     "output_type": "display_data"
    },
    {
     "name": "stdout",
     "output_type": "stream",
     "text": [
      "Сравнение таблиц с пропусками и без по столбцу products\n"
     ]
    },
    {
     "data": {
      "text/html": [
       "<div>\n",
       "<style scoped>\n",
       "    .dataframe tbody tr th:only-of-type {\n",
       "        vertical-align: middle;\n",
       "    }\n",
       "\n",
       "    .dataframe tbody tr th {\n",
       "        vertical-align: top;\n",
       "    }\n",
       "\n",
       "    .dataframe thead th {\n",
       "        text-align: right;\n",
       "    }\n",
       "</style>\n",
       "<table border=\"1\" class=\"dataframe\">\n",
       "  <thead>\n",
       "    <tr style=\"text-align: right;\">\n",
       "      <th></th>\n",
       "      <th>products</th>\n",
       "      <th>balance_na</th>\n",
       "      <th>ratio_na</th>\n",
       "      <th>balance</th>\n",
       "      <th>ratio</th>\n",
       "    </tr>\n",
       "  </thead>\n",
       "  <tbody>\n",
       "    <tr>\n",
       "      <th>0</th>\n",
       "      <td>0</td>\n",
       "      <td>1.0</td>\n",
       "      <td>0.04</td>\n",
       "      <td>NaN</td>\n",
       "      <td>NaN</td>\n",
       "    </tr>\n",
       "    <tr>\n",
       "      <th>1</th>\n",
       "      <td>1</td>\n",
       "      <td>1934.0</td>\n",
       "      <td>84.86</td>\n",
       "      <td>1389.0</td>\n",
       "      <td>18.07</td>\n",
       "    </tr>\n",
       "    <tr>\n",
       "      <th>2</th>\n",
       "      <td>2</td>\n",
       "      <td>315.0</td>\n",
       "      <td>13.82</td>\n",
       "      <td>4795.0</td>\n",
       "      <td>62.39</td>\n",
       "    </tr>\n",
       "    <tr>\n",
       "      <th>3</th>\n",
       "      <td>3</td>\n",
       "      <td>29.0</td>\n",
       "      <td>1.27</td>\n",
       "      <td>1009.0</td>\n",
       "      <td>13.13</td>\n",
       "    </tr>\n",
       "    <tr>\n",
       "      <th>4</th>\n",
       "      <td>4</td>\n",
       "      <td>NaN</td>\n",
       "      <td>NaN</td>\n",
       "      <td>474.0</td>\n",
       "      <td>6.17</td>\n",
       "    </tr>\n",
       "    <tr>\n",
       "      <th>5</th>\n",
       "      <td>5</td>\n",
       "      <td>NaN</td>\n",
       "      <td>NaN</td>\n",
       "      <td>19.0</td>\n",
       "      <td>0.25</td>\n",
       "    </tr>\n",
       "  </tbody>\n",
       "</table>\n",
       "</div>"
      ],
      "text/plain": [
       "   products  balance_na  ratio_na  balance  ratio\n",
       "0         0         1.0      0.04      NaN    NaN\n",
       "1         1      1934.0     84.86   1389.0  18.07\n",
       "2         2       315.0     13.82   4795.0  62.39\n",
       "3         3        29.0      1.27   1009.0  13.13\n",
       "4         4         NaN       NaN    474.0   6.17\n",
       "5         5         NaN       NaN     19.0   0.25"
      ]
     },
     "metadata": {},
     "output_type": "display_data"
    },
    {
     "name": "stdout",
     "output_type": "stream",
     "text": [
      "Сравнение таблиц с пропусками и без по столбцу credit_card\n"
     ]
    },
    {
     "data": {
      "text/html": [
       "<div>\n",
       "<style scoped>\n",
       "    .dataframe tbody tr th:only-of-type {\n",
       "        vertical-align: middle;\n",
       "    }\n",
       "\n",
       "    .dataframe tbody tr th {\n",
       "        vertical-align: top;\n",
       "    }\n",
       "\n",
       "    .dataframe thead th {\n",
       "        text-align: right;\n",
       "    }\n",
       "</style>\n",
       "<table border=\"1\" class=\"dataframe\">\n",
       "  <thead>\n",
       "    <tr style=\"text-align: right;\">\n",
       "      <th></th>\n",
       "      <th>credit_card</th>\n",
       "      <th>balance_na</th>\n",
       "      <th>ratio_na</th>\n",
       "      <th>balance</th>\n",
       "      <th>ratio</th>\n",
       "    </tr>\n",
       "  </thead>\n",
       "  <tbody>\n",
       "    <tr>\n",
       "      <th>0</th>\n",
       "      <td>0</td>\n",
       "      <td>421</td>\n",
       "      <td>18.47</td>\n",
       "      <td>2765</td>\n",
       "      <td>36.01</td>\n",
       "    </tr>\n",
       "    <tr>\n",
       "      <th>1</th>\n",
       "      <td>1</td>\n",
       "      <td>1858</td>\n",
       "      <td>81.53</td>\n",
       "      <td>4913</td>\n",
       "      <td>63.99</td>\n",
       "    </tr>\n",
       "  </tbody>\n",
       "</table>\n",
       "</div>"
      ],
      "text/plain": [
       "   credit_card  balance_na  ratio_na  balance  ratio\n",
       "0            0         421     18.47     2765  36.01\n",
       "1            1        1858     81.53     4913  63.99"
      ]
     },
     "metadata": {},
     "output_type": "display_data"
    },
    {
     "name": "stdout",
     "output_type": "stream",
     "text": [
      "Сравнение таблиц с пропусками и без по столбцу last_activity\n"
     ]
    },
    {
     "data": {
      "text/html": [
       "<div>\n",
       "<style scoped>\n",
       "    .dataframe tbody tr th:only-of-type {\n",
       "        vertical-align: middle;\n",
       "    }\n",
       "\n",
       "    .dataframe tbody tr th {\n",
       "        vertical-align: top;\n",
       "    }\n",
       "\n",
       "    .dataframe thead th {\n",
       "        text-align: right;\n",
       "    }\n",
       "</style>\n",
       "<table border=\"1\" class=\"dataframe\">\n",
       "  <thead>\n",
       "    <tr style=\"text-align: right;\">\n",
       "      <th></th>\n",
       "      <th>last_activity</th>\n",
       "      <th>balance_na</th>\n",
       "      <th>ratio_na</th>\n",
       "      <th>balance</th>\n",
       "      <th>ratio</th>\n",
       "    </tr>\n",
       "  </thead>\n",
       "  <tbody>\n",
       "    <tr>\n",
       "      <th>0</th>\n",
       "      <td>0</td>\n",
       "      <td>1028</td>\n",
       "      <td>45.11</td>\n",
       "      <td>3727</td>\n",
       "      <td>48.51</td>\n",
       "    </tr>\n",
       "    <tr>\n",
       "      <th>1</th>\n",
       "      <td>1</td>\n",
       "      <td>1251</td>\n",
       "      <td>54.89</td>\n",
       "      <td>3956</td>\n",
       "      <td>51.49</td>\n",
       "    </tr>\n",
       "  </tbody>\n",
       "</table>\n",
       "</div>"
      ],
      "text/plain": [
       "   last_activity  balance_na  ratio_na  balance  ratio\n",
       "0              0        1028     45.11     3727  48.51\n",
       "1              1        1251     54.89     3956  51.49"
      ]
     },
     "metadata": {},
     "output_type": "display_data"
    },
    {
     "name": "stdout",
     "output_type": "stream",
     "text": [
      "Сравнение таблиц с пропусками и без по столбцу churn\n"
     ]
    },
    {
     "data": {
      "text/html": [
       "<div>\n",
       "<style scoped>\n",
       "    .dataframe tbody tr th:only-of-type {\n",
       "        vertical-align: middle;\n",
       "    }\n",
       "\n",
       "    .dataframe tbody tr th {\n",
       "        vertical-align: top;\n",
       "    }\n",
       "\n",
       "    .dataframe thead th {\n",
       "        text-align: right;\n",
       "    }\n",
       "</style>\n",
       "<table border=\"1\" class=\"dataframe\">\n",
       "  <thead>\n",
       "    <tr style=\"text-align: right;\">\n",
       "      <th></th>\n",
       "      <th>churn</th>\n",
       "      <th>balance_na</th>\n",
       "      <th>ratio_na</th>\n",
       "      <th>balance</th>\n",
       "      <th>ratio</th>\n",
       "    </tr>\n",
       "  </thead>\n",
       "  <tbody>\n",
       "    <tr>\n",
       "      <th>0</th>\n",
       "      <td>0</td>\n",
       "      <td>2266</td>\n",
       "      <td>99.43</td>\n",
       "      <td>5889</td>\n",
       "      <td>76.53</td>\n",
       "    </tr>\n",
       "    <tr>\n",
       "      <th>1</th>\n",
       "      <td>1</td>\n",
       "      <td>13</td>\n",
       "      <td>0.57</td>\n",
       "      <td>1806</td>\n",
       "      <td>23.47</td>\n",
       "    </tr>\n",
       "  </tbody>\n",
       "</table>\n",
       "</div>"
      ],
      "text/plain": [
       "   churn  balance_na  ratio_na  balance  ratio\n",
       "0      0        2266     99.43     5889  76.53\n",
       "1      1          13      0.57     1806  23.47"
      ]
     },
     "metadata": {},
     "output_type": "display_data"
    }
   ],
   "source": [
    "# сравнение распределений по столбцам таблиц с пропусками и без\n",
    "for col in columns:\n",
    "    temp = df_balance_na.groupby(col, as_index = False)['user_id'].nunique().rename(columns={'user_id':'balance_na'})\n",
    "    temp['ratio_na'] = round(temp['balance_na']/temp['balance_na'].sum()*100,2)\n",
    "    temp = temp.merge(df_balance.groupby(col, as_index = False)['user_id'].nunique().rename(columns={'user_id':'balance'}), on = col, how = 'outer')\n",
    "    temp['ratio'] = round(temp['balance']/temp['balance'].sum()*100,2)\n",
    "    print(\"Сравнение таблиц с пропусками и без по столбцу\", col)\n",
    "    display(temp)"
   ]
  },
  {
   "cell_type": "code",
   "execution_count": 17,
   "id": "963b52bd",
   "metadata": {},
   "outputs": [],
   "source": [
    "def compair_with_cut (col, bins):\n",
    "    '''\n",
    "    функция для сравнения таблиц с пропусками и без для непрерывных значений по диапозонам\n",
    "    '''\n",
    "    df_balance_na['temp'] = pd.cut(df_balance_na[col], bins = bins, \n",
    "                                   include_lowest=True)\n",
    "    temp = df_balance_na.groupby('temp', as_index = False)['user_id'].nunique().rename(columns={'user_id':'balance_na'})\n",
    "    temp['ratio_na'] = round(temp['balance_na']/temp['balance_na'].sum()*100,2)\n",
    "    df_balance['temp'] = pd.cut(df_balance[col], bins = bins, \n",
    "                                   include_lowest=True)\n",
    "    temp = temp.merge(df_balance.groupby('temp', as_index = False)['user_id'].nunique().rename(columns={'user_id':'balance'}), on = 'temp', how = 'outer')\n",
    "    temp['ratio'] = round(temp['balance']/temp['balance'].sum()*100,2)\n",
    "    print(\"Сравнение таблиц с пропусками и без по столбцу\", col)\n",
    "    display(temp)"
   ]
  },
  {
   "cell_type": "code",
   "execution_count": 18,
   "id": "3c6cfd81",
   "metadata": {},
   "outputs": [
    {
     "name": "stdout",
     "output_type": "stream",
     "text": [
      "Сравнение таблиц с пропусками и без по столбцу est_salary\n"
     ]
    },
    {
     "data": {
      "text/html": [
       "<div>\n",
       "<style scoped>\n",
       "    .dataframe tbody tr th:only-of-type {\n",
       "        vertical-align: middle;\n",
       "    }\n",
       "\n",
       "    .dataframe tbody tr th {\n",
       "        vertical-align: top;\n",
       "    }\n",
       "\n",
       "    .dataframe thead th {\n",
       "        text-align: right;\n",
       "    }\n",
       "</style>\n",
       "<table border=\"1\" class=\"dataframe\">\n",
       "  <thead>\n",
       "    <tr style=\"text-align: right;\">\n",
       "      <th></th>\n",
       "      <th>temp</th>\n",
       "      <th>balance_na</th>\n",
       "      <th>ratio_na</th>\n",
       "      <th>balance</th>\n",
       "      <th>ratio</th>\n",
       "    </tr>\n",
       "  </thead>\n",
       "  <tbody>\n",
       "    <tr>\n",
       "      <th>0</th>\n",
       "      <td>(-0.001, 50000.0]</td>\n",
       "      <td>49</td>\n",
       "      <td>2.15</td>\n",
       "      <td>1151</td>\n",
       "      <td>14.98</td>\n",
       "    </tr>\n",
       "    <tr>\n",
       "      <th>1</th>\n",
       "      <td>(50000.0, 100000.0]</td>\n",
       "      <td>330</td>\n",
       "      <td>14.48</td>\n",
       "      <td>2390</td>\n",
       "      <td>31.11</td>\n",
       "    </tr>\n",
       "    <tr>\n",
       "      <th>2</th>\n",
       "      <td>(100000.0, 250000.0]</td>\n",
       "      <td>1394</td>\n",
       "      <td>61.17</td>\n",
       "      <td>3749</td>\n",
       "      <td>48.80</td>\n",
       "    </tr>\n",
       "    <tr>\n",
       "      <th>3</th>\n",
       "      <td>(250000.0, 500000.0]</td>\n",
       "      <td>328</td>\n",
       "      <td>14.39</td>\n",
       "      <td>304</td>\n",
       "      <td>3.96</td>\n",
       "    </tr>\n",
       "    <tr>\n",
       "      <th>4</th>\n",
       "      <td>(500000.0, 1395064.45]</td>\n",
       "      <td>178</td>\n",
       "      <td>7.81</td>\n",
       "      <td>88</td>\n",
       "      <td>1.15</td>\n",
       "    </tr>\n",
       "  </tbody>\n",
       "</table>\n",
       "</div>"
      ],
      "text/plain": [
       "                     temp  balance_na  ratio_na  balance  ratio\n",
       "0       (-0.001, 50000.0]          49      2.15     1151  14.98\n",
       "1     (50000.0, 100000.0]         330     14.48     2390  31.11\n",
       "2    (100000.0, 250000.0]        1394     61.17     3749  48.80\n",
       "3    (250000.0, 500000.0]         328     14.39      304   3.96\n",
       "4  (500000.0, 1395064.45]         178      7.81       88   1.15"
      ]
     },
     "metadata": {},
     "output_type": "display_data"
    },
    {
     "name": "stdout",
     "output_type": "stream",
     "text": [
      "Сравнение таблиц с пропусками и без по столбцу age\n"
     ]
    },
    {
     "data": {
      "text/html": [
       "<div>\n",
       "<style scoped>\n",
       "    .dataframe tbody tr th:only-of-type {\n",
       "        vertical-align: middle;\n",
       "    }\n",
       "\n",
       "    .dataframe tbody tr th {\n",
       "        vertical-align: top;\n",
       "    }\n",
       "\n",
       "    .dataframe thead th {\n",
       "        text-align: right;\n",
       "    }\n",
       "</style>\n",
       "<table border=\"1\" class=\"dataframe\">\n",
       "  <thead>\n",
       "    <tr style=\"text-align: right;\">\n",
       "      <th></th>\n",
       "      <th>temp</th>\n",
       "      <th>balance_na</th>\n",
       "      <th>ratio_na</th>\n",
       "      <th>balance</th>\n",
       "      <th>ratio</th>\n",
       "    </tr>\n",
       "  </thead>\n",
       "  <tbody>\n",
       "    <tr>\n",
       "      <th>0</th>\n",
       "      <td>(17.999, 25.0]</td>\n",
       "      <td>98</td>\n",
       "      <td>4.30</td>\n",
       "      <td>278</td>\n",
       "      <td>3.62</td>\n",
       "    </tr>\n",
       "    <tr>\n",
       "      <th>1</th>\n",
       "      <td>(25.0, 35.0]</td>\n",
       "      <td>674</td>\n",
       "      <td>29.57</td>\n",
       "      <td>2238</td>\n",
       "      <td>29.12</td>\n",
       "    </tr>\n",
       "    <tr>\n",
       "      <th>2</th>\n",
       "      <td>(35.0, 50.0]</td>\n",
       "      <td>973</td>\n",
       "      <td>42.69</td>\n",
       "      <td>3093</td>\n",
       "      <td>40.25</td>\n",
       "    </tr>\n",
       "    <tr>\n",
       "      <th>3</th>\n",
       "      <td>(50.0, 65.0]</td>\n",
       "      <td>421</td>\n",
       "      <td>18.47</td>\n",
       "      <td>1698</td>\n",
       "      <td>22.09</td>\n",
       "    </tr>\n",
       "    <tr>\n",
       "      <th>4</th>\n",
       "      <td>(65.0, 86.0]</td>\n",
       "      <td>113</td>\n",
       "      <td>4.96</td>\n",
       "      <td>378</td>\n",
       "      <td>4.92</td>\n",
       "    </tr>\n",
       "  </tbody>\n",
       "</table>\n",
       "</div>"
      ],
      "text/plain": [
       "             temp  balance_na  ratio_na  balance  ratio\n",
       "0  (17.999, 25.0]          98      4.30      278   3.62\n",
       "1    (25.0, 35.0]         674     29.57     2238  29.12\n",
       "2    (35.0, 50.0]         973     42.69     3093  40.25\n",
       "3    (50.0, 65.0]         421     18.47     1698  22.09\n",
       "4    (65.0, 86.0]         113      4.96      378   4.92"
      ]
     },
     "metadata": {},
     "output_type": "display_data"
    },
    {
     "name": "stdout",
     "output_type": "stream",
     "text": [
      "Сравнение таблиц с пропусками и без по столбцу score\n"
     ]
    },
    {
     "data": {
      "text/html": [
       "<div>\n",
       "<style scoped>\n",
       "    .dataframe tbody tr th:only-of-type {\n",
       "        vertical-align: middle;\n",
       "    }\n",
       "\n",
       "    .dataframe tbody tr th {\n",
       "        vertical-align: top;\n",
       "    }\n",
       "\n",
       "    .dataframe thead th {\n",
       "        text-align: right;\n",
       "    }\n",
       "</style>\n",
       "<table border=\"1\" class=\"dataframe\">\n",
       "  <thead>\n",
       "    <tr style=\"text-align: right;\">\n",
       "      <th></th>\n",
       "      <th>temp</th>\n",
       "      <th>balance_na</th>\n",
       "      <th>ratio_na</th>\n",
       "      <th>balance</th>\n",
       "      <th>ratio</th>\n",
       "    </tr>\n",
       "  </thead>\n",
       "  <tbody>\n",
       "    <tr>\n",
       "      <th>0</th>\n",
       "      <td>(599.999, 800.0]</td>\n",
       "      <td>542</td>\n",
       "      <td>23.78</td>\n",
       "      <td>1894</td>\n",
       "      <td>24.67</td>\n",
       "    </tr>\n",
       "    <tr>\n",
       "      <th>1</th>\n",
       "      <td>(800.0, 1000.0]</td>\n",
       "      <td>1737</td>\n",
       "      <td>76.22</td>\n",
       "      <td>5782</td>\n",
       "      <td>75.33</td>\n",
       "    </tr>\n",
       "  </tbody>\n",
       "</table>\n",
       "</div>"
      ],
      "text/plain": [
       "               temp  balance_na  ratio_na  balance  ratio\n",
       "0  (599.999, 800.0]         542     23.78     1894  24.67\n",
       "1   (800.0, 1000.0]        1737     76.22     5782  75.33"
      ]
     },
     "metadata": {},
     "output_type": "display_data"
    }
   ],
   "source": [
    "# сравнение распределений по столбцам таблиц с пропусками и без\n",
    "compair_with_cut('est_salary', [0,50000,100000,250000,500000,df['est_salary'].max()])\n",
    "compair_with_cut('age', [18,25,35,50,65,df['age'].max()])\n",
    "compair_with_cut('score', [600,800,df['score'].max()])"
   ]
  },
  {
   "cell_type": "markdown",
   "id": "d3448c09",
   "metadata": {},
   "source": [
    "При сравнение по всех характеристикам выявлены большие различия в стобцах:\n",
    "- equity: выше процент в данных с пропусками\n",
    "- products: выше процент 1 продукта в данных с пропусками\n",
    "- credit_card: выше процент наличия кредитной карты в данных с пропусками\n",
    "\n",
    "Возможно пропуски в данных связаны со спецификой выгрузки данных с отрицательным балансом. Эти пропуски категории MNAR.\n",
    "\n",
    "Данные попуски не восстановить логическим путем. Строк с пропусками много, их удаление может исказить общую картину. Оставим пропуски без изменений. "
   ]
  },
  {
   "cell_type": "markdown",
   "id": "307d9ca0",
   "metadata": {},
   "source": [
    "### Обработка дубликатов"
   ]
  },
  {
   "cell_type": "markdown",
   "id": "1695e147",
   "metadata": {},
   "source": [
    "- проверка наличия полных дубликатов\n",
    "- проверка наличия неявных дубликатов в текстовых столбцах\n",
    "- проверка наличия дубликатов в столбце user_id"
   ]
  },
  {
   "cell_type": "code",
   "execution_count": 19,
   "id": "5983c3d9",
   "metadata": {},
   "outputs": [
    {
     "data": {
      "text/plain": [
       "0"
      ]
     },
     "execution_count": 19,
     "metadata": {},
     "output_type": "execute_result"
    }
   ],
   "source": [
    "# проверка наличия полных дубликатов\n",
    "df.duplicated().sum()"
   ]
  },
  {
   "cell_type": "code",
   "execution_count": 20,
   "id": "b718cb27",
   "metadata": {},
   "outputs": [
    {
     "data": {
      "text/plain": [
       "array(['Рыбинск', 'Ярославль', 'Ростов'], dtype=object)"
      ]
     },
     "execution_count": 20,
     "metadata": {},
     "output_type": "execute_result"
    }
   ],
   "source": [
    "# проверка наличия неявных дубликатов в столбце населенныъх пунктов\n",
    "df['city'].unique()"
   ]
  },
  {
   "cell_type": "code",
   "execution_count": 21,
   "id": "2862152d",
   "metadata": {},
   "outputs": [
    {
     "data": {
      "text/plain": [
       "array(['Ж', 'М'], dtype=object)"
      ]
     },
     "execution_count": 21,
     "metadata": {},
     "output_type": "execute_result"
    }
   ],
   "source": [
    "# проверка наличия неявных дубликатов в столбце пола\n",
    "df['gender'].unique()"
   ]
  },
  {
   "cell_type": "code",
   "execution_count": 22,
   "id": "c2d2e9da",
   "metadata": {},
   "outputs": [
    {
     "data": {
      "text/html": [
       "<div>\n",
       "<style scoped>\n",
       "    .dataframe tbody tr th:only-of-type {\n",
       "        vertical-align: middle;\n",
       "    }\n",
       "\n",
       "    .dataframe tbody tr th {\n",
       "        vertical-align: top;\n",
       "    }\n",
       "\n",
       "    .dataframe thead th {\n",
       "        text-align: right;\n",
       "    }\n",
       "</style>\n",
       "<table border=\"1\" class=\"dataframe\">\n",
       "  <thead>\n",
       "    <tr style=\"text-align: right;\">\n",
       "      <th></th>\n",
       "      <th>user_id</th>\n",
       "      <th>score</th>\n",
       "      <th>city</th>\n",
       "      <th>gender</th>\n",
       "      <th>age</th>\n",
       "      <th>equity</th>\n",
       "      <th>balance</th>\n",
       "      <th>products</th>\n",
       "      <th>credit_card</th>\n",
       "      <th>last_activity</th>\n",
       "      <th>est_salary</th>\n",
       "      <th>churn</th>\n",
       "    </tr>\n",
       "  </thead>\n",
       "  <tbody>\n",
       "    <tr>\n",
       "      <th>1893</th>\n",
       "      <td>116540</td>\n",
       "      <td>883.0</td>\n",
       "      <td>Рыбинск</td>\n",
       "      <td>Ж</td>\n",
       "      <td>55.0</td>\n",
       "      <td>1</td>\n",
       "      <td>362756.49</td>\n",
       "      <td>3</td>\n",
       "      <td>0</td>\n",
       "      <td>1</td>\n",
       "      <td>175920.48</td>\n",
       "      <td>1</td>\n",
       "    </tr>\n",
       "    <tr>\n",
       "      <th>7694</th>\n",
       "      <td>116540</td>\n",
       "      <td>887.0</td>\n",
       "      <td>Ярославль</td>\n",
       "      <td>Ж</td>\n",
       "      <td>38.0</td>\n",
       "      <td>0</td>\n",
       "      <td>NaN</td>\n",
       "      <td>1</td>\n",
       "      <td>0</td>\n",
       "      <td>1</td>\n",
       "      <td>119247.61</td>\n",
       "      <td>0</td>\n",
       "    </tr>\n",
       "    <tr>\n",
       "      <th>4866</th>\n",
       "      <td>117943</td>\n",
       "      <td>855.0</td>\n",
       "      <td>Рыбинск</td>\n",
       "      <td>Ж</td>\n",
       "      <td>32.0</td>\n",
       "      <td>6</td>\n",
       "      <td>1036832.93</td>\n",
       "      <td>4</td>\n",
       "      <td>1</td>\n",
       "      <td>1</td>\n",
       "      <td>107792.71</td>\n",
       "      <td>1</td>\n",
       "    </tr>\n",
       "    <tr>\n",
       "      <th>7542</th>\n",
       "      <td>117943</td>\n",
       "      <td>880.0</td>\n",
       "      <td>Ярославль</td>\n",
       "      <td>Ж</td>\n",
       "      <td>40.0</td>\n",
       "      <td>0</td>\n",
       "      <td>NaN</td>\n",
       "      <td>1</td>\n",
       "      <td>1</td>\n",
       "      <td>0</td>\n",
       "      <td>137718.93</td>\n",
       "      <td>0</td>\n",
       "    </tr>\n",
       "    <tr>\n",
       "      <th>5863</th>\n",
       "      <td>120258</td>\n",
       "      <td>908.0</td>\n",
       "      <td>Рыбинск</td>\n",
       "      <td>Ж</td>\n",
       "      <td>38.0</td>\n",
       "      <td>4</td>\n",
       "      <td>2213581.63</td>\n",
       "      <td>2</td>\n",
       "      <td>0</td>\n",
       "      <td>1</td>\n",
       "      <td>160327.77</td>\n",
       "      <td>1</td>\n",
       "    </tr>\n",
       "    <tr>\n",
       "      <th>...</th>\n",
       "      <td>...</td>\n",
       "      <td>...</td>\n",
       "      <td>...</td>\n",
       "      <td>...</td>\n",
       "      <td>...</td>\n",
       "      <td>...</td>\n",
       "      <td>...</td>\n",
       "      <td>...</td>\n",
       "      <td>...</td>\n",
       "      <td>...</td>\n",
       "      <td>...</td>\n",
       "      <td>...</td>\n",
       "    </tr>\n",
       "    <tr>\n",
       "      <th>2302</th>\n",
       "      <td>220816</td>\n",
       "      <td>934.0</td>\n",
       "      <td>Рыбинск</td>\n",
       "      <td>Ж</td>\n",
       "      <td>74.0</td>\n",
       "      <td>5</td>\n",
       "      <td>1294285.39</td>\n",
       "      <td>3</td>\n",
       "      <td>1</td>\n",
       "      <td>0</td>\n",
       "      <td>95606.80</td>\n",
       "      <td>0</td>\n",
       "    </tr>\n",
       "    <tr>\n",
       "      <th>2597</th>\n",
       "      <td>226719</td>\n",
       "      <td>990.0</td>\n",
       "      <td>Ярославль</td>\n",
       "      <td>М</td>\n",
       "      <td>37.0</td>\n",
       "      <td>4</td>\n",
       "      <td>14648692.14</td>\n",
       "      <td>2</td>\n",
       "      <td>0</td>\n",
       "      <td>0</td>\n",
       "      <td>934412.61</td>\n",
       "      <td>1</td>\n",
       "    </tr>\n",
       "    <tr>\n",
       "      <th>4216</th>\n",
       "      <td>226719</td>\n",
       "      <td>903.0</td>\n",
       "      <td>Рыбинск</td>\n",
       "      <td>Ж</td>\n",
       "      <td>63.0</td>\n",
       "      <td>0</td>\n",
       "      <td>NaN</td>\n",
       "      <td>1</td>\n",
       "      <td>1</td>\n",
       "      <td>0</td>\n",
       "      <td>138582.58</td>\n",
       "      <td>0</td>\n",
       "    </tr>\n",
       "    <tr>\n",
       "      <th>8205</th>\n",
       "      <td>227795</td>\n",
       "      <td>840.0</td>\n",
       "      <td>Рыбинск</td>\n",
       "      <td>М</td>\n",
       "      <td>34.0</td>\n",
       "      <td>2</td>\n",
       "      <td>350768.03</td>\n",
       "      <td>1</td>\n",
       "      <td>1</td>\n",
       "      <td>0</td>\n",
       "      <td>102036.14</td>\n",
       "      <td>1</td>\n",
       "    </tr>\n",
       "    <tr>\n",
       "      <th>8497</th>\n",
       "      <td>227795</td>\n",
       "      <td>839.0</td>\n",
       "      <td>Ярославль</td>\n",
       "      <td>М</td>\n",
       "      <td>34.0</td>\n",
       "      <td>2</td>\n",
       "      <td>326593.14</td>\n",
       "      <td>2</td>\n",
       "      <td>1</td>\n",
       "      <td>0</td>\n",
       "      <td>103314.92</td>\n",
       "      <td>0</td>\n",
       "    </tr>\n",
       "  </tbody>\n",
       "</table>\n",
       "<p>100 rows × 12 columns</p>\n",
       "</div>"
      ],
      "text/plain": [
       "      user_id  score       city gender   age  equity      balance  products  \\\n",
       "1893   116540  883.0    Рыбинск      Ж  55.0       1    362756.49         3   \n",
       "7694   116540  887.0  Ярославль      Ж  38.0       0          NaN         1   \n",
       "4866   117943  855.0    Рыбинск      Ж  32.0       6   1036832.93         4   \n",
       "7542   117943  880.0  Ярославль      Ж  40.0       0          NaN         1   \n",
       "5863   120258  908.0    Рыбинск      Ж  38.0       4   2213581.63         2   \n",
       "...       ...    ...        ...    ...   ...     ...          ...       ...   \n",
       "2302   220816  934.0    Рыбинск      Ж  74.0       5   1294285.39         3   \n",
       "2597   226719  990.0  Ярославль      М  37.0       4  14648692.14         2   \n",
       "4216   226719  903.0    Рыбинск      Ж  63.0       0          NaN         1   \n",
       "8205   227795  840.0    Рыбинск      М  34.0       2    350768.03         1   \n",
       "8497   227795  839.0  Ярославль      М  34.0       2    326593.14         2   \n",
       "\n",
       "      credit_card  last_activity  est_salary  churn  \n",
       "1893            0              1   175920.48      1  \n",
       "7694            0              1   119247.61      0  \n",
       "4866            1              1   107792.71      1  \n",
       "7542            1              0   137718.93      0  \n",
       "5863            0              1   160327.77      1  \n",
       "...           ...            ...         ...    ...  \n",
       "2302            1              0    95606.80      0  \n",
       "2597            0              0   934412.61      1  \n",
       "4216            1              0   138582.58      0  \n",
       "8205            1              0   102036.14      1  \n",
       "8497            1              0   103314.92      0  \n",
       "\n",
       "[100 rows x 12 columns]"
      ]
     },
     "execution_count": 22,
     "metadata": {},
     "output_type": "execute_result"
    }
   ],
   "source": [
    "# проверка дубликатов в столбце user_id\n",
    "df[df['user_id'].duplicated(keep = False)].sort_values('user_id')"
   ]
  },
  {
   "cell_type": "markdown",
   "id": "596c4ee4",
   "metadata": {},
   "source": [
    "Полных дубликатов и неявных дубликатов в текстовых столбцах нет. Однако обнаружены дубликаты в столбце user_id."
   ]
  },
  {
   "cell_type": "code",
   "execution_count": 23,
   "id": "8fd11e24",
   "metadata": {},
   "outputs": [
    {
     "data": {
      "text/plain": [
       "array(['Ярославль', 'Рыбинск'], dtype=object)"
      ]
     },
     "execution_count": 23,
     "metadata": {},
     "output_type": "execute_result"
    }
   ],
   "source": [
    "#проверка населенных пунктов с дубликатами \n",
    "df[df['user_id'].duplicated(keep = False)]['city'].unique()"
   ]
  },
  {
   "cell_type": "code",
   "execution_count": 24,
   "id": "d4f71e25",
   "metadata": {},
   "outputs": [
    {
     "data": {
      "text/plain": [
       "churn\n",
       "0    50\n",
       "1    50\n",
       "Name: user_id, dtype: int64"
      ]
     },
     "execution_count": 24,
     "metadata": {},
     "output_type": "execute_result"
    }
   ],
   "source": [
    "#количество бывших и текцщих клиентов с дублирующими id\n",
    "df[df['user_id'].duplicated(keep = False)].groupby('churn')['user_id'].count()"
   ]
  },
  {
   "cell_type": "code",
   "execution_count": 25,
   "id": "c0f315aa",
   "metadata": {},
   "outputs": [
    {
     "data": {
      "text/html": [
       "<div>\n",
       "<style scoped>\n",
       "    .dataframe tbody tr th:only-of-type {\n",
       "        vertical-align: middle;\n",
       "    }\n",
       "\n",
       "    .dataframe tbody tr th {\n",
       "        vertical-align: top;\n",
       "    }\n",
       "\n",
       "    .dataframe thead th {\n",
       "        text-align: right;\n",
       "    }\n",
       "</style>\n",
       "<table border=\"1\" class=\"dataframe\">\n",
       "  <thead>\n",
       "    <tr style=\"text-align: right;\">\n",
       "      <th></th>\n",
       "      <th>user_id</th>\n",
       "      <th>score</th>\n",
       "      <th>city</th>\n",
       "      <th>gender</th>\n",
       "      <th>age</th>\n",
       "      <th>equity</th>\n",
       "      <th>balance</th>\n",
       "      <th>products</th>\n",
       "      <th>credit_card</th>\n",
       "      <th>last_activity</th>\n",
       "      <th>est_salary</th>\n",
       "      <th>churn</th>\n",
       "    </tr>\n",
       "  </thead>\n",
       "  <tbody>\n",
       "    <tr>\n",
       "      <th>3274</th>\n",
       "      <td>155765</td>\n",
       "      <td>863.0</td>\n",
       "      <td>Ярославль</td>\n",
       "      <td>М</td>\n",
       "      <td>30.0</td>\n",
       "      <td>5</td>\n",
       "      <td>1036114.50</td>\n",
       "      <td>5</td>\n",
       "      <td>1</td>\n",
       "      <td>1</td>\n",
       "      <td>150744.50</td>\n",
       "      <td>1</td>\n",
       "    </tr>\n",
       "    <tr>\n",
       "      <th>5197</th>\n",
       "      <td>155765</td>\n",
       "      <td>923.0</td>\n",
       "      <td>Рыбинск</td>\n",
       "      <td>М</td>\n",
       "      <td>30.0</td>\n",
       "      <td>0</td>\n",
       "      <td>NaN</td>\n",
       "      <td>1</td>\n",
       "      <td>1</td>\n",
       "      <td>1</td>\n",
       "      <td>120296.60</td>\n",
       "      <td>0</td>\n",
       "    </tr>\n",
       "    <tr>\n",
       "      <th>8205</th>\n",
       "      <td>227795</td>\n",
       "      <td>840.0</td>\n",
       "      <td>Рыбинск</td>\n",
       "      <td>М</td>\n",
       "      <td>34.0</td>\n",
       "      <td>2</td>\n",
       "      <td>350768.03</td>\n",
       "      <td>1</td>\n",
       "      <td>1</td>\n",
       "      <td>0</td>\n",
       "      <td>102036.14</td>\n",
       "      <td>1</td>\n",
       "    </tr>\n",
       "    <tr>\n",
       "      <th>8497</th>\n",
       "      <td>227795</td>\n",
       "      <td>839.0</td>\n",
       "      <td>Ярославль</td>\n",
       "      <td>М</td>\n",
       "      <td>34.0</td>\n",
       "      <td>2</td>\n",
       "      <td>326593.14</td>\n",
       "      <td>2</td>\n",
       "      <td>1</td>\n",
       "      <td>0</td>\n",
       "      <td>103314.92</td>\n",
       "      <td>0</td>\n",
       "    </tr>\n",
       "  </tbody>\n",
       "</table>\n",
       "</div>"
      ],
      "text/plain": [
       "      user_id  score       city gender   age  equity     balance  products  \\\n",
       "3274   155765  863.0  Ярославль      М  30.0       5  1036114.50         5   \n",
       "5197   155765  923.0    Рыбинск      М  30.0       0         NaN         1   \n",
       "8205   227795  840.0    Рыбинск      М  34.0       2   350768.03         1   \n",
       "8497   227795  839.0  Ярославль      М  34.0       2   326593.14         2   \n",
       "\n",
       "      credit_card  last_activity  est_salary  churn  \n",
       "3274            1              1   150744.50      1  \n",
       "5197            1              1   120296.60      0  \n",
       "8205            1              0   102036.14      1  \n",
       "8497            1              0   103314.92      0  "
      ]
     },
     "execution_count": 25,
     "metadata": {},
     "output_type": "execute_result"
    }
   ],
   "source": [
    "#поиск дубликатов с дополнительными параметрами\n",
    "df[df[['user_id', 'gender','age']].duplicated(keep = False)].sort_values('user_id')"
   ]
  },
  {
   "cell_type": "markdown",
   "id": "fd12fca5",
   "metadata": {},
   "source": [
    "Обнаружено 50 пар дубликатов по user_id. Эти дубликаты попарно из разных филиалов (Ярославль и Рыбинск), а также попарно значение маркера ушел или нет разный. Есть только 2 пары, где совпадают пол и возраст, однако и для этих пар нельзя утверждать, что это один и тот же человек. Скорее всего произошел технический сбой или несогласованность выдачи id при записи в базу в 2 филиалах или возможно в системе банка на \"освободившийся\" уникальный номер записывается другой клиент. Удаление таких дубликатов нецелесообразно. \n",
    "\n",
    "Полных дубликатов нет. Неявных дубликатов в столбцах с текстовыми значениями также нет."
   ]
  },
  {
   "cell_type": "markdown",
   "id": "7d038618",
   "metadata": {},
   "source": [
    "### Приведение в соответствие типов данных"
   ]
  },
  {
   "cell_type": "code",
   "execution_count": 26,
   "id": "c54e0308",
   "metadata": {},
   "outputs": [
    {
     "name": "stdout",
     "output_type": "stream",
     "text": [
      "<class 'pandas.core.frame.DataFrame'>\n",
      "Int64Index: 9974 entries, 0 to 9999\n",
      "Data columns (total 12 columns):\n",
      " #   Column         Non-Null Count  Dtype  \n",
      "---  ------         --------------  -----  \n",
      " 0   user_id        9974 non-null   int64  \n",
      " 1   score          9974 non-null   int32  \n",
      " 2   city           9974 non-null   object \n",
      " 3   gender         9974 non-null   object \n",
      " 4   age            9974 non-null   int32  \n",
      " 5   equity         9974 non-null   int64  \n",
      " 6   balance        7695 non-null   float64\n",
      " 7   products       9974 non-null   int64  \n",
      " 8   credit_card    9974 non-null   int64  \n",
      " 9   last_activity  9974 non-null   int64  \n",
      " 10  est_salary     9974 non-null   float64\n",
      " 11  churn          9974 non-null   int64  \n",
      "dtypes: float64(2), int32(2), int64(6), object(2)\n",
      "memory usage: 935.1+ KB\n"
     ]
    }
   ],
   "source": [
    "# преобразование типов в столбцах score и age с float на int\n",
    "try:\n",
    "    df[['score','age']] = df[['score','age']].astype('int')\n",
    "except:\n",
    "    print('Ошибка преобразования типов')\n",
    "df.info()"
   ]
  },
  {
   "cell_type": "markdown",
   "id": "f2d546e3",
   "metadata": {},
   "source": [
    "## Исследование данных"
   ]
  },
  {
   "cell_type": "markdown",
   "id": "13271d0e",
   "metadata": {},
   "source": [
    "### Проверка корректности данных"
   ]
  },
  {
   "cell_type": "code",
   "execution_count": 27,
   "id": "5b7affe9",
   "metadata": {},
   "outputs": [
    {
     "data": {
      "text/html": [
       "<div>\n",
       "<style scoped>\n",
       "    .dataframe tbody tr th:only-of-type {\n",
       "        vertical-align: middle;\n",
       "    }\n",
       "\n",
       "    .dataframe tbody tr th {\n",
       "        vertical-align: top;\n",
       "    }\n",
       "\n",
       "    .dataframe thead th {\n",
       "        text-align: right;\n",
       "    }\n",
       "</style>\n",
       "<table border=\"1\" class=\"dataframe\">\n",
       "  <thead>\n",
       "    <tr style=\"text-align: right;\">\n",
       "      <th></th>\n",
       "      <th>user_id</th>\n",
       "      <th>score</th>\n",
       "      <th>age</th>\n",
       "      <th>equity</th>\n",
       "      <th>balance</th>\n",
       "      <th>products</th>\n",
       "      <th>credit_card</th>\n",
       "      <th>last_activity</th>\n",
       "      <th>est_salary</th>\n",
       "      <th>churn</th>\n",
       "    </tr>\n",
       "  </thead>\n",
       "  <tbody>\n",
       "    <tr>\n",
       "      <th>count</th>\n",
       "      <td>9974.000000</td>\n",
       "      <td>9974.000000</td>\n",
       "      <td>9974.000000</td>\n",
       "      <td>9974.000000</td>\n",
       "      <td>7.695000e+03</td>\n",
       "      <td>9974.000000</td>\n",
       "      <td>9974.000000</td>\n",
       "      <td>9974.000000</td>\n",
       "      <td>9.974000e+03</td>\n",
       "      <td>9974.000000</td>\n",
       "    </tr>\n",
       "    <tr>\n",
       "      <th>mean</th>\n",
       "      <td>171755.218669</td>\n",
       "      <td>848.682575</td>\n",
       "      <td>42.734409</td>\n",
       "      <td>2.630840</td>\n",
       "      <td>8.272456e+05</td>\n",
       "      <td>1.871466</td>\n",
       "      <td>0.680168</td>\n",
       "      <td>0.522859</td>\n",
       "      <td>1.477868e+05</td>\n",
       "      <td>0.182374</td>\n",
       "    </tr>\n",
       "    <tr>\n",
       "      <th>std</th>\n",
       "      <td>33695.527126</td>\n",
       "      <td>65.399720</td>\n",
       "      <td>12.179971</td>\n",
       "      <td>1.979965</td>\n",
       "      <td>1.980327e+06</td>\n",
       "      <td>0.792729</td>\n",
       "      <td>0.466435</td>\n",
       "      <td>0.499502</td>\n",
       "      <td>1.392855e+05</td>\n",
       "      <td>0.386172</td>\n",
       "    </tr>\n",
       "    <tr>\n",
       "      <th>min</th>\n",
       "      <td>94561.000000</td>\n",
       "      <td>642.000000</td>\n",
       "      <td>18.000000</td>\n",
       "      <td>0.000000</td>\n",
       "      <td>0.000000e+00</td>\n",
       "      <td>0.000000</td>\n",
       "      <td>0.000000</td>\n",
       "      <td>0.000000</td>\n",
       "      <td>2.546300e+03</td>\n",
       "      <td>0.000000</td>\n",
       "    </tr>\n",
       "    <tr>\n",
       "      <th>25%</th>\n",
       "      <td>142760.000000</td>\n",
       "      <td>802.000000</td>\n",
       "      <td>33.000000</td>\n",
       "      <td>0.000000</td>\n",
       "      <td>2.956987e+05</td>\n",
       "      <td>1.000000</td>\n",
       "      <td>0.000000</td>\n",
       "      <td>0.000000</td>\n",
       "      <td>7.525166e+04</td>\n",
       "      <td>0.000000</td>\n",
       "    </tr>\n",
       "    <tr>\n",
       "      <th>50%</th>\n",
       "      <td>172643.000000</td>\n",
       "      <td>853.000000</td>\n",
       "      <td>40.000000</td>\n",
       "      <td>3.000000</td>\n",
       "      <td>5.242953e+05</td>\n",
       "      <td>2.000000</td>\n",
       "      <td>1.000000</td>\n",
       "      <td>1.000000</td>\n",
       "      <td>1.196268e+05</td>\n",
       "      <td>0.000000</td>\n",
       "    </tr>\n",
       "    <tr>\n",
       "      <th>75%</th>\n",
       "      <td>201163.750000</td>\n",
       "      <td>900.000000</td>\n",
       "      <td>51.000000</td>\n",
       "      <td>4.000000</td>\n",
       "      <td>9.800512e+05</td>\n",
       "      <td>2.000000</td>\n",
       "      <td>1.000000</td>\n",
       "      <td>1.000000</td>\n",
       "      <td>1.744998e+05</td>\n",
       "      <td>0.000000</td>\n",
       "    </tr>\n",
       "    <tr>\n",
       "      <th>max</th>\n",
       "      <td>229145.000000</td>\n",
       "      <td>1000.000000</td>\n",
       "      <td>86.000000</td>\n",
       "      <td>9.000000</td>\n",
       "      <td>1.191136e+08</td>\n",
       "      <td>5.000000</td>\n",
       "      <td>1.000000</td>\n",
       "      <td>1.000000</td>\n",
       "      <td>1.395064e+06</td>\n",
       "      <td>1.000000</td>\n",
       "    </tr>\n",
       "  </tbody>\n",
       "</table>\n",
       "</div>"
      ],
      "text/plain": [
       "             user_id        score          age       equity       balance  \\\n",
       "count    9974.000000  9974.000000  9974.000000  9974.000000  7.695000e+03   \n",
       "mean   171755.218669   848.682575    42.734409     2.630840  8.272456e+05   \n",
       "std     33695.527126    65.399720    12.179971     1.979965  1.980327e+06   \n",
       "min     94561.000000   642.000000    18.000000     0.000000  0.000000e+00   \n",
       "25%    142760.000000   802.000000    33.000000     0.000000  2.956987e+05   \n",
       "50%    172643.000000   853.000000    40.000000     3.000000  5.242953e+05   \n",
       "75%    201163.750000   900.000000    51.000000     4.000000  9.800512e+05   \n",
       "max    229145.000000  1000.000000    86.000000     9.000000  1.191136e+08   \n",
       "\n",
       "          products  credit_card  last_activity    est_salary        churn  \n",
       "count  9974.000000  9974.000000    9974.000000  9.974000e+03  9974.000000  \n",
       "mean      1.871466     0.680168       0.522859  1.477868e+05     0.182374  \n",
       "std       0.792729     0.466435       0.499502  1.392855e+05     0.386172  \n",
       "min       0.000000     0.000000       0.000000  2.546300e+03     0.000000  \n",
       "25%       1.000000     0.000000       0.000000  7.525166e+04     0.000000  \n",
       "50%       2.000000     1.000000       1.000000  1.196268e+05     0.000000  \n",
       "75%       2.000000     1.000000       1.000000  1.744998e+05     0.000000  \n",
       "max       5.000000     1.000000       1.000000  1.395064e+06     1.000000  "
      ]
     },
     "execution_count": 27,
     "metadata": {},
     "output_type": "execute_result"
    }
   ],
   "source": [
    "# описательная статистика для числовых полей\n",
    "df.describe()"
   ]
  },
  {
   "cell_type": "markdown",
   "id": "0c8edfc4",
   "metadata": {},
   "source": [
    "Характерные для банков данные корректны:\n",
    "- возраст от 18\n",
    "- баллы кредитного скоринга от 0 до 1000\n",
    "- количество баллов собственности от 0 до 10\n",
    "- кредитная карта либо есть, либо нет\n",
    "\n",
    "Возможные значения активности и маркер churn также корректы.\n",
    "\n",
    "Максимальное количество банковских продуктов 5, однако такое также возможно в реальности.\n",
    "\n",
    "Баланс и заработная плата имеют большой разброс, однако данные возможны.\n",
    "\n",
    "Столбцы с населенным пунктом и полом были проверены ранее и являются корректными."
   ]
  },
  {
   "cell_type": "markdown",
   "id": "a77c8d11",
   "metadata": {},
   "source": [
    "### Удаление выбросов"
   ]
  },
  {
   "cell_type": "code",
   "execution_count": 28,
   "id": "cdaf9f03",
   "metadata": {},
   "outputs": [],
   "source": [
    "# наименованиt столбцов для построения диаграмм размаха\n",
    "columns = (['score' , 'age','equity','balance','products' ,'est_salary'])"
   ]
  },
  {
   "cell_type": "code",
   "execution_count": 29,
   "id": "7432a55c",
   "metadata": {},
   "outputs": [
    {
     "data": {
      "image/png": "[encoded data removed]",
      "text/plain": [
       "<Figure size 3000x700 with 6 Axes>"
      ]
     },
     "metadata": {},
     "output_type": "display_data"
    }
   ],
   "source": [
    "# построение диаграмм размаха \n",
    "fig, ax = plt.subplots(nrows=1, ncols=len(columns), figsize=(30,7))\n",
    "\n",
    "for i in range(len(columns)):\n",
    "    ax[i].boxplot(df[~df[columns[i]].isna()][columns[i]])\n",
    "    ax[i].set(xticklabels=[])  \n",
    "    ax[i].set(xlabel= columns[i])\n",
    "    ax[i].tick_params(bottom=False) \n",
    "    ax[i].set(title = 'Диаграмма размаха ' + columns[i])\n",
    "plt.show();"
   ]
  },
  {
   "cell_type": "code",
   "execution_count": 30,
   "id": "3c633e25",
   "metadata": {},
   "outputs": [
    {
     "name": "stdout",
     "output_type": "stream",
     "text": [
      "Количество выбросов: 1253, что составляет 12.56%\n"
     ]
    }
   ],
   "source": [
    "# поиск выбросов и оценка их количества\n",
    "fliers = df.loc[0:0].drop(index=[0])\n",
    "\n",
    "for col in columns:\n",
    "    fliers = fliers.append(df[(df[col]>(np.quantile(df[~df[col].isna()][col], 0.75) + 1.5*(np.quantile(df[~df[col].isna()][col], 0.75) - np.quantile(df[~df[col].isna()][col], 0.25))))|\n",
    "                 (df[col]<(np.quantile(df[~df[col].isna()][col], 0.25) - 1.5*(np.quantile(df[~df[col].isna()][col], 0.75) - np.quantile(df[~df[col].isna()][col], 0.25))))])\n",
    "fliers = fliers.drop_duplicates()\n",
    "print(f\"Количество выбросов: {len(fliers)}, что составляет {len(fliers)/len(df)*100:.2f}%\")"
   ]
  },
  {
   "cell_type": "markdown",
   "id": "e6bd2674",
   "metadata": {},
   "source": [
    "Количество выбросов составляет 12.56% от общего числа данных. Несмотря на большой процент выбросов, их необходимо удалить, поскольку дальшейнее исследование корреляции будет некорректным при их наличии."
   ]
  },
  {
   "cell_type": "code",
   "execution_count": 31,
   "id": "a86bde07",
   "metadata": {},
   "outputs": [
    {
     "name": "stdout",
     "output_type": "stream",
     "text": [
      "<class 'pandas.core.frame.DataFrame'>\n",
      "Int64Index: 8721 entries, 0 to 9998\n",
      "Data columns (total 12 columns):\n",
      " #   Column         Non-Null Count  Dtype  \n",
      "---  ------         --------------  -----  \n",
      " 0   user_id        8721 non-null   int64  \n",
      " 1   score          8721 non-null   int32  \n",
      " 2   city           8721 non-null   object \n",
      " 3   gender         8721 non-null   object \n",
      " 4   age            8721 non-null   int32  \n",
      " 5   equity         8721 non-null   int64  \n",
      " 6   balance        6779 non-null   float64\n",
      " 7   products       8721 non-null   int64  \n",
      " 8   credit_card    8721 non-null   int64  \n",
      " 9   last_activity  8721 non-null   int64  \n",
      " 10  est_salary     8721 non-null   float64\n",
      " 11  churn          8721 non-null   int64  \n",
      "dtypes: float64(2), int32(2), int64(6), object(2)\n",
      "memory usage: 817.6+ KB\n"
     ]
    }
   ],
   "source": [
    "# удаление выбросов\n",
    "df_filtered = pd.concat([df, fliers]).drop_duplicates(keep=False)\n",
    "df_filtered.info()"
   ]
  },
  {
   "cell_type": "markdown",
   "id": "8fad8215",
   "metadata": {},
   "source": [
    "###  Определение значимых признаков отточности"
   ]
  },
  {
   "cell_type": "code",
   "execution_count": 32,
   "id": "417e5b23",
   "metadata": {},
   "outputs": [
    {
     "name": "stdout",
     "output_type": "stream",
     "text": [
      "Количество бывших клиентов: 1340\n"
     ]
    }
   ],
   "source": [
    "print(f\"Количество бывших клиентов: {len(df_filtered[df_filtered['churn']==1])}\")"
   ]
  },
  {
   "cell_type": "code",
   "execution_count": 33,
   "id": "60eef3a4",
   "metadata": {},
   "outputs": [
    {
     "name": "stdout",
     "output_type": "stream",
     "text": [
      "Средний уровень оттока: 15.37%\n"
     ]
    }
   ],
   "source": [
    "churn_level = round(len(df_filtered[df_filtered['churn']==1])/len(df_filtered)*100, 2)\n",
    "print(f\"Средний уровень оттока: {churn_level}%\")"
   ]
  },
  {
   "cell_type": "code",
   "execution_count": 34,
   "id": "b07abd36",
   "metadata": {},
   "outputs": [],
   "source": [
    "# таблица портрета клиента\n",
    "portrait = pd.DataFrame(columns=['param', 'churn', 'non_churn', 'diff'])"
   ]
  },
  {
   "cell_type": "code",
   "execution_count": 35,
   "id": "65fb5785",
   "metadata": {},
   "outputs": [],
   "source": [
    "def def_portrait(param, churn, non_churn, diff):\n",
    "    '''\n",
    "    функция для добавления строк в таблицу портрета клиента\n",
    "    '''\n",
    "    i = len(portrait)\n",
    "    portrait.loc[i, 'param'] = param\n",
    "    portrait.loc[i, 'churn'] = churn\n",
    "    portrait.loc[i, 'non_churn'] = non_churn\n",
    "    portrait.loc[i, 'diff'] = diff\n",
    "                                                                                                        "
   ]
  },
  {
   "cell_type": "markdown",
   "id": "d49e1d09",
   "metadata": {},
   "source": [
    "Всего по отфильтрованным данным 1340 клиентов отказались от услуг банка. Рассмотрим всего характеристики и определим наиболее значимые признаки отточности"
   ]
  },
  {
   "cell_type": "markdown",
   "id": "466f18a6",
   "metadata": {},
   "source": [
    "#### Анализ по столбцу score"
   ]
  },
  {
   "cell_type": "code",
   "execution_count": 36,
   "id": "053c209f",
   "metadata": {},
   "outputs": [
    {
     "data": {
      "text/html": [
       "<style  type=\"text/css\" >\n",
       "#T_3c3b0_row0_col1,#T_3c3b0_row1_col1{\n",
       "            background-color:  #fff7fb;\n",
       "            color:  #000000;\n",
       "        }#T_3c3b0_row2_col1,#T_3c3b0_row10_col1{\n",
       "            background-color:  #f9f2f8;\n",
       "            color:  #000000;\n",
       "        }#T_3c3b0_row3_col1{\n",
       "            background-color:  #d9d8ea;\n",
       "            color:  #000000;\n",
       "        }#T_3c3b0_row4_col1{\n",
       "            background-color:  #60a1ca;\n",
       "            color:  #000000;\n",
       "        }#T_3c3b0_row5_col1{\n",
       "            background-color:  #0569a4;\n",
       "            color:  #f1f1f1;\n",
       "        }#T_3c3b0_row6_col1{\n",
       "            background-color:  #023858;\n",
       "            color:  #f1f1f1;\n",
       "        }#T_3c3b0_row7_col1{\n",
       "            background-color:  #034e7b;\n",
       "            color:  #f1f1f1;\n",
       "        }#T_3c3b0_row8_col1{\n",
       "            background-color:  #84b0d3;\n",
       "            color:  #000000;\n",
       "        }#T_3c3b0_row9_col1{\n",
       "            background-color:  #ece7f2;\n",
       "            color:  #000000;\n",
       "        }</style><table id=\"T_3c3b0_\" ><thead>    <tr>        <th class=\"blank level0\" ></th>        <th class=\"col_heading level0 col0\" >score</th>        <th class=\"col_heading level0 col1\" >churn</th>    </tr></thead><tbody>\n",
       "                <tr>\n",
       "                        <th id=\"T_3c3b0_level0_row0\" class=\"row_heading level0 row0\" >0</th>\n",
       "                        <td id=\"T_3c3b0_row0_col0\" class=\"data row0 col0\" >(659.999, 690.0]</td>\n",
       "                        <td id=\"T_3c3b0_row0_col1\" class=\"data row0 col1\" >0.00</td>\n",
       "            </tr>\n",
       "            <tr>\n",
       "                        <th id=\"T_3c3b0_level0_row1\" class=\"row_heading level0 row1\" >1</th>\n",
       "                        <td id=\"T_3c3b0_row1_col0\" class=\"data row1 col0\" >(690.0, 720.0]</td>\n",
       "                        <td id=\"T_3c3b0_row1_col1\" class=\"data row1 col1\" >0.00</td>\n",
       "            </tr>\n",
       "            <tr>\n",
       "                        <th id=\"T_3c3b0_level0_row2\" class=\"row_heading level0 row2\" >2</th>\n",
       "                        <td id=\"T_3c3b0_row2_col0\" class=\"data row2 col0\" >(720.0, 750.0]</td>\n",
       "                        <td id=\"T_3c3b0_row2_col1\" class=\"data row2 col1\" >0.01</td>\n",
       "            </tr>\n",
       "            <tr>\n",
       "                        <th id=\"T_3c3b0_level0_row3\" class=\"row_heading level0 row3\" >3</th>\n",
       "                        <td id=\"T_3c3b0_row3_col0\" class=\"data row3 col0\" >(750.0, 780.0]</td>\n",
       "                        <td id=\"T_3c3b0_row3_col1\" class=\"data row3 col1\" >0.05</td>\n",
       "            </tr>\n",
       "            <tr>\n",
       "                        <th id=\"T_3c3b0_level0_row4\" class=\"row_heading level0 row4\" >4</th>\n",
       "                        <td id=\"T_3c3b0_row4_col0\" class=\"data row4 col0\" >(780.0, 810.0]</td>\n",
       "                        <td id=\"T_3c3b0_row4_col1\" class=\"data row4 col1\" >0.13</td>\n",
       "            </tr>\n",
       "            <tr>\n",
       "                        <th id=\"T_3c3b0_level0_row5\" class=\"row_heading level0 row5\" >5</th>\n",
       "                        <td id=\"T_3c3b0_row5_col0\" class=\"data row5 col0\" >(810.0, 840.0]</td>\n",
       "                        <td id=\"T_3c3b0_row5_col1\" class=\"data row5 col1\" >0.19</td>\n",
       "            </tr>\n",
       "            <tr>\n",
       "                        <th id=\"T_3c3b0_level0_row6\" class=\"row_heading level0 row6\" >6</th>\n",
       "                        <td id=\"T_3c3b0_row6_col0\" class=\"data row6 col0\" >(840.0, 870.0]</td>\n",
       "                        <td id=\"T_3c3b0_row6_col1\" class=\"data row6 col1\" >0.24</td>\n",
       "            </tr>\n",
       "            <tr>\n",
       "                        <th id=\"T_3c3b0_level0_row7\" class=\"row_heading level0 row7\" >7</th>\n",
       "                        <td id=\"T_3c3b0_row7_col0\" class=\"data row7 col0\" >(870.0, 900.0]</td>\n",
       "                        <td id=\"T_3c3b0_row7_col1\" class=\"data row7 col1\" >0.22</td>\n",
       "            </tr>\n",
       "            <tr>\n",
       "                        <th id=\"T_3c3b0_level0_row8\" class=\"row_heading level0 row8\" >8</th>\n",
       "                        <td id=\"T_3c3b0_row8_col0\" class=\"data row8 col0\" >(900.0, 930.0]</td>\n",
       "                        <td id=\"T_3c3b0_row8_col1\" class=\"data row8 col1\" >0.11</td>\n",
       "            </tr>\n",
       "            <tr>\n",
       "                        <th id=\"T_3c3b0_level0_row9\" class=\"row_heading level0 row9\" >9</th>\n",
       "                        <td id=\"T_3c3b0_row9_col0\" class=\"data row9 col0\" >(930.0, 960.0]</td>\n",
       "                        <td id=\"T_3c3b0_row9_col1\" class=\"data row9 col1\" >0.03</td>\n",
       "            </tr>\n",
       "            <tr>\n",
       "                        <th id=\"T_3c3b0_level0_row10\" class=\"row_heading level0 row10\" >10</th>\n",
       "                        <td id=\"T_3c3b0_row10_col0\" class=\"data row10 col0\" >(960.0, 990.0]</td>\n",
       "                        <td id=\"T_3c3b0_row10_col1\" class=\"data row10 col1\" >0.01</td>\n",
       "            </tr>\n",
       "    </tbody></table>"
      ],
      "text/plain": [
       "<pandas.io.formats.style.Styler at 0x1bc0f61c400>"
      ]
     },
     "execution_count": 36,
     "metadata": {},
     "output_type": "execute_result"
    }
   ],
   "source": [
    "#сводная таблица распределения значение кредитного скоринга по диапазонам бывших клиентов\n",
    "bins = []\n",
    "bins.append(round(df_filtered['score'].min()/30)*30)\n",
    "for i in range(round(df_filtered['score'].min()/30)*30+30, round((df_filtered['score'].max()+30)/30)*30, 30):\n",
    "    bins.append(i)\n",
    "df_filtered['temp'] = pd.cut(df_filtered['score'], bins = bins, include_lowest=True)\n",
    "pt = df_filtered[df_filtered['churn']==1].groupby('temp', as_index = False)['user_id'].count().rename(columns ={'temp':'score','user_id':'churn'})\n",
    "pt['churn']=round(pt['churn']/pt['churn'].sum(),2)\n",
    "pt.style.background_gradient(subset = ['churn'], axis=None).format({'churn':\"{:.2f}\"})"
   ]
  },
  {
   "cell_type": "code",
   "execution_count": 37,
   "id": "196e85c2",
   "metadata": {},
   "outputs": [
    {
     "data": {
      "image/png": "[encoded data removed]",
      "text/plain": [
       "<Figure size 640x480 with 1 Axes>"
      ]
     },
     "metadata": {},
     "output_type": "display_data"
    }
   ],
   "source": [
    "# график плотности распределения кредитного скоринга бывших и текущих клиентов\n",
    "sns.histplot(data=df_filtered, x='score', hue='churn', stat='density', common_norm=False);\n",
    "\n",
    "plt.title('График плотности распределения кредитного скоринга')\n",
    "plt.xlabel('Кредитный скоринг')\n",
    "plt.ylabel('Плотность распредения')\n",
    "plt.legend(title = '', labels = ['Бывшие клиенты','Текущие клиенты']);"
   ]
  },
  {
   "cell_type": "code",
   "execution_count": 38,
   "id": "427ae91d",
   "metadata": {},
   "outputs": [
    {
     "name": "stdout",
     "output_type": "stream",
     "text": [
      "Среднее значение кредитного скоринга бывших клиентов: 852\n",
      "Среднее значение кредитного скоринга текущих клиентов: 843\n",
      "Относительная разница: 0.01\n"
     ]
    }
   ],
   "source": [
    "print(f\"Среднее значение кредитного скоринга бывших клиентов: {df_filtered[df_filtered['churn']==1]['score'].mean():.0f}\")\n",
    "print(f\"Среднее значение кредитного скоринга текущих клиентов: {df_filtered[df_filtered['churn']==0]['score'].mean():.0f}\")\n",
    "print(f\"Относительная разница: {df_filtered[df_filtered['churn']==1]['score'].mean()/df_filtered[df_filtered['churn']==0]['score'].mean()-1:.2f}\")"
   ]
  },
  {
   "cell_type": "markdown",
   "id": "112aa5bc",
   "metadata": {},
   "source": [
    "Несмотря на то, что средние значения близки и относительная разница составляет всего 1%. В диапазоне 830-900 наблюдается максимальная плотность распределения бывших клиентов.  "
   ]
  },
  {
   "cell_type": "code",
   "execution_count": 39,
   "id": "5b1c2d53",
   "metadata": {},
   "outputs": [],
   "source": [
    "# добавление информации в портрет\n",
    "def_portrait('Среднее score',\n",
    "         round(df_filtered[df_filtered['churn']==1]['score'].mean(),2),\n",
    "         round(df_filtered[df_filtered['churn']==0]['score'].mean(),2),\n",
    "         round((df_filtered[df_filtered['churn']==1]['score'].mean()/df_filtered[df_filtered['churn']==0]['score'].mean()-1)*100,2))\n"
   ]
  },
  {
   "cell_type": "markdown",
   "id": "94833a40",
   "metadata": {},
   "source": [
    "#### Анализ по столбцу city  в разрезе оттока\n"
   ]
  },
  {
   "cell_type": "code",
   "execution_count": 40,
   "id": "31878e50",
   "metadata": {},
   "outputs": [
    {
     "data": {
      "text/html": [
       "<div>\n",
       "<style scoped>\n",
       "    .dataframe tbody tr th:only-of-type {\n",
       "        vertical-align: middle;\n",
       "    }\n",
       "\n",
       "    .dataframe tbody tr th {\n",
       "        vertical-align: top;\n",
       "    }\n",
       "\n",
       "    .dataframe thead th {\n",
       "        text-align: right;\n",
       "    }\n",
       "</style>\n",
       "<table border=\"1\" class=\"dataframe\">\n",
       "  <thead>\n",
       "    <tr style=\"text-align: right;\">\n",
       "      <th></th>\n",
       "      <th>city</th>\n",
       "      <th>ratio</th>\n",
       "    </tr>\n",
       "  </thead>\n",
       "  <tbody>\n",
       "    <tr>\n",
       "      <th>0</th>\n",
       "      <td>Ростов</td>\n",
       "      <td>16.04</td>\n",
       "    </tr>\n",
       "    <tr>\n",
       "      <th>1</th>\n",
       "      <td>Рыбинск</td>\n",
       "      <td>24.85</td>\n",
       "    </tr>\n",
       "    <tr>\n",
       "      <th>2</th>\n",
       "      <td>Ярославль</td>\n",
       "      <td>59.10</td>\n",
       "    </tr>\n",
       "  </tbody>\n",
       "</table>\n",
       "</div>"
      ],
      "text/plain": [
       "        city  ratio\n",
       "0     Ростов  16.04\n",
       "1    Рыбинск  24.85\n",
       "2  Ярославль  59.10"
      ]
     },
     "execution_count": 40,
     "metadata": {},
     "output_type": "execute_result"
    }
   ],
   "source": [
    "#сводная таблица относительного уровня оттока по населенным пунктам\n",
    "pt = df_filtered[df_filtered['churn']==1].groupby('city', as_index=False)['user_id'].count().rename(columns={'user_id':'ratio'})\n",
    "pt['ratio'] = round(pt['ratio']/sum(pt['ratio'])*100,2)\n",
    "pt"
   ]
  },
  {
   "cell_type": "code",
   "execution_count": 41,
   "id": "9f143f0b",
   "metadata": {
    "scrolled": false
   },
   "outputs": [
    {
     "data": {
      "image/png": "[encoded data removed]",
      "text/plain": [
       "<Figure size 640x480 with 1 Axes>"
      ]
     },
     "metadata": {},
     "output_type": "display_data"
    }
   ],
   "source": [
    "#столбчатая диграмма относительного уровня оттока по населенным пунктам\n",
    "sns.barplot(data = pt, x = 'city', y = 'ratio')\n",
    "plt.title('Относительный уровень оттока клиентов по населенным пунктам')\n",
    "plt.xlabel('Населенный пункт')\n",
    "plt.ylabel('Уровень оттока, %')\n",
    "plt.axhline(y = churn_level, linestyle = '--', linewidth=0.5, color = 'Black')\n",
    "plt.show();"
   ]
  },
  {
   "cell_type": "code",
   "execution_count": 42,
   "id": "7ae5b8e2",
   "metadata": {},
   "outputs": [
    {
     "name": "stdout",
     "output_type": "stream",
     "text": [
      "Мода населенного пункта бывших клиентов: Ярославль\n",
      "Мода населенного пункта текущих клиентов: Ярославль\n"
     ]
    }
   ],
   "source": [
    "print('Мода населенного пункта бывших клиентов:', statistics.mode(df_filtered[df_filtered['churn']==1]['city']))\n",
    "print('Мода населенного пункта текущих клиентов:', statistics.mode(df_filtered[df_filtered['churn']==0]['city']))"
   ]
  },
  {
   "cell_type": "markdown",
   "id": "d36823a7",
   "metadata": {},
   "source": [
    "Мода по населенным пунктам текущих и бывших клиентов - Ярославль. 59% бывших клиентов были привязаны к этому филиалу.  "
   ]
  },
  {
   "cell_type": "code",
   "execution_count": 43,
   "id": "350acb3d",
   "metadata": {},
   "outputs": [],
   "source": [
    "# добавление информации в портрет\n",
    "def_portrait('Мода city',\n",
    "         statistics.mode(df_filtered[df_filtered['churn']==1]['city']),\n",
    "         statistics.mode(df_filtered[df_filtered['churn']==0]['city']),\n",
    "         '-')"
   ]
  },
  {
   "cell_type": "markdown",
   "id": "f2615cb3",
   "metadata": {},
   "source": [
    "#### Анализ по столбцу gender  в разрезе оттока\n"
   ]
  },
  {
   "cell_type": "code",
   "execution_count": 44,
   "id": "cda97951",
   "metadata": {},
   "outputs": [
    {
     "data": {
      "text/html": [
       "<div>\n",
       "<style scoped>\n",
       "    .dataframe tbody tr th:only-of-type {\n",
       "        vertical-align: middle;\n",
       "    }\n",
       "\n",
       "    .dataframe tbody tr th {\n",
       "        vertical-align: top;\n",
       "    }\n",
       "\n",
       "    .dataframe thead th {\n",
       "        text-align: right;\n",
       "    }\n",
       "</style>\n",
       "<table border=\"1\" class=\"dataframe\">\n",
       "  <thead>\n",
       "    <tr style=\"text-align: right;\">\n",
       "      <th></th>\n",
       "      <th>gender</th>\n",
       "      <th>ratio</th>\n",
       "    </tr>\n",
       "  </thead>\n",
       "  <tbody>\n",
       "    <tr>\n",
       "      <th>0</th>\n",
       "      <td>Ж</td>\n",
       "      <td>36.49</td>\n",
       "    </tr>\n",
       "    <tr>\n",
       "      <th>1</th>\n",
       "      <td>М</td>\n",
       "      <td>63.51</td>\n",
       "    </tr>\n",
       "  </tbody>\n",
       "</table>\n",
       "</div>"
      ],
      "text/plain": [
       "  gender  ratio\n",
       "0      Ж  36.49\n",
       "1      М  63.51"
      ]
     },
     "execution_count": 44,
     "metadata": {},
     "output_type": "execute_result"
    }
   ],
   "source": [
    "#сводная таблица относительного уровня оттока по полу\n",
    "pt = df_filtered[df_filtered['churn']==1].groupby('gender', as_index=False)['user_id'].count().rename(columns={'user_id':'ratio'})\n",
    "pt['ratio'] = round(pt['ratio']/sum(pt['ratio'])*100,2)\n",
    "pt"
   ]
  },
  {
   "cell_type": "code",
   "execution_count": 45,
   "id": "27330cac",
   "metadata": {
    "scrolled": false
   },
   "outputs": [
    {
     "data": {
      "image/png": "[encoded data removed]",
      "text/plain": [
       "<Figure size 640x480 with 1 Axes>"
      ]
     },
     "metadata": {},
     "output_type": "display_data"
    }
   ],
   "source": [
    "#столбчатая диграмма относительного уровня оттока по полу\n",
    "sns.barplot(data = pt, x = 'gender', y = 'ratio')\n",
    "plt.title('Относительный уровень оттока клиентов по полу')\n",
    "plt.xlabel('Пол')\n",
    "plt.ylabel('Уровень оттока, %')\n",
    "plt.axhline(y = churn_level, linestyle = '--', linewidth=0.5, color = 'Black')\n",
    "plt.show();"
   ]
  },
  {
   "cell_type": "code",
   "execution_count": 46,
   "id": "3e31a379",
   "metadata": {},
   "outputs": [
    {
     "name": "stdout",
     "output_type": "stream",
     "text": [
      "Мода пола бывших клиентов: М\n",
      "Мода пола текущих клиентов: Ж\n"
     ]
    }
   ],
   "source": [
    "print('Мода пола бывших клиентов:', statistics.mode(df_filtered[df_filtered['churn']==1]['gender']))\n",
    "print('Мода пола текущих клиентов:', statistics.mode(df_filtered[df_filtered['churn']==0]['gender']))"
   ]
  },
  {
   "cell_type": "markdown",
   "id": "a80b3fb0",
   "metadata": {},
   "source": [
    "64% бывших клиентов - мужчины, 36 - женщины. Мода текущих и бывших клиентов различна: среди бывших клиентов преобладают мужчины, в отличие от текущих клиентов, где большинство женщин."
   ]
  },
  {
   "cell_type": "code",
   "execution_count": 47,
   "id": "21cda2ac",
   "metadata": {},
   "outputs": [],
   "source": [
    "# добавление информации в портрет\n",
    "def_portrait('Мода gender',\n",
    "         statistics.mode(df_filtered[df_filtered['churn']==1]['gender']),\n",
    "         statistics.mode(df_filtered[df_filtered['churn']==0]['gender']),\n",
    "         '-')"
   ]
  },
  {
   "cell_type": "markdown",
   "id": "f7430c4c",
   "metadata": {},
   "source": [
    "#### Анализ по столбцу age"
   ]
  },
  {
   "cell_type": "code",
   "execution_count": 48,
   "id": "6234de4b",
   "metadata": {},
   "outputs": [
    {
     "data": {
      "text/html": [
       "<style  type=\"text/css\" >\n",
       "#T_88757_row0_col1{\n",
       "            background-color:  #7dacd1;\n",
       "            color:  #000000;\n",
       "        }#T_88757_row1_col1{\n",
       "            background-color:  #023858;\n",
       "            color:  #f1f1f1;\n",
       "        }#T_88757_row2_col1{\n",
       "            background-color:  #0d75b3;\n",
       "            color:  #f1f1f1;\n",
       "        }#T_88757_row3_col1{\n",
       "            background-color:  #a7bddb;\n",
       "            color:  #000000;\n",
       "        }#T_88757_row4_col1{\n",
       "            background-color:  #308cbe;\n",
       "            color:  #000000;\n",
       "        }#T_88757_row5_col1{\n",
       "            background-color:  #88b1d4;\n",
       "            color:  #000000;\n",
       "        }#T_88757_row6_col1{\n",
       "            background-color:  #f8f1f8;\n",
       "            color:  #000000;\n",
       "        }#T_88757_row7_col1{\n",
       "            background-color:  #fff7fb;\n",
       "            color:  #000000;\n",
       "        }</style><table id=\"T_88757_\" ><thead>    <tr>        <th class=\"blank level0\" ></th>        <th class=\"col_heading level0 col0\" >age</th>        <th class=\"col_heading level0 col1\" >churn</th>    </tr></thead><tbody>\n",
       "                <tr>\n",
       "                        <th id=\"T_88757_level0_row0\" class=\"row_heading level0 row0\" >0</th>\n",
       "                        <td id=\"T_88757_row0_col0\" class=\"data row0 col0\" >(17.999, 28.0]</td>\n",
       "                        <td id=\"T_88757_row0_col1\" class=\"data row0 col1\" >12.84</td>\n",
       "            </tr>\n",
       "            <tr>\n",
       "                        <th id=\"T_88757_level0_row1\" class=\"row_heading level0 row1\" >1</th>\n",
       "                        <td id=\"T_88757_row1_col0\" class=\"data row1 col0\" >(28.0, 35.0]</td>\n",
       "                        <td id=\"T_88757_row1_col1\" class=\"data row1 col1\" >26.72</td>\n",
       "            </tr>\n",
       "            <tr>\n",
       "                        <th id=\"T_88757_level0_row2\" class=\"row_heading level0 row2\" >2</th>\n",
       "                        <td id=\"T_88757_row2_col0\" class=\"data row2 col0\" >(35.0, 42.0]</td>\n",
       "                        <td id=\"T_88757_row2_col1\" class=\"data row2 col1\" >19.48</td>\n",
       "            </tr>\n",
       "            <tr>\n",
       "                        <th id=\"T_88757_level0_row3\" class=\"row_heading level0 row3\" >3</th>\n",
       "                        <td id=\"T_88757_row3_col0\" class=\"data row3 col0\" >(42.0, 49.0]</td>\n",
       "                        <td id=\"T_88757_row3_col1\" class=\"data row3 col1\" >10.07</td>\n",
       "            </tr>\n",
       "            <tr>\n",
       "                        <th id=\"T_88757_level0_row4\" class=\"row_heading level0 row4\" >4</th>\n",
       "                        <td id=\"T_88757_row4_col0\" class=\"data row4 col0\" >(49.0, 56.0]</td>\n",
       "                        <td id=\"T_88757_row4_col1\" class=\"data row4 col1\" >17.09</td>\n",
       "            </tr>\n",
       "            <tr>\n",
       "                        <th id=\"T_88757_level0_row5\" class=\"row_heading level0 row5\" >5</th>\n",
       "                        <td id=\"T_88757_row5_col0\" class=\"data row5 col0\" >(56.0, 63.0]</td>\n",
       "                        <td id=\"T_88757_row5_col1\" class=\"data row5 col1\" >12.16</td>\n",
       "            </tr>\n",
       "            <tr>\n",
       "                        <th id=\"T_88757_level0_row6\" class=\"row_heading level0 row6\" >6</th>\n",
       "                        <td id=\"T_88757_row6_col0\" class=\"data row6 col0\" >(63.0, 70.0]</td>\n",
       "                        <td id=\"T_88757_row6_col1\" class=\"data row6 col1\" >1.49</td>\n",
       "            </tr>\n",
       "            <tr>\n",
       "                        <th id=\"T_88757_level0_row7\" class=\"row_heading level0 row7\" >7</th>\n",
       "                        <td id=\"T_88757_row7_col0\" class=\"data row7 col0\" >(70.0, 77.0]</td>\n",
       "                        <td id=\"T_88757_row7_col1\" class=\"data row7 col1\" >0.15</td>\n",
       "            </tr>\n",
       "    </tbody></table>"
      ],
      "text/plain": [
       "<pandas.io.formats.style.Styler at 0x1bc0caf18e0>"
      ]
     },
     "execution_count": 48,
     "metadata": {},
     "output_type": "execute_result"
    }
   ],
   "source": [
    "#сводная таблица распределения возраста бывших клиентов\n",
    "bins = []\n",
    "bins.append(df_filtered['age'].min())\n",
    "for i in range(round(df_filtered['age'].min()/7)*7+7, round((df_filtered['age'].max()+7)/7)*7, 7):\n",
    "    bins.append(i)\n",
    "df_filtered['temp'] = pd.cut(df_filtered['age'], bins = bins, include_lowest=True)\n",
    "pt = df_filtered[df_filtered['churn']==1].groupby('temp', as_index = False)['user_id'].count().rename(columns ={'temp':'age','user_id':'churn'})\n",
    "pt['churn']=round(pt['churn']/pt['churn'].sum()*100,2)\n",
    "pt.style.background_gradient(subset = ['churn'], axis=None).format({'churn':\"{:.2f}\"})"
   ]
  },
  {
   "cell_type": "code",
   "execution_count": 49,
   "id": "217d5f55",
   "metadata": {},
   "outputs": [
    {
     "data": {
      "image/png": "[encoded data removed]",
      "text/plain": [
       "<Figure size 640x480 with 1 Axes>"
      ]
     },
     "metadata": {},
     "output_type": "display_data"
    }
   ],
   "source": [
    "# график плотности распределения возраста бывших и текущих клиентов\n",
    "sns.histplot(data=df_filtered, x='age', hue='churn', stat='density', bins = df_filtered['age'].max() - df_filtered['age'].min()+1, common_norm=False);\n",
    "plt.title('График плотности распределения возраста')\n",
    "plt.xlabel('Возраст')\n",
    "plt.ylabel('Плотность распредения')\n",
    "plt.legend(title = '', labels = ['Бывшие клиенты','Текущие клиенты']);"
   ]
  },
  {
   "cell_type": "code",
   "execution_count": 50,
   "id": "b1f38c08",
   "metadata": {},
   "outputs": [
    {
     "name": "stdout",
     "output_type": "stream",
     "text": [
      "Среднее значение возраста бывших клиентов: 41\n",
      "Среднее значение возраста текущих клиентов: 43\n",
      "Относительная разница: -0.03\n"
     ]
    }
   ],
   "source": [
    "print(f\"Среднее значение возраста бывших клиентов: {df_filtered[df_filtered['churn']==1]['age'].mean():.0f}\")\n",
    "print(f\"Среднее значение возраста текущих клиентов: {df_filtered[df_filtered['churn']==0]['age'].mean():.0f}\")\n",
    "print(f\"Относительная разница: {df_filtered[df_filtered['churn']==1]['age'].mean()/df_filtered[df_filtered['churn']==0]['age'].mean()-1:.2f}\")"
   ]
  },
  {
   "cell_type": "markdown",
   "id": "85074d2b",
   "metadata": {},
   "source": [
    "Средние значения близки и относительная разница составляет 3%. По графику видно распределения различаются. Плотность распределения возраста бывших клиентов значительно выше в диапазонах 25-35 и 50-61."
   ]
  },
  {
   "cell_type": "code",
   "execution_count": 51,
   "id": "21bc0c5e",
   "metadata": {},
   "outputs": [],
   "source": [
    "# добавление информации в портрет\n",
    "def_portrait('Среднее age',\n",
    "         round(df_filtered[df_filtered['churn']==1]['age'].mean(), 0),\n",
    "         round(df_filtered[df_filtered['churn']==0]['age'].mean(), 0),\n",
    "         round((df_filtered[df_filtered['churn']==1]['age'].mean()/df_filtered[df_filtered['churn']==0]['age'].mean()-1)*100,2))"
   ]
  },
  {
   "cell_type": "markdown",
   "id": "eedb653f",
   "metadata": {},
   "source": [
    "#### Анализ по столбцу equity  в разрезе оттока"
   ]
  },
  {
   "cell_type": "code",
   "execution_count": 52,
   "id": "1796323a",
   "metadata": {
    "scrolled": true
   },
   "outputs": [
    {
     "data": {
      "text/html": [
       "<style  type=\"text/css\" >\n",
       "#T_aba57_row0_col1{\n",
       "            background-color:  #dedcec;\n",
       "            color:  #000000;\n",
       "        }#T_aba57_row1_col1{\n",
       "            background-color:  #d9d8ea;\n",
       "            color:  #000000;\n",
       "        }#T_aba57_row2_col1{\n",
       "            background-color:  #b1c2de;\n",
       "            color:  #000000;\n",
       "        }#T_aba57_row3_col1{\n",
       "            background-color:  #308cbe;\n",
       "            color:  #000000;\n",
       "        }#T_aba57_row4_col1{\n",
       "            background-color:  #04649d;\n",
       "            color:  #f1f1f1;\n",
       "        }#T_aba57_row5_col1{\n",
       "            background-color:  #023858;\n",
       "            color:  #f1f1f1;\n",
       "        }#T_aba57_row6_col1{\n",
       "            background-color:  #f4edf6;\n",
       "            color:  #000000;\n",
       "        }#T_aba57_row7_col1{\n",
       "            background-color:  #f7f0f7;\n",
       "            color:  #000000;\n",
       "        }#T_aba57_row8_col1{\n",
       "            background-color:  #fff7fb;\n",
       "            color:  #000000;\n",
       "        }#T_aba57_row9_col1{\n",
       "            background-color:  #fef6fa;\n",
       "            color:  #000000;\n",
       "        }</style><table id=\"T_aba57_\" ><thead>    <tr>        <th class=\"blank level0\" ></th>        <th class=\"col_heading level0 col0\" >equity</th>        <th class=\"col_heading level0 col1\" >ratio</th>    </tr></thead><tbody>\n",
       "                <tr>\n",
       "                        <th id=\"T_aba57_level0_row0\" class=\"row_heading level0 row0\" >0</th>\n",
       "                        <td id=\"T_aba57_row0_col0\" class=\"data row0 col0\" >0</td>\n",
       "                        <td id=\"T_aba57_row0_col1\" class=\"data row0 col1\" >5.820000</td>\n",
       "            </tr>\n",
       "            <tr>\n",
       "                        <th id=\"T_aba57_level0_row1\" class=\"row_heading level0 row1\" >1</th>\n",
       "                        <td id=\"T_aba57_row1_col0\" class=\"data row1 col0\" >1</td>\n",
       "                        <td id=\"T_aba57_row1_col1\" class=\"data row1 col1\" >6.340000</td>\n",
       "            </tr>\n",
       "            <tr>\n",
       "                        <th id=\"T_aba57_level0_row2\" class=\"row_heading level0 row2\" >2</th>\n",
       "                        <td id=\"T_aba57_row2_col0\" class=\"data row2 col0\" >2</td>\n",
       "                        <td id=\"T_aba57_row2_col1\" class=\"data row2 col1\" >10.220000</td>\n",
       "            </tr>\n",
       "            <tr>\n",
       "                        <th id=\"T_aba57_level0_row3\" class=\"row_heading level0 row3\" >3</th>\n",
       "                        <td id=\"T_aba57_row3_col0\" class=\"data row3 col0\" >3</td>\n",
       "                        <td id=\"T_aba57_row3_col1\" class=\"data row3 col1\" >18.960000</td>\n",
       "            </tr>\n",
       "            <tr>\n",
       "                        <th id=\"T_aba57_level0_row4\" class=\"row_heading level0 row4\" >4</th>\n",
       "                        <td id=\"T_aba57_row4_col0\" class=\"data row4 col0\" >4</td>\n",
       "                        <td id=\"T_aba57_row4_col1\" class=\"data row4 col1\" >24.180000</td>\n",
       "            </tr>\n",
       "            <tr>\n",
       "                        <th id=\"T_aba57_level0_row5\" class=\"row_heading level0 row5\" >5</th>\n",
       "                        <td id=\"T_aba57_row5_col0\" class=\"data row5 col0\" >5</td>\n",
       "                        <td id=\"T_aba57_row5_col1\" class=\"data row5 col1\" >29.550000</td>\n",
       "            </tr>\n",
       "            <tr>\n",
       "                        <th id=\"T_aba57_level0_row6\" class=\"row_heading level0 row6\" >6</th>\n",
       "                        <td id=\"T_aba57_row6_col0\" class=\"data row6 col0\" >6</td>\n",
       "                        <td id=\"T_aba57_row6_col1\" class=\"data row6 col1\" >2.460000</td>\n",
       "            </tr>\n",
       "            <tr>\n",
       "                        <th id=\"T_aba57_level0_row7\" class=\"row_heading level0 row7\" >7</th>\n",
       "                        <td id=\"T_aba57_row7_col0\" class=\"data row7 col0\" >7</td>\n",
       "                        <td id=\"T_aba57_row7_col1\" class=\"data row7 col1\" >1.790000</td>\n",
       "            </tr>\n",
       "            <tr>\n",
       "                        <th id=\"T_aba57_level0_row8\" class=\"row_heading level0 row8\" >8</th>\n",
       "                        <td id=\"T_aba57_row8_col0\" class=\"data row8 col0\" >8</td>\n",
       "                        <td id=\"T_aba57_row8_col1\" class=\"data row8 col1\" >0.220000</td>\n",
       "            </tr>\n",
       "            <tr>\n",
       "                        <th id=\"T_aba57_level0_row9\" class=\"row_heading level0 row9\" >9</th>\n",
       "                        <td id=\"T_aba57_row9_col0\" class=\"data row9 col0\" >9</td>\n",
       "                        <td id=\"T_aba57_row9_col1\" class=\"data row9 col1\" >0.450000</td>\n",
       "            </tr>\n",
       "    </tbody></table>"
      ],
      "text/plain": [
       "<pandas.io.formats.style.Styler at 0x1bc0f064e80>"
      ]
     },
     "execution_count": 52,
     "metadata": {},
     "output_type": "execute_result"
    }
   ],
   "source": [
    "#сводная таблица относительного уровня оттока по баллам собственности\n",
    "pt = df_filtered[df_filtered['churn']==1].groupby('equity', as_index=False)['user_id'].count().rename(columns={'user_id':'ratio'})\n",
    "pt['ratio'] = round(pt['ratio']/sum(pt['ratio'])*100,2)\n",
    "pt.style.background_gradient(subset = ['ratio'], axis=None).format({'churn':\"{:.2f}\"})"
   ]
  },
  {
   "cell_type": "code",
   "execution_count": 53,
   "id": "e41c834c",
   "metadata": {
    "scrolled": false
   },
   "outputs": [
    {
     "data": {
      "image/png": "[encoded data removed]",
      "text/plain": [
       "<Figure size 640x480 with 1 Axes>"
      ]
     },
     "metadata": {},
     "output_type": "display_data"
    }
   ],
   "source": [
    "#столбчатая диграмма относительного уровня оттока по баллам собственности\n",
    "sns.barplot(data = pt, x = 'equity', y = 'ratio')\n",
    "plt.title('Относительный уровень оттока по баллам собственности')\n",
    "plt.xlabel('Баллы собственности')\n",
    "plt.ylabel('Уровень оттока, %')\n",
    "plt.axhline(y = churn_level, linestyle = '--', linewidth=0.5, color = 'Black')\n",
    "plt.show();"
   ]
  },
  {
   "cell_type": "code",
   "execution_count": 54,
   "id": "43ea7e59",
   "metadata": {},
   "outputs": [
    {
     "name": "stdout",
     "output_type": "stream",
     "text": [
      "Медиана количества баллов собственности бывших клиентов: 4\n",
      "Медиана количества баллов собственности текущих клиентов: 3\n"
     ]
    }
   ],
   "source": [
    "print(f\"Медиана количества баллов собственности бывших клиентов: {df_filtered[df_filtered['churn']==1]['equity'].median():.0f}\")\n",
    "print(f\"Медиана количества баллов собственности текущих клиентов: {df_filtered[df_filtered['churn']==0]['equity'].median():.0f}\")"
   ]
  },
  {
   "cell_type": "markdown",
   "id": "ef1c8767",
   "metadata": {},
   "source": [
    "Медианные значения близки. Уровень оттока бывших клиентов выше среднего только при значениях от 3 до 5 баллов собственности. "
   ]
  },
  {
   "cell_type": "code",
   "execution_count": 55,
   "id": "64514fda",
   "metadata": {},
   "outputs": [],
   "source": [
    "# добавление информации в портрет\n",
    "def_portrait('Медиана equity',\n",
    "         round(df_filtered[df_filtered['churn']==1]['equity'].median(), 0),\n",
    "         round(df_filtered[df_filtered['churn']==0]['equity'].median(), 0),\n",
    "         '-')"
   ]
  },
  {
   "cell_type": "markdown",
   "id": "95f7b9b8",
   "metadata": {},
   "source": [
    "#### Анализ по столбцу balance"
   ]
  },
  {
   "cell_type": "code",
   "execution_count": 56,
   "id": "4d2fa989",
   "metadata": {},
   "outputs": [
    {
     "data": {
      "text/html": [
       "<style  type=\"text/css\" >\n",
       "#T_589df_row0_col1{\n",
       "            background-color:  #b3c3de;\n",
       "            color:  #000000;\n",
       "        }#T_589df_row1_col1{\n",
       "            background-color:  #1278b4;\n",
       "            color:  #f1f1f1;\n",
       "        }#T_589df_row2_col1{\n",
       "            background-color:  #034973;\n",
       "            color:  #f1f1f1;\n",
       "        }#T_589df_row3_col1{\n",
       "            background-color:  #023858;\n",
       "            color:  #f1f1f1;\n",
       "        }#T_589df_row4_col1{\n",
       "            background-color:  #034d79;\n",
       "            color:  #f1f1f1;\n",
       "        }#T_589df_row5_col1{\n",
       "            background-color:  #2182b9;\n",
       "            color:  #000000;\n",
       "        }#T_589df_row6_col1{\n",
       "            background-color:  #63a2cb;\n",
       "            color:  #000000;\n",
       "        }#T_589df_row7_col1{\n",
       "            background-color:  #4a98c5;\n",
       "            color:  #000000;\n",
       "        }#T_589df_row8_col1,#T_589df_row11_col1{\n",
       "            background-color:  #6da6cd;\n",
       "            color:  #000000;\n",
       "        }#T_589df_row9_col1{\n",
       "            background-color:  #79abd0;\n",
       "            color:  #000000;\n",
       "        }#T_589df_row10_col1{\n",
       "            background-color:  #bdc8e1;\n",
       "            color:  #000000;\n",
       "        }#T_589df_row12_col1{\n",
       "            background-color:  #abbfdc;\n",
       "            color:  #000000;\n",
       "        }#T_589df_row13_col1{\n",
       "            background-color:  #a2bcda;\n",
       "            color:  #000000;\n",
       "        }#T_589df_row14_col1{\n",
       "            background-color:  #e3e0ee;\n",
       "            color:  #000000;\n",
       "        }#T_589df_row15_col1{\n",
       "            background-color:  #dedcec;\n",
       "            color:  #000000;\n",
       "        }#T_589df_row16_col1{\n",
       "            background-color:  #f8f1f8;\n",
       "            color:  #000000;\n",
       "        }#T_589df_row17_col1,#T_589df_row18_col1{\n",
       "            background-color:  #faf2f8;\n",
       "            color:  #000000;\n",
       "        }#T_589df_row19_col1{\n",
       "            background-color:  #fff7fb;\n",
       "            color:  #000000;\n",
       "        }</style><table id=\"T_589df_\" ><thead>    <tr>        <th class=\"blank level0\" ></th>        <th class=\"col_heading level0 col0\" >balance</th>        <th class=\"col_heading level0 col1\" >churn</th>    </tr></thead><tbody>\n",
       "                <tr>\n",
       "                        <th id=\"T_589df_level0_row0\" class=\"row_heading level0 row0\" >0</th>\n",
       "                        <td id=\"T_589df_row0_col0\" class=\"data row0 col0\" >(-0.001, 100000.0]</td>\n",
       "                        <td id=\"T_589df_row0_col1\" class=\"data row0 col1\" >4.05</td>\n",
       "            </tr>\n",
       "            <tr>\n",
       "                        <th id=\"T_589df_level0_row1\" class=\"row_heading level0 row1\" >1</th>\n",
       "                        <td id=\"T_589df_row1_col0\" class=\"data row1 col0\" >(100000.0, 200000.0]</td>\n",
       "                        <td id=\"T_589df_row1_col1\" class=\"data row1 col1\" >7.66</td>\n",
       "            </tr>\n",
       "            <tr>\n",
       "                        <th id=\"T_589df_level0_row2\" class=\"row_heading level0 row2\" >2</th>\n",
       "                        <td id=\"T_589df_row2_col0\" class=\"data row2 col0\" >(200000.0, 300000.0]</td>\n",
       "                        <td id=\"T_589df_row2_col1\" class=\"data row2 col1\" >9.76</td>\n",
       "            </tr>\n",
       "            <tr>\n",
       "                        <th id=\"T_589df_level0_row3\" class=\"row_heading level0 row3\" >3</th>\n",
       "                        <td id=\"T_589df_row3_col0\" class=\"data row3 col0\" >(300000.0, 400000.0]</td>\n",
       "                        <td id=\"T_589df_row3_col1\" class=\"data row3 col1\" >10.36</td>\n",
       "            </tr>\n",
       "            <tr>\n",
       "                        <th id=\"T_589df_level0_row4\" class=\"row_heading level0 row4\" >4</th>\n",
       "                        <td id=\"T_589df_row4_col0\" class=\"data row4 col0\" >(400000.0, 500000.0]</td>\n",
       "                        <td id=\"T_589df_row4_col1\" class=\"data row4 col1\" >9.61</td>\n",
       "            </tr>\n",
       "            <tr>\n",
       "                        <th id=\"T_589df_level0_row5\" class=\"row_heading level0 row5\" >5</th>\n",
       "                        <td id=\"T_589df_row5_col0\" class=\"data row5 col0\" >(500000.0, 600000.0]</td>\n",
       "                        <td id=\"T_589df_row5_col1\" class=\"data row5 col1\" >7.28</td>\n",
       "            </tr>\n",
       "            <tr>\n",
       "                        <th id=\"T_589df_level0_row6\" class=\"row_heading level0 row6\" >6</th>\n",
       "                        <td id=\"T_589df_row6_col0\" class=\"data row6 col0\" >(600000.0, 700000.0]</td>\n",
       "                        <td id=\"T_589df_row6_col1\" class=\"data row6 col1\" >5.93</td>\n",
       "            </tr>\n",
       "            <tr>\n",
       "                        <th id=\"T_589df_level0_row7\" class=\"row_heading level0 row7\" >7</th>\n",
       "                        <td id=\"T_589df_row7_col0\" class=\"data row7 col0\" >(700000.0, 800000.0]</td>\n",
       "                        <td id=\"T_589df_row7_col1\" class=\"data row7 col1\" >6.38</td>\n",
       "            </tr>\n",
       "            <tr>\n",
       "                        <th id=\"T_589df_level0_row8\" class=\"row_heading level0 row8\" >8</th>\n",
       "                        <td id=\"T_589df_row8_col0\" class=\"data row8 col0\" >(800000.0, 900000.0]</td>\n",
       "                        <td id=\"T_589df_row8_col1\" class=\"data row8 col1\" >5.71</td>\n",
       "            </tr>\n",
       "            <tr>\n",
       "                        <th id=\"T_589df_level0_row9\" class=\"row_heading level0 row9\" >9</th>\n",
       "                        <td id=\"T_589df_row9_col0\" class=\"data row9 col0\" >(900000.0, 1000000.0]</td>\n",
       "                        <td id=\"T_589df_row9_col1\" class=\"data row9 col1\" >5.48</td>\n",
       "            </tr>\n",
       "            <tr>\n",
       "                        <th id=\"T_589df_level0_row10\" class=\"row_heading level0 row10\" >10</th>\n",
       "                        <td id=\"T_589df_row10_col0\" class=\"data row10 col0\" >(1000000.0, 1100000.0]</td>\n",
       "                        <td id=\"T_589df_row10_col1\" class=\"data row10 col1\" >3.75</td>\n",
       "            </tr>\n",
       "            <tr>\n",
       "                        <th id=\"T_589df_level0_row11\" class=\"row_heading level0 row11\" >11</th>\n",
       "                        <td id=\"T_589df_row11_col0\" class=\"data row11 col0\" >(1100000.0, 1200000.0]</td>\n",
       "                        <td id=\"T_589df_row11_col1\" class=\"data row11 col1\" >5.71</td>\n",
       "            </tr>\n",
       "            <tr>\n",
       "                        <th id=\"T_589df_level0_row12\" class=\"row_heading level0 row12\" >12</th>\n",
       "                        <td id=\"T_589df_row12_col0\" class=\"data row12 col0\" >(1200000.0, 1300000.0]</td>\n",
       "                        <td id=\"T_589df_row12_col1\" class=\"data row12 col1\" >4.28</td>\n",
       "            </tr>\n",
       "            <tr>\n",
       "                        <th id=\"T_589df_level0_row13\" class=\"row_heading level0 row13\" >13</th>\n",
       "                        <td id=\"T_589df_row13_col0\" class=\"data row13 col0\" >(1300000.0, 1400000.0]</td>\n",
       "                        <td id=\"T_589df_row13_col1\" class=\"data row13 col1\" >4.50</td>\n",
       "            </tr>\n",
       "            <tr>\n",
       "                        <th id=\"T_589df_level0_row14\" class=\"row_heading level0 row14\" >14</th>\n",
       "                        <td id=\"T_589df_row14_col0\" class=\"data row14 col0\" >(1400000.0, 1500000.0]</td>\n",
       "                        <td id=\"T_589df_row14_col1\" class=\"data row14 col1\" >2.40</td>\n",
       "            </tr>\n",
       "            <tr>\n",
       "                        <th id=\"T_589df_level0_row15\" class=\"row_heading level0 row15\" >15</th>\n",
       "                        <td id=\"T_589df_row15_col0\" class=\"data row15 col0\" >(1500000.0, 1600000.0]</td>\n",
       "                        <td id=\"T_589df_row15_col1\" class=\"data row15 col1\" >2.63</td>\n",
       "            </tr>\n",
       "            <tr>\n",
       "                        <th id=\"T_589df_level0_row16\" class=\"row_heading level0 row16\" >16</th>\n",
       "                        <td id=\"T_589df_row16_col0\" class=\"data row16 col0\" >(1600000.0, 1700000.0]</td>\n",
       "                        <td id=\"T_589df_row16_col1\" class=\"data row16 col1\" >1.28</td>\n",
       "            </tr>\n",
       "            <tr>\n",
       "                        <th id=\"T_589df_level0_row17\" class=\"row_heading level0 row17\" >17</th>\n",
       "                        <td id=\"T_589df_row17_col0\" class=\"data row17 col0\" >(1700000.0, 1800000.0]</td>\n",
       "                        <td id=\"T_589df_row17_col1\" class=\"data row17 col1\" >1.20</td>\n",
       "            </tr>\n",
       "            <tr>\n",
       "                        <th id=\"T_589df_level0_row18\" class=\"row_heading level0 row18\" >18</th>\n",
       "                        <td id=\"T_589df_row18_col0\" class=\"data row18 col0\" >(1800000.0, 1900000.0]</td>\n",
       "                        <td id=\"T_589df_row18_col1\" class=\"data row18 col1\" >1.20</td>\n",
       "            </tr>\n",
       "            <tr>\n",
       "                        <th id=\"T_589df_level0_row19\" class=\"row_heading level0 row19\" >19</th>\n",
       "                        <td id=\"T_589df_row19_col0\" class=\"data row19 col0\" >(1900000.0, 2000000.0]</td>\n",
       "                        <td id=\"T_589df_row19_col1\" class=\"data row19 col1\" >0.83</td>\n",
       "            </tr>\n",
       "    </tbody></table>"
      ],
      "text/plain": [
       "<pandas.io.formats.style.Styler at 0x1bc101a3a00>"
      ]
     },
     "execution_count": 56,
     "metadata": {},
     "output_type": "execute_result"
    }
   ],
   "source": [
    "#сводная таблица распределения баланса по диапазонам бывших клиентов\n",
    "bins = []\n",
    "bins.append(0)\n",
    "for i in range(100000, round((df_filtered[~df_filtered['balance'].isna()]['balance'].max()+100000)/100000)*100000, 100000):\n",
    "    bins.append(i)\n",
    "df_filtered['temp'] = pd.cut(df_filtered[~df_filtered['balance'].isna()]['balance'], bins = bins, include_lowest=True)\n",
    "pt = df_filtered[df_filtered['churn']==1].groupby('temp', as_index = False)['user_id'].count().rename(columns ={'temp':'balance','user_id':'churn'})\n",
    "pt['churn']=round(pt['churn']/pt['churn'].sum()*100,2)\n",
    "pt.style.background_gradient(subset = ['churn'], axis=None).format({'churn':\"{:.2f}\"})"
   ]
  },
  {
   "cell_type": "code",
   "execution_count": 57,
   "id": "f666c545",
   "metadata": {},
   "outputs": [
    {
     "data": {
      "image/png": "[encoded data removed]",
      "text/plain": [
       "<Figure size 640x480 with 1 Axes>"
      ]
     },
     "metadata": {},
     "output_type": "display_data"
    }
   ],
   "source": [
    "# график плотности распределения баланса бывших и текущих клиентов\n",
    "sns.histplot(data=df_filtered[~df_filtered['balance'].isna()], x='balance', hue='churn', stat='density', common_norm=False);\n",
    "plt.title('Плотность распределения баланса')\n",
    "plt.xlabel('Баланс')\n",
    "plt.ylabel('Плотность распредения')\n",
    "plt.legend(title = '', labels = ['Бывшие клиенты','Текущие клиенты']);"
   ]
  },
  {
   "cell_type": "code",
   "execution_count": 58,
   "id": "13da2ec2",
   "metadata": {},
   "outputs": [
    {
     "name": "stdout",
     "output_type": "stream",
     "text": [
      "Среднее значение баланса бывших клиентов: 719455.87\n",
      "Среднее значение баланса текущих клиентов: 568483.55\n",
      "Относительная разница: 0.27\n"
     ]
    }
   ],
   "source": [
    "print(f\"Среднее значение баланса бывших клиентов: {df_filtered[(~df_filtered['balance'].isna())&(df_filtered['churn']==1)]['balance'].mean():.2f}\")\n",
    "print(f\"Среднее значение баланса текущих клиентов: {df_filtered[(~df_filtered['balance'].isna())&(df_filtered['churn']==0)]['balance'].mean():.2f}\")\n",
    "print(f\"Относительная разница: {df_filtered[(~df_filtered['balance'].isna())&(df_filtered['churn']==1)]['balance'].mean()/df_filtered[(~df_filtered['balance'].isna())&(df_filtered['churn']==0)]['balance'].mean()-1:.2f}\")"
   ]
  },
  {
   "cell_type": "markdown",
   "id": "3d52de22",
   "metadata": {},
   "source": [
    "Баланс бывших клиентов значительно выше баланса текущих клиентов - на 27 процентов. Пиковые значения плотностей бывших и текущих клиентов совпадают. Однако после 750000 плотность распределения бывших клиентов выше плотности распределения текущих клиентов."
   ]
  },
  {
   "cell_type": "code",
   "execution_count": 59,
   "id": "079c1122",
   "metadata": {},
   "outputs": [],
   "source": [
    "# добавление информации в портрет\n",
    "def_portrait('Среднее balance',\n",
    "         round(df_filtered[(~df_filtered['balance'].isna())&(df_filtered['churn']==1)]['balance'].mean(), 2),\n",
    "         round(df_filtered[(~df_filtered['balance'].isna())&(df_filtered['churn']==0)]['balance'].mean(), 2),\n",
    "         round((df_filtered[(~df_filtered['balance'].isna())&(df_filtered['churn']==1)]['balance'].mean()/df_filtered[(~df_filtered['balance'].isna())&(df_filtered['churn']==0)]['balance'].mean()-1)*100,2))"
   ]
  },
  {
   "cell_type": "markdown",
   "id": "f56f95d3",
   "metadata": {},
   "source": [
    "#### Анализ по столбцу products  в разрезе оттока"
   ]
  },
  {
   "cell_type": "code",
   "execution_count": 60,
   "id": "f485ca37",
   "metadata": {
    "scrolled": true
   },
   "outputs": [
    {
     "data": {
      "text/html": [
       "<div>\n",
       "<style scoped>\n",
       "    .dataframe tbody tr th:only-of-type {\n",
       "        vertical-align: middle;\n",
       "    }\n",
       "\n",
       "    .dataframe tbody tr th {\n",
       "        vertical-align: top;\n",
       "    }\n",
       "\n",
       "    .dataframe thead th {\n",
       "        text-align: right;\n",
       "    }\n",
       "</style>\n",
       "<table border=\"1\" class=\"dataframe\">\n",
       "  <thead>\n",
       "    <tr style=\"text-align: right;\">\n",
       "      <th></th>\n",
       "      <th>products</th>\n",
       "      <th>ratio</th>\n",
       "    </tr>\n",
       "  </thead>\n",
       "  <tbody>\n",
       "    <tr>\n",
       "      <th>0</th>\n",
       "      <td>1</td>\n",
       "      <td>16.49</td>\n",
       "    </tr>\n",
       "    <tr>\n",
       "      <th>1</th>\n",
       "      <td>2</td>\n",
       "      <td>64.55</td>\n",
       "    </tr>\n",
       "    <tr>\n",
       "      <th>2</th>\n",
       "      <td>3</td>\n",
       "      <td>18.96</td>\n",
       "    </tr>\n",
       "  </tbody>\n",
       "</table>\n",
       "</div>"
      ],
      "text/plain": [
       "   products  ratio\n",
       "0         1  16.49\n",
       "1         2  64.55\n",
       "2         3  18.96"
      ]
     },
     "execution_count": 60,
     "metadata": {},
     "output_type": "execute_result"
    }
   ],
   "source": [
    "#сводная таблица относительного уровня оттока по количеству продуктов\n",
    "pt = df_filtered[df_filtered['churn']==1].groupby('products', as_index=False)['user_id'].count().rename(columns={'user_id':'ratio'})\n",
    "pt['ratio'] = round(pt['ratio']/sum(pt['ratio'])*100,2)\n",
    "pt"
   ]
  },
  {
   "cell_type": "code",
   "execution_count": 61,
   "id": "7ce3212e",
   "metadata": {
    "scrolled": false
   },
   "outputs": [
    {
     "data": {
      "image/png": "[encoded data removed]",
      "text/plain": [
       "<Figure size 640x480 with 1 Axes>"
      ]
     },
     "metadata": {},
     "output_type": "display_data"
    }
   ],
   "source": [
    "#столбчатая диграмма относительного уровня оттока по количеству продуктов\n",
    "\n",
    "sns.barplot(data = pt, x = 'products', y = 'ratio')\n",
    "\n",
    "plt.title('Относительный уровень оттока по количеству продуктов')\n",
    "plt.xlabel('Количество продуктов')\n",
    "plt.ylabel('Уровень оттока, %')\n",
    "plt.axhline(y = churn_level, linestyle = '--', linewidth=0.5, color = 'Black')\n",
    "plt.show();"
   ]
  },
  {
   "cell_type": "code",
   "execution_count": 62,
   "id": "16707d51",
   "metadata": {
    "scrolled": true
   },
   "outputs": [
    {
     "name": "stdout",
     "output_type": "stream",
     "text": [
      "Медиана количества банковских продуктов бывших клиентов: 2.0\n",
      "Медиана количества банковских продуктов текущих клиентов: 2.0\n"
     ]
    }
   ],
   "source": [
    "print('Медиана количества банковских продуктов бывших клиентов:', df_filtered[df_filtered['churn']==1]['products'].median())\n",
    "print('Медиана количества банковских продуктов текущих клиентов:', df_filtered[df_filtered['churn']==1]['products'].median())"
   ]
  },
  {
   "cell_type": "markdown",
   "id": "273e8c94",
   "metadata": {},
   "source": [
    "Медиана количества банковских продуктов для бывших и текущих клиентов равна. 65% бывших клиентов имели 2 продукта и примерно равный процент 1 и 3 продуктов, близкий к среднему уровню оттока по банку.    "
   ]
  },
  {
   "cell_type": "code",
   "execution_count": 63,
   "id": "8c3bba90",
   "metadata": {},
   "outputs": [],
   "source": [
    "# добавление информации в портрет\n",
    "def_portrait('Медиана products',\n",
    "         round(df_filtered[df_filtered['churn']==1]['products'].median(), 0),\n",
    "         round(df_filtered[df_filtered['churn']==0]['products'].median(), 0),\n",
    "         '-')"
   ]
  },
  {
   "cell_type": "markdown",
   "id": "41b5c296",
   "metadata": {},
   "source": [
    "#### Анализ по столбцу credit_card  в разрезе оттока\n"
   ]
  },
  {
   "cell_type": "code",
   "execution_count": 64,
   "id": "035eac85",
   "metadata": {
    "scrolled": true
   },
   "outputs": [
    {
     "data": {
      "text/html": [
       "<div>\n",
       "<style scoped>\n",
       "    .dataframe tbody tr th:only-of-type {\n",
       "        vertical-align: middle;\n",
       "    }\n",
       "\n",
       "    .dataframe tbody tr th {\n",
       "        vertical-align: top;\n",
       "    }\n",
       "\n",
       "    .dataframe thead th {\n",
       "        text-align: right;\n",
       "    }\n",
       "</style>\n",
       "<table border=\"1\" class=\"dataframe\">\n",
       "  <thead>\n",
       "    <tr style=\"text-align: right;\">\n",
       "      <th></th>\n",
       "      <th>credit_card</th>\n",
       "      <th>ratio</th>\n",
       "    </tr>\n",
       "  </thead>\n",
       "  <tbody>\n",
       "    <tr>\n",
       "      <th>0</th>\n",
       "      <td>0</td>\n",
       "      <td>46.64</td>\n",
       "    </tr>\n",
       "    <tr>\n",
       "      <th>1</th>\n",
       "      <td>1</td>\n",
       "      <td>53.36</td>\n",
       "    </tr>\n",
       "  </tbody>\n",
       "</table>\n",
       "</div>"
      ],
      "text/plain": [
       "   credit_card  ratio\n",
       "0            0  46.64\n",
       "1            1  53.36"
      ]
     },
     "execution_count": 64,
     "metadata": {},
     "output_type": "execute_result"
    }
   ],
   "source": [
    "#сводная таблица относительного уровня оттока по наличию кредитной карты\n",
    "pt = df_filtered[df_filtered['churn']==1].groupby('credit_card', as_index=False)['user_id'].count().rename(columns={'user_id':'ratio'})\n",
    "pt['ratio'] = round(pt['ratio']/sum(pt['ratio'])*100,2)\n",
    "pt"
   ]
  },
  {
   "cell_type": "code",
   "execution_count": 65,
   "id": "f45d61c4",
   "metadata": {
    "scrolled": false
   },
   "outputs": [
    {
     "data": {
      "image/png": "[encoded data removed]",
      "text/plain": [
       "<Figure size 640x480 with 1 Axes>"
      ]
     },
     "metadata": {},
     "output_type": "display_data"
    }
   ],
   "source": [
    "#столбчатая диграмма относительного уровня оттока по наличию кредитной карты\n",
    "\n",
    "sns.barplot(data = pt, x = 'credit_card', y = 'ratio')\n",
    "\n",
    "plt.title('Относительный уровень оттока по наличию кредитной карты')\n",
    "plt.xlabel('')\n",
    "plt.ylabel('Уровень оттока, %')\n",
    "plt.axhline(y = churn_level, linestyle = '--', linewidth=0.5, color = 'Black')\n",
    "plt.xticks([0,1], ['Нет кредитной карты','Есть кредитная карта'])\n",
    "plt.show();"
   ]
  },
  {
   "cell_type": "code",
   "execution_count": 66,
   "id": "9e90fc43",
   "metadata": {
    "scrolled": true
   },
   "outputs": [
    {
     "name": "stdout",
     "output_type": "stream",
     "text": [
      "Медиана наличия кредитной карты у бывших клиентов: 1.0\n",
      "Медиана наличия кредитной карты у текущих клиентов: 1.0\n"
     ]
    }
   ],
   "source": [
    "print('Медиана наличия кредитной карты у бывших клиентов:', df_filtered[df_filtered['churn']==1]['credit_card'].median())\n",
    "print('Медиана наличия кредитной карты у текущих клиентов:', df_filtered[df_filtered['churn']==1]['credit_card'].median())"
   ]
  },
  {
   "cell_type": "markdown",
   "id": "1c1a114c",
   "metadata": {},
   "source": [
    "Медиана наличия кредитной карты и у бывших, и у текущих клиентов равно. Бывшие примерно пополам поделились по признаку наличия кредитной карты, с небольшим перевесом в пользу наличия."
   ]
  },
  {
   "cell_type": "code",
   "execution_count": 67,
   "id": "d41a35ac",
   "metadata": {},
   "outputs": [],
   "source": [
    "# добавление информации в портрет\n",
    "def_portrait('Медиана credit_card',\n",
    "         round(df_filtered[df_filtered['churn']==1]['credit_card'].median(), 0),\n",
    "         round(df_filtered[df_filtered['churn']==0]['credit_card'].median(), 0),\n",
    "         '-')"
   ]
  },
  {
   "cell_type": "markdown",
   "id": "8acb7cd3",
   "metadata": {},
   "source": [
    "#### Анализ по столбцу last_activity  в разрезе оттока\n"
   ]
  },
  {
   "cell_type": "code",
   "execution_count": 68,
   "id": "e1f3306f",
   "metadata": {
    "scrolled": true
   },
   "outputs": [
    {
     "data": {
      "text/html": [
       "<div>\n",
       "<style scoped>\n",
       "    .dataframe tbody tr th:only-of-type {\n",
       "        vertical-align: middle;\n",
       "    }\n",
       "\n",
       "    .dataframe tbody tr th {\n",
       "        vertical-align: top;\n",
       "    }\n",
       "\n",
       "    .dataframe thead th {\n",
       "        text-align: right;\n",
       "    }\n",
       "</style>\n",
       "<table border=\"1\" class=\"dataframe\">\n",
       "  <thead>\n",
       "    <tr style=\"text-align: right;\">\n",
       "      <th></th>\n",
       "      <th>last_activity</th>\n",
       "      <th>ratio</th>\n",
       "    </tr>\n",
       "  </thead>\n",
       "  <tbody>\n",
       "    <tr>\n",
       "      <th>0</th>\n",
       "      <td>0</td>\n",
       "      <td>30.15</td>\n",
       "    </tr>\n",
       "    <tr>\n",
       "      <th>1</th>\n",
       "      <td>1</td>\n",
       "      <td>69.85</td>\n",
       "    </tr>\n",
       "  </tbody>\n",
       "</table>\n",
       "</div>"
      ],
      "text/plain": [
       "   last_activity  ratio\n",
       "0              0  30.15\n",
       "1              1  69.85"
      ]
     },
     "execution_count": 68,
     "metadata": {},
     "output_type": "execute_result"
    }
   ],
   "source": [
    "#сводная таблица относительного уровня оттока по активности\n",
    "pt = df_filtered[df_filtered['churn']==1].groupby('last_activity', as_index=False)['user_id'].count().rename(columns={'user_id':'ratio'})\n",
    "pt['ratio'] = round(pt['ratio']/sum(pt['ratio'])*100,2)\n",
    "pt"
   ]
  },
  {
   "cell_type": "code",
   "execution_count": 69,
   "id": "ae601b0e",
   "metadata": {
    "scrolled": false
   },
   "outputs": [
    {
     "data": {
      "image/png": "[encoded data removed]",
      "text/plain": [
       "<Figure size 640x480 with 1 Axes>"
      ]
     },
     "metadata": {},
     "output_type": "display_data"
    }
   ],
   "source": [
    "#столбчатая диграмма относительного уровня оттока по активности\n",
    "\n",
    "sns.barplot(data = pt, x = 'last_activity', y = 'ratio')\n",
    "\n",
    "plt.title('Относительнйы уровень оттока по активности')\n",
    "plt.xlabel('')\n",
    "plt.ylabel('Уровень оттока, %')\n",
    "plt.axhline(y = churn_level, linestyle = '--', linewidth=0.5, color = 'Black')\n",
    "plt.xticks([0,1], ['Неактивный','Активный'])\n",
    "plt.show();"
   ]
  },
  {
   "cell_type": "code",
   "execution_count": 70,
   "id": "cae51742",
   "metadata": {
    "scrolled": true
   },
   "outputs": [
    {
     "name": "stdout",
     "output_type": "stream",
     "text": [
      "Медиана активности бывших клиентов: 1.0\n",
      "Медиана активности текущих клиентов: 1.0\n"
     ]
    }
   ],
   "source": [
    "print('Медиана активности бывших клиентов:', df_filtered[df_filtered['churn']==1]['last_activity'].median())\n",
    "print('Медиана активности текущих клиентов:', df_filtered[df_filtered['churn']==1]['last_activity'].median())"
   ]
  },
  {
   "cell_type": "markdown",
   "id": "45ef1a5b",
   "metadata": {},
   "source": [
    "Медина активности бывших и текущих клиентов равна. Большинство бывших пользователей являлись активными. Однако точно неизвестна \"природа\" активности. Возможно это всего лишь снятие средств и закрытие счетом перед уходом из банка."
   ]
  },
  {
   "cell_type": "code",
   "execution_count": 71,
   "id": "6d08da7e",
   "metadata": {},
   "outputs": [],
   "source": [
    "# добавление информации в портрет\n",
    "def_portrait('Медиана last_activity',\n",
    "         round(df_filtered[df_filtered['churn']==1]['last_activity'].median(), 0),\n",
    "         round(df_filtered[df_filtered['churn']==0]['last_activity'].median(), 0),\n",
    "         '-')"
   ]
  },
  {
   "cell_type": "markdown",
   "id": "b8817233",
   "metadata": {},
   "source": [
    "#### Анализ по столбцу est_salary"
   ]
  },
  {
   "cell_type": "code",
   "execution_count": 72,
   "id": "cd7ed8d5",
   "metadata": {},
   "outputs": [
    {
     "data": {
      "text/html": [
       "<style  type=\"text/css\" >\n",
       "#T_ddbad_row0_col1{\n",
       "            background-color:  #fff7fb;\n",
       "            color:  #000000;\n",
       "        }#T_ddbad_row1_col1{\n",
       "            background-color:  #c1cae2;\n",
       "            color:  #000000;\n",
       "        }#T_ddbad_row2_col1{\n",
       "            background-color:  #2182b9;\n",
       "            color:  #000000;\n",
       "        }#T_ddbad_row3_col1{\n",
       "            background-color:  #045f95;\n",
       "            color:  #f1f1f1;\n",
       "        }#T_ddbad_row4_col1{\n",
       "            background-color:  #03446a;\n",
       "            color:  #f1f1f1;\n",
       "        }#T_ddbad_row5_col1{\n",
       "            background-color:  #023858;\n",
       "            color:  #f1f1f1;\n",
       "        }#T_ddbad_row6_col1{\n",
       "            background-color:  #1379b5;\n",
       "            color:  #f1f1f1;\n",
       "        }#T_ddbad_row7_col1{\n",
       "            background-color:  #3991c1;\n",
       "            color:  #000000;\n",
       "        }#T_ddbad_row8_col1{\n",
       "            background-color:  #bcc7e1;\n",
       "            color:  #000000;\n",
       "        }#T_ddbad_row9_col1{\n",
       "            background-color:  #dad9ea;\n",
       "            color:  #000000;\n",
       "        }#T_ddbad_row10_col1{\n",
       "            background-color:  #f0eaf4;\n",
       "            color:  #000000;\n",
       "        }#T_ddbad_row11_col1{\n",
       "            background-color:  #f3edf5;\n",
       "            color:  #000000;\n",
       "        }#T_ddbad_row12_col1{\n",
       "            background-color:  #faf3f9;\n",
       "            color:  #000000;\n",
       "        }#T_ddbad_row13_col1{\n",
       "            background-color:  #fef6fa;\n",
       "            color:  #000000;\n",
       "        }</style><table id=\"T_ddbad_\" ><thead>    <tr>        <th class=\"blank level0\" ></th>        <th class=\"col_heading level0 col0\" >est_salary</th>        <th class=\"col_heading level0 col1\" >churn</th>    </tr></thead><tbody>\n",
       "                <tr>\n",
       "                        <th id=\"T_ddbad_level0_row0\" class=\"row_heading level0 row0\" >0</th>\n",
       "                        <td id=\"T_ddbad_row0_col0\" class=\"data row0 col0\" >(-0.001, 10000.0]</td>\n",
       "                        <td id=\"T_ddbad_row0_col1\" class=\"data row0 col1\" >0.00</td>\n",
       "            </tr>\n",
       "            <tr>\n",
       "                        <th id=\"T_ddbad_level0_row1\" class=\"row_heading level0 row1\" >1</th>\n",
       "                        <td id=\"T_ddbad_row1_col0\" class=\"data row1 col0\" >(10000.0, 35000.0]</td>\n",
       "                        <td id=\"T_ddbad_row1_col1\" class=\"data row1 col1\" >5.07</td>\n",
       "            </tr>\n",
       "            <tr>\n",
       "                        <th id=\"T_ddbad_level0_row2\" class=\"row_heading level0 row2\" >2</th>\n",
       "                        <td id=\"T_ddbad_row2_col0\" class=\"data row2 col0\" >(35000.0, 60000.0]</td>\n",
       "                        <td id=\"T_ddbad_row2_col1\" class=\"data row2 col1\" >11.57</td>\n",
       "            </tr>\n",
       "            <tr>\n",
       "                        <th id=\"T_ddbad_level0_row3\" class=\"row_heading level0 row3\" >3</th>\n",
       "                        <td id=\"T_ddbad_row3_col0\" class=\"data row3 col0\" >(60000.0, 85000.0]</td>\n",
       "                        <td id=\"T_ddbad_row3_col1\" class=\"data row3 col1\" >14.48</td>\n",
       "            </tr>\n",
       "            <tr>\n",
       "                        <th id=\"T_ddbad_level0_row4\" class=\"row_heading level0 row4\" >4</th>\n",
       "                        <td id=\"T_ddbad_row4_col0\" class=\"data row4 col0\" >(85000.0, 110000.0]</td>\n",
       "                        <td id=\"T_ddbad_row4_col1\" class=\"data row4 col1\" >16.34</td>\n",
       "            </tr>\n",
       "            <tr>\n",
       "                        <th id=\"T_ddbad_level0_row5\" class=\"row_heading level0 row5\" >5</th>\n",
       "                        <td id=\"T_ddbad_row5_col0\" class=\"data row5 col0\" >(110000.0, 135000.0]</td>\n",
       "                        <td id=\"T_ddbad_row5_col1\" class=\"data row5 col1\" >17.09</td>\n",
       "            </tr>\n",
       "            <tr>\n",
       "                        <th id=\"T_ddbad_level0_row6\" class=\"row_heading level0 row6\" >6</th>\n",
       "                        <td id=\"T_ddbad_row6_col0\" class=\"data row6 col0\" >(135000.0, 160000.0]</td>\n",
       "                        <td id=\"T_ddbad_row6_col1\" class=\"data row6 col1\" >12.16</td>\n",
       "            </tr>\n",
       "            <tr>\n",
       "                        <th id=\"T_ddbad_level0_row7\" class=\"row_heading level0 row7\" >7</th>\n",
       "                        <td id=\"T_ddbad_row7_col0\" class=\"data row7 col0\" >(160000.0, 185000.0]</td>\n",
       "                        <td id=\"T_ddbad_row7_col1\" class=\"data row7 col1\" >10.60</td>\n",
       "            </tr>\n",
       "            <tr>\n",
       "                        <th id=\"T_ddbad_level0_row8\" class=\"row_heading level0 row8\" >8</th>\n",
       "                        <td id=\"T_ddbad_row8_col0\" class=\"data row8 col0\" >(185000.0, 210000.0]</td>\n",
       "                        <td id=\"T_ddbad_row8_col1\" class=\"data row8 col1\" >5.30</td>\n",
       "            </tr>\n",
       "            <tr>\n",
       "                        <th id=\"T_ddbad_level0_row9\" class=\"row_heading level0 row9\" >9</th>\n",
       "                        <td id=\"T_ddbad_row9_col0\" class=\"data row9 col0\" >(210000.0, 235000.0]</td>\n",
       "                        <td id=\"T_ddbad_row9_col1\" class=\"data row9 col1\" >3.51</td>\n",
       "            </tr>\n",
       "            <tr>\n",
       "                        <th id=\"T_ddbad_level0_row10\" class=\"row_heading level0 row10\" >10</th>\n",
       "                        <td id=\"T_ddbad_row10_col0\" class=\"data row10 col0\" >(235000.0, 260000.0]</td>\n",
       "                        <td id=\"T_ddbad_row10_col1\" class=\"data row10 col1\" >1.79</td>\n",
       "            </tr>\n",
       "            <tr>\n",
       "                        <th id=\"T_ddbad_level0_row11\" class=\"row_heading level0 row11\" >11</th>\n",
       "                        <td id=\"T_ddbad_row11_col0\" class=\"data row11 col0\" >(260000.0, 285000.0]</td>\n",
       "                        <td id=\"T_ddbad_row11_col1\" class=\"data row11 col1\" >1.34</td>\n",
       "            </tr>\n",
       "            <tr>\n",
       "                        <th id=\"T_ddbad_level0_row12\" class=\"row_heading level0 row12\" >12</th>\n",
       "                        <td id=\"T_ddbad_row12_col0\" class=\"data row12 col0\" >(285000.0, 310000.0]</td>\n",
       "                        <td id=\"T_ddbad_row12_col1\" class=\"data row12 col1\" >0.60</td>\n",
       "            </tr>\n",
       "            <tr>\n",
       "                        <th id=\"T_ddbad_level0_row13\" class=\"row_heading level0 row13\" >13</th>\n",
       "                        <td id=\"T_ddbad_row13_col0\" class=\"data row13 col0\" >(310000.0, 335000.0]</td>\n",
       "                        <td id=\"T_ddbad_row13_col1\" class=\"data row13 col1\" >0.15</td>\n",
       "            </tr>\n",
       "    </tbody></table>"
      ],
      "text/plain": [
       "<pandas.io.formats.style.Styler at 0x1bc0f523730>"
      ]
     },
     "execution_count": 72,
     "metadata": {},
     "output_type": "execute_result"
    }
   ],
   "source": [
    "#сводная таблица распределения заработной платы по диапазонам бывших клиентов\n",
    "bins = []\n",
    "bins.append(0)\n",
    "for i in range(10000, round((df_filtered['est_salary'].max()+25000)/25000)*25000, 25000):\n",
    "    bins.append(i)\n",
    "df_filtered['temp'] = pd.cut(df_filtered['est_salary'], bins = bins, include_lowest=True)\n",
    "pt = df_filtered[df_filtered['churn']==1].groupby('temp', as_index = False)['user_id'].count().rename(columns ={'temp':'est_salary','user_id':'churn'})\n",
    "pt['churn']=round(pt['churn']/pt['churn'].sum()*100,2)\n",
    "pt.style.background_gradient(subset = ['churn'], axis=None).format({'churn':\"{:.2f}\"})"
   ]
  },
  {
   "cell_type": "code",
   "execution_count": 73,
   "id": "eecc33d9",
   "metadata": {},
   "outputs": [
    {
     "data": {
      "image/png": "[encoded data removed]",
      "text/plain": [
       "<Figure size 640x480 with 1 Axes>"
      ]
     },
     "metadata": {},
     "output_type": "display_data"
    }
   ],
   "source": [
    "# график плотности распределения заработной платы бывших и текущих клиентов\n",
    "sns.histplot(data=df_filtered, x='est_salary', hue='churn', stat='density', common_norm=False);\n",
    "plt.title('График плотности распределения заработной платы')\n",
    "plt.xlabel('Заработная плата')\n",
    "plt.ylabel('Плотность распредения')\n",
    "plt.legend(title = '', labels = ['Бывшие клиенты','Текущие клиенты']);"
   ]
  },
  {
   "cell_type": "code",
   "execution_count": 74,
   "id": "fa7bfb6a",
   "metadata": {},
   "outputs": [
    {
     "name": "stdout",
     "output_type": "stream",
     "text": [
      "Среднее значение заработной платы бывших клиентов: 119004.14\n",
      "Среднее значение заработной платы текущих клиентов: 121789.15\n",
      "Относительная разница: -0.02\n"
     ]
    }
   ],
   "source": [
    "print(f\"Среднее значение заработной платы бывших клиентов: {df_filtered[df_filtered['churn']==1]['est_salary'].mean():.2f}\")\n",
    "print(f\"Среднее значение заработной платы текущих клиентов: {df_filtered[df_filtered['churn']==0]['est_salary'].mean():.2f}\")\n",
    "print(f\"Относительная разница: {df_filtered[df_filtered['churn']==1]['est_salary'].mean()/df_filtered[df_filtered['churn']==0]['est_salary'].mean()-1:.2f}\")"
   ]
  },
  {
   "cell_type": "markdown",
   "id": "3e797aa2",
   "metadata": {},
   "source": [
    "Средняя зарплата текущих клиентов незначительно выше средней зарплаты бывших клиентов. На диаграмме плотностей видно, что распределения похожи, однако плотность распределения бывших клиентов выше в диапазоне с 70000 до 130000 с небольшим всплеском 150000-170000."
   ]
  },
  {
   "cell_type": "code",
   "execution_count": 75,
   "id": "942124fa",
   "metadata": {},
   "outputs": [],
   "source": [
    "# добавление информации в портрет\n",
    "def_portrait('Среднее est_salary',\n",
    "         round(df_filtered[df_filtered['churn']==1]['est_salary'].mean(), 2),\n",
    "         round(df_filtered[df_filtered['churn']==0]['est_salary'].mean(), 2),\n",
    "         round((df_filtered[df_filtered['churn']==1]['est_salary'].mean()/df_filtered[df_filtered['churn']==0]['est_salary'].mean()-1)*100,2))"
   ]
  },
  {
   "cell_type": "markdown",
   "id": "1df63037",
   "metadata": {},
   "source": [
    "### Портрет клиента"
   ]
  },
  {
   "cell_type": "code",
   "execution_count": 76,
   "id": "57088eed",
   "metadata": {},
   "outputs": [
    {
     "data": {
      "text/html": [
       "<div>\n",
       "<style scoped>\n",
       "    .dataframe tbody tr th:only-of-type {\n",
       "        vertical-align: middle;\n",
       "    }\n",
       "\n",
       "    .dataframe tbody tr th {\n",
       "        vertical-align: top;\n",
       "    }\n",
       "\n",
       "    .dataframe thead th {\n",
       "        text-align: right;\n",
       "    }\n",
       "</style>\n",
       "<table border=\"1\" class=\"dataframe\">\n",
       "  <thead>\n",
       "    <tr style=\"text-align: right;\">\n",
       "      <th></th>\n",
       "      <th>param</th>\n",
       "      <th>churn</th>\n",
       "      <th>non_churn</th>\n",
       "      <th>diff</th>\n",
       "    </tr>\n",
       "  </thead>\n",
       "  <tbody>\n",
       "    <tr>\n",
       "      <th>0</th>\n",
       "      <td>Среднее score</td>\n",
       "      <td>852.44</td>\n",
       "      <td>842.89</td>\n",
       "      <td>1.13</td>\n",
       "    </tr>\n",
       "    <tr>\n",
       "      <th>9</th>\n",
       "      <td>Среднее est_salary</td>\n",
       "      <td>119004.14</td>\n",
       "      <td>121789.15</td>\n",
       "      <td>-2.29</td>\n",
       "    </tr>\n",
       "    <tr>\n",
       "      <th>5</th>\n",
       "      <td>Среднее balance</td>\n",
       "      <td>719455.87</td>\n",
       "      <td>568483.55</td>\n",
       "      <td>26.56</td>\n",
       "    </tr>\n",
       "    <tr>\n",
       "      <th>3</th>\n",
       "      <td>Среднее age</td>\n",
       "      <td>41.0</td>\n",
       "      <td>43.0</td>\n",
       "      <td>-3.48</td>\n",
       "    </tr>\n",
       "    <tr>\n",
       "      <th>2</th>\n",
       "      <td>Мода gender</td>\n",
       "      <td>М</td>\n",
       "      <td>Ж</td>\n",
       "      <td>-</td>\n",
       "    </tr>\n",
       "    <tr>\n",
       "      <th>1</th>\n",
       "      <td>Мода city</td>\n",
       "      <td>Ярославль</td>\n",
       "      <td>Ярославль</td>\n",
       "      <td>-</td>\n",
       "    </tr>\n",
       "    <tr>\n",
       "      <th>6</th>\n",
       "      <td>Медиана products</td>\n",
       "      <td>2.0</td>\n",
       "      <td>2.0</td>\n",
       "      <td>-</td>\n",
       "    </tr>\n",
       "    <tr>\n",
       "      <th>8</th>\n",
       "      <td>Медиана last_activity</td>\n",
       "      <td>1.0</td>\n",
       "      <td>0.0</td>\n",
       "      <td>-</td>\n",
       "    </tr>\n",
       "    <tr>\n",
       "      <th>4</th>\n",
       "      <td>Медиана equity</td>\n",
       "      <td>4.0</td>\n",
       "      <td>3.0</td>\n",
       "      <td>-</td>\n",
       "    </tr>\n",
       "    <tr>\n",
       "      <th>7</th>\n",
       "      <td>Медиана credit_card</td>\n",
       "      <td>1.0</td>\n",
       "      <td>1.0</td>\n",
       "      <td>-</td>\n",
       "    </tr>\n",
       "  </tbody>\n",
       "</table>\n",
       "</div>"
      ],
      "text/plain": [
       "                   param      churn  non_churn   diff\n",
       "0          Среднее score     852.44     842.89   1.13\n",
       "9     Среднее est_salary  119004.14  121789.15  -2.29\n",
       "5        Среднее balance  719455.87  568483.55  26.56\n",
       "3            Среднее age       41.0       43.0  -3.48\n",
       "2            Мода gender          М          Ж      -\n",
       "1              Мода city  Ярославль  Ярославль      -\n",
       "6       Медиана products        2.0        2.0      -\n",
       "8  Медиана last_activity        1.0        0.0      -\n",
       "4         Медиана equity        4.0        3.0      -\n",
       "7    Медиана credit_card        1.0        1.0      -"
      ]
     },
     "execution_count": 76,
     "metadata": {},
     "output_type": "execute_result"
    }
   ],
   "source": [
    "portrait.sort_values('param', ascending = False)"
   ]
  },
  {
   "cell_type": "markdown",
   "id": "0028b398",
   "metadata": {},
   "source": [
    "Из сводной таблицы портрета видно, что:\n",
    "- сильно отличаются параметры:\n",
    "    - balance\n",
    "    - gender\n",
    "- отличаются незначительно:\n",
    "    - score\n",
    "    - est_salary\n",
    "    - age\n",
    "    - last_activity\n",
    "    - equity\n",
    "- не отличают:\n",
    "    - credit_card\n",
    "    - last_activity.\n",
    "    \n",
    "На этапе исследования  выделим balance и gender, как значимые признаки отточности.\n",
    "Остальные признаки (за исключением last_activity) необходимо проверить статистически и рассмотреть корреляцию этих признаков с признаком churn."
   ]
  },
  {
   "cell_type": "markdown",
   "id": "932b6548",
   "metadata": {},
   "source": [
    "## Исследование корреляции"
   ]
  },
  {
   "cell_type": "markdown",
   "id": "dc3ab2a8",
   "metadata": {},
   "source": [
    "Необходимо рассмотреть корреляцию признаков с оттоком. Поскольку отток (churn) дискретная величина, то зависимость будет нелинейной. Поэтому коэффициент корреляции Пирсона некорректен. Для расчет взаимосвязи будем использовать метод, который базируется на подсчете хи-квадрат статистики. Этот метод работает со всеми данными: интервальными, категориальными и порядковыми. Поэтому нет необходимости дополнительного кодирования категориальных данных."
   ]
  },
  {
   "cell_type": "code",
   "execution_count": 77,
   "id": "94ee54ea",
   "metadata": {},
   "outputs": [
    {
     "data": {
      "image/png": "[encoded data removed]",
      "text/plain": [
       "<Figure size 640x480 with 2 Axes>"
      ]
     },
     "metadata": {},
     "output_type": "display_data"
    }
   ],
   "source": [
    "phik_overview = df_filtered[['score','city','gender','age','equity','balance','products','credit_card','last_activity','est_salary','churn']].phik_matrix(interval_cols=['est_salary', 'age', 'balance'])\n",
    "sns.heatmap(phik_overview, annot=True, fmt=\".2f\");"
   ]
  },
  {
   "cell_type": "code",
   "execution_count": 78,
   "id": "0f7ba012",
   "metadata": {},
   "outputs": [
    {
     "data": {
      "text/html": [
       "<style  type=\"text/css\" >\n",
       "#T_4ea9b_row0_col1{\n",
       "            background-color:  #023858;\n",
       "            color:  #f1f1f1;\n",
       "        }#T_4ea9b_row1_col1{\n",
       "            background-color:  #046096;\n",
       "            color:  #f1f1f1;\n",
       "        }#T_4ea9b_row2_col1{\n",
       "            background-color:  #157ab5;\n",
       "            color:  #000000;\n",
       "        }#T_4ea9b_row3_col1{\n",
       "            background-color:  #2a88bc;\n",
       "            color:  #000000;\n",
       "        }#T_4ea9b_row4_col1{\n",
       "            background-color:  #2f8bbe;\n",
       "            color:  #000000;\n",
       "        }#T_4ea9b_row5_col1{\n",
       "            background-color:  #308cbe;\n",
       "            color:  #000000;\n",
       "        }#T_4ea9b_row6_col1{\n",
       "            background-color:  #4897c4;\n",
       "            color:  #000000;\n",
       "        }#T_4ea9b_row7_col1{\n",
       "            background-color:  #b7c5df;\n",
       "            color:  #000000;\n",
       "        }#T_4ea9b_row8_col1{\n",
       "            background-color:  #d9d8ea;\n",
       "            color:  #000000;\n",
       "        }#T_4ea9b_row9_col1{\n",
       "            background-color:  #fff7fb;\n",
       "            color:  #000000;\n",
       "        }</style><table id=\"T_4ea9b_\" ><thead>    <tr>        <th class=\"blank level0\" ></th>        <th class=\"col_heading level0 col0\" >Параметр</th>        <th class=\"col_heading level0 col1\" >Корреляция</th>    </tr></thead><tbody>\n",
       "                <tr>\n",
       "                        <th id=\"T_4ea9b_level0_row0\" class=\"row_heading level0 row0\" >4</th>\n",
       "                        <td id=\"T_4ea9b_row0_col0\" class=\"data row0 col0\" >equity</td>\n",
       "                        <td id=\"T_4ea9b_row0_col1\" class=\"data row0 col1\" >0.30</td>\n",
       "            </tr>\n",
       "            <tr>\n",
       "                        <th id=\"T_4ea9b_level0_row1\" class=\"row_heading level0 row1\" >8</th>\n",
       "                        <td id=\"T_4ea9b_row1_col0\" class=\"data row1 col0\" >last_activity</td>\n",
       "                        <td id=\"T_4ea9b_row1_col1\" class=\"data row1 col1\" >0.25</td>\n",
       "            </tr>\n",
       "            <tr>\n",
       "                        <th id=\"T_4ea9b_level0_row2\" class=\"row_heading level0 row2\" >7</th>\n",
       "                        <td id=\"T_4ea9b_row2_col0\" class=\"data row2 col0\" >credit_card</td>\n",
       "                        <td id=\"T_4ea9b_row2_col1\" class=\"data row2 col1\" >0.22</td>\n",
       "            </tr>\n",
       "            <tr>\n",
       "                        <th id=\"T_4ea9b_level0_row3\" class=\"row_heading level0 row3\" >0</th>\n",
       "                        <td id=\"T_4ea9b_row3_col0\" class=\"data row3 col0\" >score</td>\n",
       "                        <td id=\"T_4ea9b_row3_col1\" class=\"data row3 col1\" >0.20</td>\n",
       "            </tr>\n",
       "            <tr>\n",
       "                        <th id=\"T_4ea9b_level0_row4\" class=\"row_heading level0 row4\" >2</th>\n",
       "                        <td id=\"T_4ea9b_row4_col0\" class=\"data row4 col0\" >gender</td>\n",
       "                        <td id=\"T_4ea9b_row4_col1\" class=\"data row4 col1\" >0.20</td>\n",
       "            </tr>\n",
       "            <tr>\n",
       "                        <th id=\"T_4ea9b_level0_row5\" class=\"row_heading level0 row5\" >3</th>\n",
       "                        <td id=\"T_4ea9b_row5_col0\" class=\"data row5 col0\" >age</td>\n",
       "                        <td id=\"T_4ea9b_row5_col1\" class=\"data row5 col1\" >0.20</td>\n",
       "            </tr>\n",
       "            <tr>\n",
       "                        <th id=\"T_4ea9b_level0_row6\" class=\"row_heading level0 row6\" >5</th>\n",
       "                        <td id=\"T_4ea9b_row6_col0\" class=\"data row6 col0\" >balance</td>\n",
       "                        <td id=\"T_4ea9b_row6_col1\" class=\"data row6 col1\" >0.18</td>\n",
       "            </tr>\n",
       "            <tr>\n",
       "                        <th id=\"T_4ea9b_level0_row7\" class=\"row_heading level0 row7\" >6</th>\n",
       "                        <td id=\"T_4ea9b_row7_col0\" class=\"data row7 col0\" >products</td>\n",
       "                        <td id=\"T_4ea9b_row7_col1\" class=\"data row7 col1\" >0.11</td>\n",
       "            </tr>\n",
       "            <tr>\n",
       "                        <th id=\"T_4ea9b_level0_row8\" class=\"row_heading level0 row8\" >9</th>\n",
       "                        <td id=\"T_4ea9b_row8_col0\" class=\"data row8 col0\" >est_salary</td>\n",
       "                        <td id=\"T_4ea9b_row8_col1\" class=\"data row8 col1\" >0.07</td>\n",
       "            </tr>\n",
       "            <tr>\n",
       "                        <th id=\"T_4ea9b_level0_row9\" class=\"row_heading level0 row9\" >1</th>\n",
       "                        <td id=\"T_4ea9b_row9_col0\" class=\"data row9 col0\" >city</td>\n",
       "                        <td id=\"T_4ea9b_row9_col1\" class=\"data row9 col1\" >0.01</td>\n",
       "            </tr>\n",
       "    </tbody></table>"
      ],
      "text/plain": [
       "<pandas.io.formats.style.Styler at 0x1bc0f4f1550>"
      ]
     },
     "execution_count": 78,
     "metadata": {},
     "output_type": "execute_result"
    }
   ],
   "source": [
    "pt = pd.DataFrame({'Параметр':phik_overview['churn'].index, 'Корреляция':phik_overview['churn'].values})\n",
    "pt = pt[pt['Параметр']!='churn']\n",
    "pt= pt.sort_values(by = 'Корреляция', ascending=False)\n",
    "pt.style.background_gradient(subset = ['Корреляция'], axis=None).format({'Корреляция':\"{:.2f}\"})"
   ]
  },
  {
   "cell_type": "markdown",
   "id": "501e6561",
   "metadata": {},
   "source": [
    "<b>Вывод:</b>\n",
    "\n",
    "Если оценивать результаты исследования корреляции признаков по шкале Чеддока, все взаимосвязи с признаком оттока - слабые, только количество баллов собственности находится на границе с \"умеренной\"."
   ]
  },
  {
   "cell_type": "markdown",
   "id": "bd833928",
   "metadata": {},
   "source": [
    "## Проверка гипотез"
   ]
  },
  {
   "cell_type": "markdown",
   "id": "a37932db",
   "metadata": {},
   "source": [
    "Для дополнительной оценки значимых признаков проведем проверку гипотез по признакам, которые не были выделены ранее:\n",
    "- score\n",
    "- age\n",
    "- products\n",
    "- credit_card\n",
    "- est_salary"
   ]
  },
  {
   "cell_type": "markdown",
   "id": "7a2e04bc",
   "metadata": {},
   "source": [
    "Для проверки гипотез о равенстве средних score, age, products, est_salary будем использовать t-теста, т.к.:\n",
    "\n",
    "- выборки независимые;\n",
    "- выборки большие (>30), по ЦПТ выборочные средние распределены нормально;\n",
    "- дисперсии неизвестны, необхомид использовать параметр equal_var при проведении теста."
   ]
  },
  {
   "cell_type": "code",
   "execution_count": 79,
   "id": "64eae188",
   "metadata": {},
   "outputs": [],
   "source": [
    "alpha = 1-(1-0.05)**(1/5)"
   ]
  },
  {
   "cell_type": "code",
   "execution_count": 80,
   "id": "f3add5d7",
   "metadata": {},
   "outputs": [],
   "source": [
    "def H_testing_ttest(col):\n",
    "    '''\n",
    "    Функция проверки гипотез\n",
    "    '''\n",
    "    results = stats.ttest_ind(df_filtered[df_filtered['churn']==1][col], df_filtered[df_filtered['churn']!=1][col], equal_var=False)\n",
    "    print('p-значение: ', results.pvalue)\n",
    "    if results.pvalue < alpha:\n",
    "        print('Отвергаем нулевую гипотезу: разница статистически значима')\n",
    "    else:\n",
    "        print('Не получилось отвергнуть нулевую гипотезу, вывод о различии сделать нельзя')"
   ]
  },
  {
   "cell_type": "markdown",
   "id": "822f32ce",
   "metadata": {},
   "source": [
    "### Проверка гипотезы о равенстве среднего скоринга текущих и бывших клиентов"
   ]
  },
  {
   "cell_type": "markdown",
   "id": "d61f6700",
   "metadata": {},
   "source": [
    "H0: Средний банковский скоринг бывших клиентов равен среднему банковскому скорингу текущих клиентов\n",
    "\n",
    "Н1: Средний банковский скоринг бывших клиентов не равен среднему банковскому скорингу текущих клиентов"
   ]
  },
  {
   "cell_type": "code",
   "execution_count": 81,
   "id": "cb08074c",
   "metadata": {},
   "outputs": [
    {
     "name": "stdout",
     "output_type": "stream",
     "text": [
      "p-значение:  1.730984696174094e-10\n",
      "Отвергаем нулевую гипотезу: разница статистически значима\n"
     ]
    }
   ],
   "source": [
    "H_testing_ttest('score')"
   ]
  },
  {
   "cell_type": "markdown",
   "id": "4ddf6cac",
   "metadata": {},
   "source": [
    "По полученным результатам проверки гипотезы H0 была отвергута, средние банковские скоринги бывших и текущих клиентов не равно."
   ]
  },
  {
   "cell_type": "markdown",
   "id": "307c18ba",
   "metadata": {},
   "source": [
    "### Проверка гипотезы о равенстве средних заработных плат текущих и бывших клиентов"
   ]
  },
  {
   "cell_type": "markdown",
   "id": "67a06bfc",
   "metadata": {},
   "source": [
    "H0: Средняя заработная плата бывших клиентов равна средней заработной плате текущих клиентов\n",
    "\n",
    "Н1: Средняя заработная плата бывших клиентов не равна средней заработной плате текущих клиентов"
   ]
  },
  {
   "cell_type": "code",
   "execution_count": 82,
   "id": "b0fff27e",
   "metadata": {},
   "outputs": [
    {
     "name": "stdout",
     "output_type": "stream",
     "text": [
      "p-значение:  0.11312416496176218\n",
      "Не получилось отвергнуть нулевую гипотезу, вывод о различии сделать нельзя\n"
     ]
    }
   ],
   "source": [
    "H_testing_ttest('est_salary')"
   ]
  },
  {
   "cell_type": "markdown",
   "id": "d8d343b7",
   "metadata": {},
   "source": [
    "По полученным результатам проверки гипотезы H0 не удалось отвергнуть. Нет достаточных доказательств в поддержку утверждения о том, что средних заработных плат текущих и бывших клиентов не равны."
   ]
  },
  {
   "cell_type": "markdown",
   "id": "8d90dcd0",
   "metadata": {},
   "source": [
    "### Проверка гипотезы о равенстве среднего возраста текущих и бывших клиентов;"
   ]
  },
  {
   "cell_type": "markdown",
   "id": "956851bc",
   "metadata": {},
   "source": [
    "H0: Средний возраст бывших клиентов равен среднему возрасту текущих клиентов\n",
    "\n",
    "Н1: Средний возраст бывших клиентов не равен среднему возрасту текущих клиентов"
   ]
  },
  {
   "cell_type": "code",
   "execution_count": 83,
   "id": "477d05c2",
   "metadata": {},
   "outputs": [
    {
     "name": "stdout",
     "output_type": "stream",
     "text": [
      "p-значение:  1.8541875185316773e-05\n",
      "Отвергаем нулевую гипотезу: разница статистически значима\n"
     ]
    }
   ],
   "source": [
    "H_testing_ttest('age')"
   ]
  },
  {
   "cell_type": "markdown",
   "id": "2dfdffeb",
   "metadata": {},
   "source": [
    "По полученным результатам проверки гипотезы H0 была отвергута, средний возраст бывших клиентов не равен среднему возрасту  текущих клиентов."
   ]
  },
  {
   "cell_type": "markdown",
   "id": "3cd31187",
   "metadata": {},
   "source": [
    "### Проверка гипотезы о равенстве среднего количества используемых банковских продуктов текущих и бывших клиентов"
   ]
  },
  {
   "cell_type": "markdown",
   "id": "1f467623",
   "metadata": {},
   "source": [
    "H0: Среднее количество банковских продуктов бывших клиентов равно среднему количеству банковских продуктов текущих клиентов\n",
    "\n",
    "Н1: Среднее количество банковских продуктов бывших клиентов не равно среднему количеству банковских продуктов текущих клиентов"
   ]
  },
  {
   "cell_type": "code",
   "execution_count": 84,
   "id": "558673f4",
   "metadata": {},
   "outputs": [
    {
     "name": "stdout",
     "output_type": "stream",
     "text": [
      "p-значение:  6.108638592767594e-62\n",
      "Отвергаем нулевую гипотезу: разница статистически значима\n"
     ]
    }
   ],
   "source": [
    "H_testing_ttest('products')"
   ]
  },
  {
   "cell_type": "markdown",
   "id": "2d445977",
   "metadata": {},
   "source": [
    "По полученным результатам проверки гипотезы H0 была отвергута, среднее количество банковских продуктов бывших и текущих клиентов различно."
   ]
  },
  {
   "cell_type": "markdown",
   "id": "3b0beac2",
   "metadata": {},
   "source": [
    "### Проверка гипотезы о равенстве долей держателей кредитных карт текущих и бывших клиентов."
   ]
  },
  {
   "cell_type": "markdown",
   "id": "a0935f59",
   "metadata": {},
   "source": [
    "Для проверки гипотезы о равенстве долей используем z-test\n",
    "\n",
    "Н0: доли держателей кредитных карт бывших и текущих клиентов равны\n",
    "\n",
    "Н1: доли держателей кредитных карт бывших и текущих клиентов не равны\n"
   ]
  },
  {
   "cell_type": "code",
   "execution_count": 85,
   "id": "d5b2b3a6",
   "metadata": {},
   "outputs": [
    {
     "name": "stdout",
     "output_type": "stream",
     "text": [
      "p-значение:  1.3247241975320083e-38\n",
      "Отвергаем нулевую гипотезу: между долями есть значимая разница\n"
     ]
    }
   ],
   "source": [
    "#количество держателей кредитных карт бывших и текущих клиентов\n",
    "count = np.array([len(df_filtered[(df_filtered['churn']==1)&(df_filtered['credit_card']==1)]), \n",
    "                  len(df_filtered[(df_filtered['churn']!=1)&(df_filtered['credit_card']==1)])])\n",
    "#количество бывших и текущих клиентов\n",
    "nobs = np.array([len(df_filtered[(df_filtered['churn']==1)]), len(df_filtered[df_filtered['churn']!=1])])\n",
    "\n",
    "results = proportions_ztest(count, nobs)\n",
    "\n",
    "print('p-значение: ', results[1])\n",
    "\n",
    "if results[1] < alpha:\n",
    "    print('Отвергаем нулевую гипотезу: между долями есть значимая разница')\n",
    "else:\n",
    "    print('Не получилось отвергнуть нулевую гипотезу, нет оснований считать доли разными') \n"
   ]
  },
  {
   "cell_type": "markdown",
   "id": "7effa126",
   "metadata": {},
   "source": [
    "По полученным результатам проверки гипотезы H0 была отвергута, между долями держателей кредитных карт текущих и бывших клиентов есть значимая разница."
   ]
  },
  {
   "cell_type": "markdown",
   "id": "d9ac784c",
   "metadata": {},
   "source": [
    "<b>Вывод:</b>\n",
    "\n",
    "Проверка гипотез показала, что к значимым признакам оттока можно отнести:\n",
    "- банковский скоринг;\n",
    "- возраст;\n",
    "- количество банковских продуктов;\n",
    "- наличие кредитных карт."
   ]
  },
  {
   "cell_type": "markdown",
   "id": "cf14f120",
   "metadata": {},
   "source": [
    "## Промежуточные итоги"
   ]
  },
  {
   "cell_type": "markdown",
   "id": "ecb95b06",
   "metadata": {},
   "source": [
    "Для сегментации клиентов выделим следующие значимые характеристики и диапозоны значений:\n",
    "\n",
    "0. Банковский скоринг (score) - от 830 до 900.\n",
    "1. Пол (gender) - мужской.\n",
    "2. Возраст (age) - 25-35 и 50-61.\n",
    "3. Баллы собственности (equity) - 3-5.\n",
    "4. Баланс (balance) - больше 750000.\n",
    "5. Количество банковских продуктов (products) - больше 1.\n",
    "6. Наличие кредитной карты (credit_card) - нет кредитной карты."
   ]
  },
  {
   "cell_type": "markdown",
   "id": "dfea02b8",
   "metadata": {},
   "source": [
    "## Сегментация клиентов "
   ]
  },
  {
   "cell_type": "markdown",
   "id": "66f05230",
   "metadata": {},
   "source": [
    "По тех. заданию должно быть выделено минимум 3 сегмента, каждый сегмент должен быть большее 500 человек и уровень оттока в сегменте выше, чем уровень оттока по банку. "
   ]
  },
  {
   "cell_type": "code",
   "execution_count": 86,
   "id": "7115504a",
   "metadata": {},
   "outputs": [
    {
     "name": "stdout",
     "output_type": "stream",
     "text": [
      "Уровень оттока по банку: 15.37%\n"
     ]
    }
   ],
   "source": [
    "# уровень оттока по банку\n",
    "print(f'Уровень оттока по банку: {churn_level}%')"
   ]
  },
  {
   "cell_type": "code",
   "execution_count": 87,
   "id": "d3e41159",
   "metadata": {},
   "outputs": [],
   "source": [
    "# условия для сегментации\n",
    "c0 = df_filtered[(df_filtered['score']>=830)&(df_filtered['score']<=900)]\n",
    "c1 = df_filtered[df_filtered['gender']=='М']\n",
    "c2 = df_filtered[(df_filtered['age']>=25)&(df_filtered['age']<=35)|(df_filtered['age']>=50)&(df_filtered['age']<=61)]\n",
    "c3 = df_filtered[(df_filtered['equity']>=3)&(df_filtered['equity']<=5)]\n",
    "c4 = df_filtered[df_filtered['balance']>750000]\n",
    "c5 = df_filtered[df_filtered['products']>1]\n",
    "c6 = df_filtered[df_filtered['credit_card']==0]\n",
    "list_c = [c0,c1,c2,c3,c4,c5,c6]\n",
    "list_c_2 = [0,1,2,3,4,5, 6]"
   ]
  },
  {
   "cell_type": "markdown",
   "id": "237b2f7f",
   "metadata": {},
   "source": [
    "Поиск и приоритезируем комбинации признаков для деления на 3 сегмента по уровню оттока.\n",
    "\n",
    "\n",
    "Рассмотрим комбинации 2 и 3 признаков, т.к.:\n",
    "- с 1 признаком сложно подобрать рекоминдации\n",
    "- более 3 есть риск, что выделенный сегмент клиентов невосприимчивым к удержанию"
   ]
  },
  {
   "cell_type": "code",
   "execution_count": 88,
   "id": "5b9d9572",
   "metadata": {},
   "outputs": [
    {
     "data": {
      "text/plain": [
       "21"
      ]
     },
     "execution_count": 88,
     "metadata": {},
     "output_type": "execute_result"
    }
   ],
   "source": [
    "#комбинации с 2 условиями\n",
    "max_list_2 = []\n",
    "for i in range(len(list_c)-1):\n",
    "    for j in range(i+1, len(list_c)):\n",
    "        seg = pd.merge(list_c[i], list_c[j], how='inner')\n",
    "        if len(seg)>500:\n",
    "            max_list_2.append([[i, j], round(len(seg[seg['churn']==1])/len(seg)*100,2), len(seg)])\n",
    "len(max_list_2)            "
   ]
  },
  {
   "cell_type": "code",
   "execution_count": 89,
   "id": "ebef84b6",
   "metadata": {
    "scrolled": true
   },
   "outputs": [
    {
     "data": {
      "text/plain": [
       "28"
      ]
     },
     "execution_count": 89,
     "metadata": {},
     "output_type": "execute_result"
    }
   ],
   "source": [
    "#комбинации с 3 условиями\n",
    "max_list_3 = []\n",
    "for i in range(len(list_c)-2):\n",
    "    for j in range(i+1, len(list_c)-1):\n",
    "        for k in range(j+1, len(list_c)):\n",
    "            seg = pd.merge(list_c[i], list_c[j], how='inner')\n",
    "            seg = pd.merge(seg, list_c[k], how='inner')\n",
    "            if len(seg)>500:\n",
    "                max_list_3.append([[i, j, k], round(100*len(seg[seg['churn']==1])/len(seg),2), len(seg)])\n",
    "len(max_list_3) "
   ]
  },
  {
   "cell_type": "code",
   "execution_count": 90,
   "id": "a61de1cb",
   "metadata": {},
   "outputs": [],
   "source": [
    "# итоговый список комбинаций\n",
    "max_list = max_list_2 + max_list_3"
   ]
  },
  {
   "cell_type": "code",
   "execution_count": 91,
   "id": "62c6a531",
   "metadata": {},
   "outputs": [],
   "source": [
    "#все комбинации из списка комбинаций для 3 сегментов\n",
    "comb_list = list(combinations(max_list, 3))"
   ]
  },
  {
   "cell_type": "code",
   "execution_count": 92,
   "id": "27a3d6f9",
   "metadata": {},
   "outputs": [
    {
     "data": {
      "text/plain": [
       "[[[0, 2, 6], [1, 3, 6], [2, 4, 5]], 124.75]"
      ]
     },
     "execution_count": 92,
     "metadata": {},
     "output_type": "execute_result"
    }
   ],
   "source": [
    "#проверка условия неповторения признаков, выбор лучшего сочетания комбинаций\n",
    "final_list = [] #список комбинаций, где не повторяются признаки\n",
    "for item in comb_list:\n",
    "    c_list = [] # список признаков\n",
    "    com_list = [] #список комбинаций признаков сегментов\n",
    "    c_sum = 0 # уровень оттока\n",
    "    for j in range(0, 3):\n",
    "        c_list = c_list + item[j][0]\n",
    "        com_list.append(item[j][0])\n",
    "        c_sum += item[j][1] \n",
    "    if len(set(c_list))==7:    \n",
    "        final_list.append([com_list, c_sum])\n",
    "final_list = sorted(final_list, key=lambda row: row[1], reverse = True) \n",
    "best_c = final_list[0]\n",
    "best_c"
   ]
  },
  {
   "cell_type": "code",
   "execution_count": 93,
   "id": "1f8650e5",
   "metadata": {},
   "outputs": [
    {
     "data": {
      "text/plain": [
       "[[[0, 2, 6], [1, 3, 6], [2, 4, 5]], 124.75]"
      ]
     },
     "execution_count": 93,
     "metadata": {},
     "output_type": "execute_result"
    }
   ],
   "source": [
    "#проверка условия неповторения признаков, выбор лучшего сочетания комбинаций\n",
    "final_list = [] #список комбинаций, где не повторяются признаки\n",
    "for item in comb_list:\n",
    "    c_list = [] # список признаков\n",
    "    com_list = [] #список комбинаций признаков сегментов\n",
    "    c_sum = 0 # уровень оттока\n",
    "    for j in range(0, 3):\n",
    "        c_list = c_list + item[j][0]\n",
    "        com_list.append(item[j][0])\n",
    "        c_sum += item[j][1] \n",
    " \n",
    "    if len(set(c_list))==7:\n",
    "        dup_list=[]\n",
    "        flag_all=0\n",
    "        for m in range(0, 2):\n",
    "            for n in range(m+1, 3):\n",
    "                dup_item=[]\n",
    "                flag=0\n",
    "                dup_item = list(set(com_list[m]) & set(com_list[n]))   \n",
    "                if (len(dup_item)>1):\n",
    "                    flag = 1\n",
    "                flag_all=flag_all+flag\n",
    "                dup_list=dup_list+dup_item\n",
    "        if (len(set(dup_list))==len(dup_list)) and (flag_all==0):        \n",
    "            final_list.append([com_list, c_sum])                 \n",
    "final_list = sorted(final_list, key=lambda row: row[1], reverse = True) \n",
    "best_c = final_list[0]\n",
    "best_c"
   ]
  },
  {
   "cell_type": "code",
   "execution_count": 94,
   "id": "c6331f69",
   "metadata": {},
   "outputs": [
    {
     "name": "stdout",
     "output_type": "stream",
     "text": [
      "Сегмент с признаками [0, 2, 6]\n",
      "Объем сегмента: 612\n",
      "Уровень оттока: 41.99\n",
      "\n",
      "Сегмент с признаками [1, 3, 6]\n",
      "Объем сегмента: 625\n",
      "Уровень оттока: 42.4\n",
      "\n",
      "Сегмент с признаками [2, 4, 5]\n",
      "Объем сегмента: 830\n",
      "Уровень оттока: 40.36\n",
      "\n"
     ]
    }
   ],
   "source": [
    "# вывод информации о сегментах: номера признаков, объем сегмента, уровень оттока\n",
    "temp = df_filtered.loc[0:0].drop(index=[0])\n",
    "seg = df_filtered.loc[0:0].drop(index=[0])\n",
    "for i in range(3):\n",
    "    temp = df_filtered.loc[0:0].drop(index=[0])\n",
    "    print(f\"Сегмент с признаками {best_c[0][i]}\")\n",
    "    count = 0\n",
    "    for j in range(len(best_c[0][i])):\n",
    "        if count>0:\n",
    "            temp = temp.append(list_c[best_c[0][i][j]]) # объединение таблиц\n",
    "            seg = temp[temp.duplicated()] # поиск дубликатов = пересечение 2 таблиц\n",
    "        else:\n",
    "            seg = temp.append(list_c[best_c[0][i][j]])\n",
    "        temp = seg\n",
    "        count+=1\n",
    "    print('Объем сегмента:', len(seg))\n",
    "    print('Уровень оттока:', round(100*len(seg[seg['churn']==1])/len(seg),2))\n",
    "    print()"
   ]
  },
  {
   "cell_type": "markdown",
   "id": "86d6ed25",
   "metadata": {
    "scrolled": true
   },
   "source": [
    "Определились 3 сегмента с наилучшим сочетанием уровней оттока. Приоритезизуем сегменты по уровню оттока:\n",
    "\n",
    "Сегмент 1\n",
    "\n",
    "    - Признаки 1, 3, 6 - пол, баллы собственности, наличие кредитной карты\n",
    "    - Объем сегмента: 625\n",
    "    - Уровень оттока: 42.4\n",
    "\n",
    "Сегмент 2\n",
    "\n",
    "    - Признаки 0, 2, 6 - банковский скоринг, возраст, количество банковских продуктов \n",
    "    - Объем сегмента: 612\n",
    "    - Уровень оттока: 41.99\n",
    "\n",
    "Сегмент 3\n",
    "\n",
    "    - Признаки 2, 4, 5 - возраст, баланс, наличие кредитной карты\n",
    "    - Объем сегмента: 830\n",
    "    - Уровень оттока: 40.36\n"
   ]
  },
  {
   "cell_type": "markdown",
   "id": "f8656da5",
   "metadata": {},
   "source": [
    "## Вывод и выдача рекомендаций"
   ]
  },
  {
   "cell_type": "markdown",
   "id": "b0460950",
   "metadata": {},
   "source": [
    "По предоставленным данных о клиента банка «Метанпромбанк» был проведен анализ оттока. \n",
    "\n",
    "На этапе <b><i> исследования данных </i></b> был составлен портрет клиентов, которые ушли из банка и выделены в качестве значимых признаков оттока:\n",
    "- <b>пол</b> (gender) клиента, а конкретнее отток мужчин выше, чем женщин;\n",
    "- <b>баланс</b> (balance) клиента, а конкретнее средний баланс бывших клиентов на 27% выше среднего баланса текущих клиентов.\n",
    "\n",
    "Оценка <b><i>корреляция</i></b> показала слабую тесноту связи по всем признакам, за исключение <b>количества баллов собственности</b> (equity) находится, где теснота связи на границе с умеренной.\n",
    "\n",
    "Проверка <b><i>гипотез</i></b> опровергла нулевые гипотезы о равенстве:\n",
    "- <b>банковского скоринга</b> бывших и текущих клиентов;\n",
    "- <b>возраста</b> бывших и текущих клиентов;\n",
    "- <b>количества банковских продуктов</b> бывших и текущих клиентов;\n",
    "- долей <b>держателей кредитных карт</b> текущих и бывших клиентов.\n",
    "\n",
    "Таким образом для сегментации выбраны следующие параметры и диапазоны:\n",
    "- банковский скоринг (score) - от 830 до 900.\n",
    "- пол (gender) - мужской.\n",
    "- возраст (age) - 25-35 и 50-61.\n",
    "- баллы собственности (equity) - 3-5.\n",
    "- баланс (balance) - больше 750000.\n",
    "- количество банковских продуктов (products) - больше 1.\n",
    "- наличие кредитной карты (credit_card) - нет кредитной карты.\n",
    "\n",
    "Выделены следующие сегменты:\n",
    "\n",
    "- по признакам: пол, баллы собственности, наличие кредитной карт (отток 42.4%, количество клиентов 625).\n",
    "- по признакам: возраст, баланс (отток 38.14%, количество клиентов 957).\n",
    "- по признакам: банковский скоринг, количество банковских продуктов (отток 26.64%, количество клиентов 2324).\n",
    "\n",
    "\n",
    "<b><i>Общие рекомендации:</i></b>\n",
    "\n",
    "- создать систему автоматизированных рассылок для информирования клиентов о продуктах банка;\n",
    "- проведение опроса у бывших клиентов о причинах ухода;\n",
    "- проведение опроса у текущих клиентов о возможных улучшениях;\n",
    "\n",
    "<b><i>Рекомендации по сегментам:</i></b>\n",
    "\n",
    "1. Мужчина с баллами собственности 3-5 без кредитной карт:\n",
    "    - предложить кредит с пониженной процентной ставкой под залог собственности;\n",
    "    - пересмотреть список видов собственности для залога (возможно добавить автомобили, дачи, участки);\n",
    "    - расширение партнерской программы со строительными и мебельными магазинами, магазинами автомобильных запчастей, заправок и др. для увеличения процента кэшбека по кредитной карте.\n",
    "    - программа бесплатного страхования собственности к кредитной карте при использовании определенного лимита в месяц. \n",
    "\n",
    "\n",
    "2. Клиент в возрасте  25-35 лет и 50-61 с банковский скоринг 830-900, имеющий более 1 банковского продукта:\n",
    "    - возможность изменения шкалы скоринга по возрасту для улучшения условий уже существующих продуктов (снижение процентов по кредитам, увеличение срока беспроцентного использования кредитной картой, рефинансирование кредитов; изменение стоимости обслуживания по счетам и картам);\n",
    "    - ввести программу премиального обслуживания или расширить до скоринга 830 при наличии нескольких продуктов (например, персональный менеджер, приоритизация заявок и обращений, расширение программы бонусов и кэшбеков).\n",
    "    \n",
    "\n",
    "3. Клиент в возрасте  25-35 лет и 50-61 лет с балансом более 750000 и без кредитной карты:\n",
    "    - предложить инвестиционный продукт, если существует, или разработать его (обязательное условие – доступность информации о рисках, возможностях и гарантиях);\n",
    "    - предложить более выгодные условия по вкладу или накопительному счету: больше процент, возможность снятия/пополнения, увеличенный лимиты снятия/пополнения, гибкая корректировка срока вкладов и выплата процентов, улучшенные условия досрочного закрытия.\n",
    "    - расширение линейки целевых кредитов с первоначальным взносом с пониженной ставкой (земельные участки, медицинское обслуживание, гараж/паркинг);\n",
    "    - предложить кредитную карту с улучшенными условия (бонусная программа и увеличенный лимит)"
   ]
  },
  {
   "cell_type": "markdown",
   "id": "c279ceae",
   "metadata": {},
   "source": [
    "<b>Материалы:</b>\n",
    "\n",
    "<a href=\"https://disk.yandex.ru/i/KShR438SjorHBA\">Презентация</a>\n",
    "\n",
    "<a href=\"https://public.tableau.com/views/Banks_churn/ds_banks?:language=en-US&publish=yes&:display_count=n&:origin=viz_share_link\">Дашборд</a>\n",
    "\n"
   ]
  }
 ],
 "metadata": {
  "kernelspec": {
   "display_name": "Python 3 (ipykernel)",
   "language": "python",
   "name": "python3"
  },
  "language_info": {
   "codemirror_mode": {
    "name": "ipython",
    "version": 3
   },
   "file_extension": ".py",
   "mimetype": "text/x-python",
   "name": "python",
   "nbconvert_exporter": "python",
   "pygments_lexer": "ipython3",
   "version": "3.9.15"
  },
  "toc": {
   "base_numbering": 1,
   "nav_menu": {},
   "number_sections": true,
   "sideBar": true,
   "skip_h1_title": true,
   "title_cell": "Table of Contents",
   "title_sidebar": "Contents",
   "toc_cell": false,
   "toc_position": {
    "height": "calc(100% - 180px)",
    "left": "10px",
    "top": "150px",
    "width": "475.2px"
   },
   "toc_section_display": true,
   "toc_window_display": true
  }
 },
 "nbformat": 4,
 "nbformat_minor": 5
}
